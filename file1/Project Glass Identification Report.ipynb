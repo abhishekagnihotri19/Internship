{
 "cells": [
  {
   "cell_type": "markdown",
   "id": "589e477e",
   "metadata": {},
   "source": [
    "<span style=\"color:RED;font-size: 22px;font-family: verdana;font-weight: bold \">PROJECT: GLASS IDENTIFICATION REPORT</span>"
   ]
  },
  {
   "cell_type": "markdown",
   "id": "8385f7d7",
   "metadata": {},
   "source": [
    "<span style=\"color:RED;font-size: 22px;font-family: verdana;font-weight: bold \">BATCH NUMBER : DS2309</span>"
   ]
  },
  {
   "cell_type": "markdown",
   "id": "6eab0cb8",
   "metadata": {},
   "source": [
    "<span style=\"color:RED;font-size: 22px;font-family: verdana;font-weight: bold \">NAME: ABHISHEK AGNIHOTRI</span>"
   ]
  },
  {
   "cell_type": "code",
   "execution_count": 1,
   "id": "af53a043",
   "metadata": {},
   "outputs": [],
   "source": [
    "import numpy as np\n",
    "import pandas as pd\n",
    "import matplotlib.pyplot as plt\n",
    "import seaborn as sns\n",
    "from scipy import stats\n",
    "from scipy.stats import boxcox\n",
    "from sklearn.preprocessing import LabelEncoder\n",
    "\n",
    "\n",
    "from sklearn.preprocessing import StandardScaler\n",
    "from statsmodels.stats.outliers_influence import variance_inflation_factor\n",
    "\n",
    "from sklearn.model_selection import cross_val_score\n",
    "from sklearn.model_selection import train_test_split\n",
    "from sklearn.metrics import accuracy_score,confusion_matrix, classification_report\n",
    "import warnings\n",
    "warnings.filterwarnings('ignore')"
   ]
  },
  {
   "cell_type": "markdown",
   "id": "6f5a93d1",
   "metadata": {},
   "source": [
    "<span style=\"color:Blue;font-size: 22px;font-family: verdana;font-weight: bold \">LOADING DATASET</span>"
   ]
  },
  {
   "cell_type": "code",
   "execution_count": 2,
   "id": "6c1ffe54",
   "metadata": {},
   "outputs": [
    {
     "data": {
      "text/html": [
       "<div>\n",
       "<style scoped>\n",
       "    .dataframe tbody tr th:only-of-type {\n",
       "        vertical-align: middle;\n",
       "    }\n",
       "\n",
       "    .dataframe tbody tr th {\n",
       "        vertical-align: top;\n",
       "    }\n",
       "\n",
       "    .dataframe thead th {\n",
       "        text-align: right;\n",
       "    }\n",
       "</style>\n",
       "<table border=\"1\" class=\"dataframe\">\n",
       "  <thead>\n",
       "    <tr style=\"text-align: right;\">\n",
       "      <th></th>\n",
       "      <th>0</th>\n",
       "      <th>1</th>\n",
       "      <th>2</th>\n",
       "      <th>3</th>\n",
       "      <th>4</th>\n",
       "      <th>5</th>\n",
       "      <th>6</th>\n",
       "      <th>7</th>\n",
       "      <th>8</th>\n",
       "      <th>9</th>\n",
       "      <th>10</th>\n",
       "    </tr>\n",
       "  </thead>\n",
       "  <tbody>\n",
       "    <tr>\n",
       "      <th>0</th>\n",
       "      <td>1</td>\n",
       "      <td>1.52101</td>\n",
       "      <td>13.64</td>\n",
       "      <td>4.49</td>\n",
       "      <td>1.10</td>\n",
       "      <td>71.78</td>\n",
       "      <td>0.06</td>\n",
       "      <td>8.75</td>\n",
       "      <td>0.00</td>\n",
       "      <td>0.0</td>\n",
       "      <td>1</td>\n",
       "    </tr>\n",
       "    <tr>\n",
       "      <th>1</th>\n",
       "      <td>2</td>\n",
       "      <td>1.51761</td>\n",
       "      <td>13.89</td>\n",
       "      <td>3.60</td>\n",
       "      <td>1.36</td>\n",
       "      <td>72.73</td>\n",
       "      <td>0.48</td>\n",
       "      <td>7.83</td>\n",
       "      <td>0.00</td>\n",
       "      <td>0.0</td>\n",
       "      <td>1</td>\n",
       "    </tr>\n",
       "    <tr>\n",
       "      <th>2</th>\n",
       "      <td>3</td>\n",
       "      <td>1.51618</td>\n",
       "      <td>13.53</td>\n",
       "      <td>3.55</td>\n",
       "      <td>1.54</td>\n",
       "      <td>72.99</td>\n",
       "      <td>0.39</td>\n",
       "      <td>7.78</td>\n",
       "      <td>0.00</td>\n",
       "      <td>0.0</td>\n",
       "      <td>1</td>\n",
       "    </tr>\n",
       "    <tr>\n",
       "      <th>3</th>\n",
       "      <td>4</td>\n",
       "      <td>1.51766</td>\n",
       "      <td>13.21</td>\n",
       "      <td>3.69</td>\n",
       "      <td>1.29</td>\n",
       "      <td>72.61</td>\n",
       "      <td>0.57</td>\n",
       "      <td>8.22</td>\n",
       "      <td>0.00</td>\n",
       "      <td>0.0</td>\n",
       "      <td>1</td>\n",
       "    </tr>\n",
       "    <tr>\n",
       "      <th>4</th>\n",
       "      <td>5</td>\n",
       "      <td>1.51742</td>\n",
       "      <td>13.27</td>\n",
       "      <td>3.62</td>\n",
       "      <td>1.24</td>\n",
       "      <td>73.08</td>\n",
       "      <td>0.55</td>\n",
       "      <td>8.07</td>\n",
       "      <td>0.00</td>\n",
       "      <td>0.0</td>\n",
       "      <td>1</td>\n",
       "    </tr>\n",
       "    <tr>\n",
       "      <th>...</th>\n",
       "      <td>...</td>\n",
       "      <td>...</td>\n",
       "      <td>...</td>\n",
       "      <td>...</td>\n",
       "      <td>...</td>\n",
       "      <td>...</td>\n",
       "      <td>...</td>\n",
       "      <td>...</td>\n",
       "      <td>...</td>\n",
       "      <td>...</td>\n",
       "      <td>...</td>\n",
       "    </tr>\n",
       "    <tr>\n",
       "      <th>209</th>\n",
       "      <td>210</td>\n",
       "      <td>1.51623</td>\n",
       "      <td>14.14</td>\n",
       "      <td>0.00</td>\n",
       "      <td>2.88</td>\n",
       "      <td>72.61</td>\n",
       "      <td>0.08</td>\n",
       "      <td>9.18</td>\n",
       "      <td>1.06</td>\n",
       "      <td>0.0</td>\n",
       "      <td>7</td>\n",
       "    </tr>\n",
       "    <tr>\n",
       "      <th>210</th>\n",
       "      <td>211</td>\n",
       "      <td>1.51685</td>\n",
       "      <td>14.92</td>\n",
       "      <td>0.00</td>\n",
       "      <td>1.99</td>\n",
       "      <td>73.06</td>\n",
       "      <td>0.00</td>\n",
       "      <td>8.40</td>\n",
       "      <td>1.59</td>\n",
       "      <td>0.0</td>\n",
       "      <td>7</td>\n",
       "    </tr>\n",
       "    <tr>\n",
       "      <th>211</th>\n",
       "      <td>212</td>\n",
       "      <td>1.52065</td>\n",
       "      <td>14.36</td>\n",
       "      <td>0.00</td>\n",
       "      <td>2.02</td>\n",
       "      <td>73.42</td>\n",
       "      <td>0.00</td>\n",
       "      <td>8.44</td>\n",
       "      <td>1.64</td>\n",
       "      <td>0.0</td>\n",
       "      <td>7</td>\n",
       "    </tr>\n",
       "    <tr>\n",
       "      <th>212</th>\n",
       "      <td>213</td>\n",
       "      <td>1.51651</td>\n",
       "      <td>14.38</td>\n",
       "      <td>0.00</td>\n",
       "      <td>1.94</td>\n",
       "      <td>73.61</td>\n",
       "      <td>0.00</td>\n",
       "      <td>8.48</td>\n",
       "      <td>1.57</td>\n",
       "      <td>0.0</td>\n",
       "      <td>7</td>\n",
       "    </tr>\n",
       "    <tr>\n",
       "      <th>213</th>\n",
       "      <td>214</td>\n",
       "      <td>1.51711</td>\n",
       "      <td>14.23</td>\n",
       "      <td>0.00</td>\n",
       "      <td>2.08</td>\n",
       "      <td>73.36</td>\n",
       "      <td>0.00</td>\n",
       "      <td>8.62</td>\n",
       "      <td>1.67</td>\n",
       "      <td>0.0</td>\n",
       "      <td>7</td>\n",
       "    </tr>\n",
       "  </tbody>\n",
       "</table>\n",
       "<p>214 rows × 11 columns</p>\n",
       "</div>"
      ],
      "text/plain": [
       "      0        1      2     3     4      5     6     7     8    9   10\n",
       "0      1  1.52101  13.64  4.49  1.10  71.78  0.06  8.75  0.00  0.0   1\n",
       "1      2  1.51761  13.89  3.60  1.36  72.73  0.48  7.83  0.00  0.0   1\n",
       "2      3  1.51618  13.53  3.55  1.54  72.99  0.39  7.78  0.00  0.0   1\n",
       "3      4  1.51766  13.21  3.69  1.29  72.61  0.57  8.22  0.00  0.0   1\n",
       "4      5  1.51742  13.27  3.62  1.24  73.08  0.55  8.07  0.00  0.0   1\n",
       "..   ...      ...    ...   ...   ...    ...   ...   ...   ...  ...  ..\n",
       "209  210  1.51623  14.14  0.00  2.88  72.61  0.08  9.18  1.06  0.0   7\n",
       "210  211  1.51685  14.92  0.00  1.99  73.06  0.00  8.40  1.59  0.0   7\n",
       "211  212  1.52065  14.36  0.00  2.02  73.42  0.00  8.44  1.64  0.0   7\n",
       "212  213  1.51651  14.38  0.00  1.94  73.61  0.00  8.48  1.57  0.0   7\n",
       "213  214  1.51711  14.23  0.00  2.08  73.36  0.00  8.62  1.67  0.0   7\n",
       "\n",
       "[214 rows x 11 columns]"
      ]
     },
     "execution_count": 2,
     "metadata": {},
     "output_type": "execute_result"
    }
   ],
   "source": [
    "df=pd.read_csv(\"https://raw.githubusercontent.com/FlipRoboTechnologies/ML-Datasets/main/Glass%20Identification/Glass%20Identification.csv\", header=None)\n",
    "df"
   ]
  },
  {
   "cell_type": "markdown",
   "id": "9f713a30",
   "metadata": {},
   "source": [
    "<span style=\"color:Blue;font-size: 22px;font-family: verdana;font-weight: bold \">ADDING FEATURE NAME IN DATASET</span>"
   ]
  },
  {
   "cell_type": "code",
   "execution_count": 3,
   "id": "1f87fbbe",
   "metadata": {},
   "outputs": [
    {
     "data": {
      "text/html": [
       "<div>\n",
       "<style scoped>\n",
       "    .dataframe tbody tr th:only-of-type {\n",
       "        vertical-align: middle;\n",
       "    }\n",
       "\n",
       "    .dataframe tbody tr th {\n",
       "        vertical-align: top;\n",
       "    }\n",
       "\n",
       "    .dataframe thead th {\n",
       "        text-align: right;\n",
       "    }\n",
       "</style>\n",
       "<table border=\"1\" class=\"dataframe\">\n",
       "  <thead>\n",
       "    <tr style=\"text-align: right;\">\n",
       "      <th></th>\n",
       "      <th>ID</th>\n",
       "      <th>RI</th>\n",
       "      <th>NA</th>\n",
       "      <th>MG</th>\n",
       "      <th>AL</th>\n",
       "      <th>Si</th>\n",
       "      <th>K</th>\n",
       "      <th>Ca</th>\n",
       "      <th>Ba</th>\n",
       "      <th>Fe</th>\n",
       "      <th>TypeOfGlass</th>\n",
       "    </tr>\n",
       "  </thead>\n",
       "  <tbody>\n",
       "    <tr>\n",
       "      <th>0</th>\n",
       "      <td>1</td>\n",
       "      <td>1.52101</td>\n",
       "      <td>13.64</td>\n",
       "      <td>4.49</td>\n",
       "      <td>1.10</td>\n",
       "      <td>71.78</td>\n",
       "      <td>0.06</td>\n",
       "      <td>8.75</td>\n",
       "      <td>0.00</td>\n",
       "      <td>0.0</td>\n",
       "      <td>1</td>\n",
       "    </tr>\n",
       "    <tr>\n",
       "      <th>1</th>\n",
       "      <td>2</td>\n",
       "      <td>1.51761</td>\n",
       "      <td>13.89</td>\n",
       "      <td>3.60</td>\n",
       "      <td>1.36</td>\n",
       "      <td>72.73</td>\n",
       "      <td>0.48</td>\n",
       "      <td>7.83</td>\n",
       "      <td>0.00</td>\n",
       "      <td>0.0</td>\n",
       "      <td>1</td>\n",
       "    </tr>\n",
       "    <tr>\n",
       "      <th>2</th>\n",
       "      <td>3</td>\n",
       "      <td>1.51618</td>\n",
       "      <td>13.53</td>\n",
       "      <td>3.55</td>\n",
       "      <td>1.54</td>\n",
       "      <td>72.99</td>\n",
       "      <td>0.39</td>\n",
       "      <td>7.78</td>\n",
       "      <td>0.00</td>\n",
       "      <td>0.0</td>\n",
       "      <td>1</td>\n",
       "    </tr>\n",
       "    <tr>\n",
       "      <th>3</th>\n",
       "      <td>4</td>\n",
       "      <td>1.51766</td>\n",
       "      <td>13.21</td>\n",
       "      <td>3.69</td>\n",
       "      <td>1.29</td>\n",
       "      <td>72.61</td>\n",
       "      <td>0.57</td>\n",
       "      <td>8.22</td>\n",
       "      <td>0.00</td>\n",
       "      <td>0.0</td>\n",
       "      <td>1</td>\n",
       "    </tr>\n",
       "    <tr>\n",
       "      <th>4</th>\n",
       "      <td>5</td>\n",
       "      <td>1.51742</td>\n",
       "      <td>13.27</td>\n",
       "      <td>3.62</td>\n",
       "      <td>1.24</td>\n",
       "      <td>73.08</td>\n",
       "      <td>0.55</td>\n",
       "      <td>8.07</td>\n",
       "      <td>0.00</td>\n",
       "      <td>0.0</td>\n",
       "      <td>1</td>\n",
       "    </tr>\n",
       "    <tr>\n",
       "      <th>...</th>\n",
       "      <td>...</td>\n",
       "      <td>...</td>\n",
       "      <td>...</td>\n",
       "      <td>...</td>\n",
       "      <td>...</td>\n",
       "      <td>...</td>\n",
       "      <td>...</td>\n",
       "      <td>...</td>\n",
       "      <td>...</td>\n",
       "      <td>...</td>\n",
       "      <td>...</td>\n",
       "    </tr>\n",
       "    <tr>\n",
       "      <th>209</th>\n",
       "      <td>210</td>\n",
       "      <td>1.51623</td>\n",
       "      <td>14.14</td>\n",
       "      <td>0.00</td>\n",
       "      <td>2.88</td>\n",
       "      <td>72.61</td>\n",
       "      <td>0.08</td>\n",
       "      <td>9.18</td>\n",
       "      <td>1.06</td>\n",
       "      <td>0.0</td>\n",
       "      <td>7</td>\n",
       "    </tr>\n",
       "    <tr>\n",
       "      <th>210</th>\n",
       "      <td>211</td>\n",
       "      <td>1.51685</td>\n",
       "      <td>14.92</td>\n",
       "      <td>0.00</td>\n",
       "      <td>1.99</td>\n",
       "      <td>73.06</td>\n",
       "      <td>0.00</td>\n",
       "      <td>8.40</td>\n",
       "      <td>1.59</td>\n",
       "      <td>0.0</td>\n",
       "      <td>7</td>\n",
       "    </tr>\n",
       "    <tr>\n",
       "      <th>211</th>\n",
       "      <td>212</td>\n",
       "      <td>1.52065</td>\n",
       "      <td>14.36</td>\n",
       "      <td>0.00</td>\n",
       "      <td>2.02</td>\n",
       "      <td>73.42</td>\n",
       "      <td>0.00</td>\n",
       "      <td>8.44</td>\n",
       "      <td>1.64</td>\n",
       "      <td>0.0</td>\n",
       "      <td>7</td>\n",
       "    </tr>\n",
       "    <tr>\n",
       "      <th>212</th>\n",
       "      <td>213</td>\n",
       "      <td>1.51651</td>\n",
       "      <td>14.38</td>\n",
       "      <td>0.00</td>\n",
       "      <td>1.94</td>\n",
       "      <td>73.61</td>\n",
       "      <td>0.00</td>\n",
       "      <td>8.48</td>\n",
       "      <td>1.57</td>\n",
       "      <td>0.0</td>\n",
       "      <td>7</td>\n",
       "    </tr>\n",
       "    <tr>\n",
       "      <th>213</th>\n",
       "      <td>214</td>\n",
       "      <td>1.51711</td>\n",
       "      <td>14.23</td>\n",
       "      <td>0.00</td>\n",
       "      <td>2.08</td>\n",
       "      <td>73.36</td>\n",
       "      <td>0.00</td>\n",
       "      <td>8.62</td>\n",
       "      <td>1.67</td>\n",
       "      <td>0.0</td>\n",
       "      <td>7</td>\n",
       "    </tr>\n",
       "  </tbody>\n",
       "</table>\n",
       "<p>214 rows × 11 columns</p>\n",
       "</div>"
      ],
      "text/plain": [
       "      ID       RI     NA    MG    AL     Si     K    Ca    Ba   Fe  \\\n",
       "0      1  1.52101  13.64  4.49  1.10  71.78  0.06  8.75  0.00  0.0   \n",
       "1      2  1.51761  13.89  3.60  1.36  72.73  0.48  7.83  0.00  0.0   \n",
       "2      3  1.51618  13.53  3.55  1.54  72.99  0.39  7.78  0.00  0.0   \n",
       "3      4  1.51766  13.21  3.69  1.29  72.61  0.57  8.22  0.00  0.0   \n",
       "4      5  1.51742  13.27  3.62  1.24  73.08  0.55  8.07  0.00  0.0   \n",
       "..   ...      ...    ...   ...   ...    ...   ...   ...   ...  ...   \n",
       "209  210  1.51623  14.14  0.00  2.88  72.61  0.08  9.18  1.06  0.0   \n",
       "210  211  1.51685  14.92  0.00  1.99  73.06  0.00  8.40  1.59  0.0   \n",
       "211  212  1.52065  14.36  0.00  2.02  73.42  0.00  8.44  1.64  0.0   \n",
       "212  213  1.51651  14.38  0.00  1.94  73.61  0.00  8.48  1.57  0.0   \n",
       "213  214  1.51711  14.23  0.00  2.08  73.36  0.00  8.62  1.67  0.0   \n",
       "\n",
       "     TypeOfGlass  \n",
       "0              1  \n",
       "1              1  \n",
       "2              1  \n",
       "3              1  \n",
       "4              1  \n",
       "..           ...  \n",
       "209            7  \n",
       "210            7  \n",
       "211            7  \n",
       "212            7  \n",
       "213            7  \n",
       "\n",
       "[214 rows x 11 columns]"
      ]
     },
     "execution_count": 3,
     "metadata": {},
     "output_type": "execute_result"
    }
   ],
   "source": [
    "columns= ['ID', 'RI', 'NA', 'MG', 'AL', 'Si','K', 'Ca','Ba', 'Fe', 'TypeOfGlass']\n",
    "df.columns=columns\n",
    "df"
   ]
  },
  {
   "cell_type": "markdown",
   "id": "fb3c96fe",
   "metadata": {},
   "source": [
    "<span style=\"color:Blue;font-size: 22px;font-family: verdana;font-weight: bold \">Top Five Sample of DATASET</span>"
   ]
  },
  {
   "cell_type": "code",
   "execution_count": 4,
   "id": "493bbb1e",
   "metadata": {},
   "outputs": [
    {
     "data": {
      "text/html": [
       "<div>\n",
       "<style scoped>\n",
       "    .dataframe tbody tr th:only-of-type {\n",
       "        vertical-align: middle;\n",
       "    }\n",
       "\n",
       "    .dataframe tbody tr th {\n",
       "        vertical-align: top;\n",
       "    }\n",
       "\n",
       "    .dataframe thead th {\n",
       "        text-align: right;\n",
       "    }\n",
       "</style>\n",
       "<table border=\"1\" class=\"dataframe\">\n",
       "  <thead>\n",
       "    <tr style=\"text-align: right;\">\n",
       "      <th></th>\n",
       "      <th>ID</th>\n",
       "      <th>RI</th>\n",
       "      <th>NA</th>\n",
       "      <th>MG</th>\n",
       "      <th>AL</th>\n",
       "      <th>Si</th>\n",
       "      <th>K</th>\n",
       "      <th>Ca</th>\n",
       "      <th>Ba</th>\n",
       "      <th>Fe</th>\n",
       "      <th>TypeOfGlass</th>\n",
       "    </tr>\n",
       "  </thead>\n",
       "  <tbody>\n",
       "    <tr>\n",
       "      <th>0</th>\n",
       "      <td>1</td>\n",
       "      <td>1.52101</td>\n",
       "      <td>13.64</td>\n",
       "      <td>4.49</td>\n",
       "      <td>1.10</td>\n",
       "      <td>71.78</td>\n",
       "      <td>0.06</td>\n",
       "      <td>8.75</td>\n",
       "      <td>0.0</td>\n",
       "      <td>0.0</td>\n",
       "      <td>1</td>\n",
       "    </tr>\n",
       "    <tr>\n",
       "      <th>1</th>\n",
       "      <td>2</td>\n",
       "      <td>1.51761</td>\n",
       "      <td>13.89</td>\n",
       "      <td>3.60</td>\n",
       "      <td>1.36</td>\n",
       "      <td>72.73</td>\n",
       "      <td>0.48</td>\n",
       "      <td>7.83</td>\n",
       "      <td>0.0</td>\n",
       "      <td>0.0</td>\n",
       "      <td>1</td>\n",
       "    </tr>\n",
       "    <tr>\n",
       "      <th>2</th>\n",
       "      <td>3</td>\n",
       "      <td>1.51618</td>\n",
       "      <td>13.53</td>\n",
       "      <td>3.55</td>\n",
       "      <td>1.54</td>\n",
       "      <td>72.99</td>\n",
       "      <td>0.39</td>\n",
       "      <td>7.78</td>\n",
       "      <td>0.0</td>\n",
       "      <td>0.0</td>\n",
       "      <td>1</td>\n",
       "    </tr>\n",
       "    <tr>\n",
       "      <th>3</th>\n",
       "      <td>4</td>\n",
       "      <td>1.51766</td>\n",
       "      <td>13.21</td>\n",
       "      <td>3.69</td>\n",
       "      <td>1.29</td>\n",
       "      <td>72.61</td>\n",
       "      <td>0.57</td>\n",
       "      <td>8.22</td>\n",
       "      <td>0.0</td>\n",
       "      <td>0.0</td>\n",
       "      <td>1</td>\n",
       "    </tr>\n",
       "    <tr>\n",
       "      <th>4</th>\n",
       "      <td>5</td>\n",
       "      <td>1.51742</td>\n",
       "      <td>13.27</td>\n",
       "      <td>3.62</td>\n",
       "      <td>1.24</td>\n",
       "      <td>73.08</td>\n",
       "      <td>0.55</td>\n",
       "      <td>8.07</td>\n",
       "      <td>0.0</td>\n",
       "      <td>0.0</td>\n",
       "      <td>1</td>\n",
       "    </tr>\n",
       "  </tbody>\n",
       "</table>\n",
       "</div>"
      ],
      "text/plain": [
       "   ID       RI     NA    MG    AL     Si     K    Ca   Ba   Fe  TypeOfGlass\n",
       "0   1  1.52101  13.64  4.49  1.10  71.78  0.06  8.75  0.0  0.0            1\n",
       "1   2  1.51761  13.89  3.60  1.36  72.73  0.48  7.83  0.0  0.0            1\n",
       "2   3  1.51618  13.53  3.55  1.54  72.99  0.39  7.78  0.0  0.0            1\n",
       "3   4  1.51766  13.21  3.69  1.29  72.61  0.57  8.22  0.0  0.0            1\n",
       "4   5  1.51742  13.27  3.62  1.24  73.08  0.55  8.07  0.0  0.0            1"
      ]
     },
     "execution_count": 4,
     "metadata": {},
     "output_type": "execute_result"
    }
   ],
   "source": [
    "df.head(5)"
   ]
  },
  {
   "cell_type": "markdown",
   "id": "e5402d43",
   "metadata": {},
   "source": [
    "<span style=\"color:Blue;font-size: 22px;font-family: verdana;font-weight: bold \">Bottom Five Sample of DATASET</span>"
   ]
  },
  {
   "cell_type": "code",
   "execution_count": 5,
   "id": "139c01ba",
   "metadata": {},
   "outputs": [
    {
     "data": {
      "text/html": [
       "<div>\n",
       "<style scoped>\n",
       "    .dataframe tbody tr th:only-of-type {\n",
       "        vertical-align: middle;\n",
       "    }\n",
       "\n",
       "    .dataframe tbody tr th {\n",
       "        vertical-align: top;\n",
       "    }\n",
       "\n",
       "    .dataframe thead th {\n",
       "        text-align: right;\n",
       "    }\n",
       "</style>\n",
       "<table border=\"1\" class=\"dataframe\">\n",
       "  <thead>\n",
       "    <tr style=\"text-align: right;\">\n",
       "      <th></th>\n",
       "      <th>ID</th>\n",
       "      <th>RI</th>\n",
       "      <th>NA</th>\n",
       "      <th>MG</th>\n",
       "      <th>AL</th>\n",
       "      <th>Si</th>\n",
       "      <th>K</th>\n",
       "      <th>Ca</th>\n",
       "      <th>Ba</th>\n",
       "      <th>Fe</th>\n",
       "      <th>TypeOfGlass</th>\n",
       "    </tr>\n",
       "  </thead>\n",
       "  <tbody>\n",
       "    <tr>\n",
       "      <th>209</th>\n",
       "      <td>210</td>\n",
       "      <td>1.51623</td>\n",
       "      <td>14.14</td>\n",
       "      <td>0.0</td>\n",
       "      <td>2.88</td>\n",
       "      <td>72.61</td>\n",
       "      <td>0.08</td>\n",
       "      <td>9.18</td>\n",
       "      <td>1.06</td>\n",
       "      <td>0.0</td>\n",
       "      <td>7</td>\n",
       "    </tr>\n",
       "    <tr>\n",
       "      <th>210</th>\n",
       "      <td>211</td>\n",
       "      <td>1.51685</td>\n",
       "      <td>14.92</td>\n",
       "      <td>0.0</td>\n",
       "      <td>1.99</td>\n",
       "      <td>73.06</td>\n",
       "      <td>0.00</td>\n",
       "      <td>8.40</td>\n",
       "      <td>1.59</td>\n",
       "      <td>0.0</td>\n",
       "      <td>7</td>\n",
       "    </tr>\n",
       "    <tr>\n",
       "      <th>211</th>\n",
       "      <td>212</td>\n",
       "      <td>1.52065</td>\n",
       "      <td>14.36</td>\n",
       "      <td>0.0</td>\n",
       "      <td>2.02</td>\n",
       "      <td>73.42</td>\n",
       "      <td>0.00</td>\n",
       "      <td>8.44</td>\n",
       "      <td>1.64</td>\n",
       "      <td>0.0</td>\n",
       "      <td>7</td>\n",
       "    </tr>\n",
       "    <tr>\n",
       "      <th>212</th>\n",
       "      <td>213</td>\n",
       "      <td>1.51651</td>\n",
       "      <td>14.38</td>\n",
       "      <td>0.0</td>\n",
       "      <td>1.94</td>\n",
       "      <td>73.61</td>\n",
       "      <td>0.00</td>\n",
       "      <td>8.48</td>\n",
       "      <td>1.57</td>\n",
       "      <td>0.0</td>\n",
       "      <td>7</td>\n",
       "    </tr>\n",
       "    <tr>\n",
       "      <th>213</th>\n",
       "      <td>214</td>\n",
       "      <td>1.51711</td>\n",
       "      <td>14.23</td>\n",
       "      <td>0.0</td>\n",
       "      <td>2.08</td>\n",
       "      <td>73.36</td>\n",
       "      <td>0.00</td>\n",
       "      <td>8.62</td>\n",
       "      <td>1.67</td>\n",
       "      <td>0.0</td>\n",
       "      <td>7</td>\n",
       "    </tr>\n",
       "  </tbody>\n",
       "</table>\n",
       "</div>"
      ],
      "text/plain": [
       "      ID       RI     NA   MG    AL     Si     K    Ca    Ba   Fe  TypeOfGlass\n",
       "209  210  1.51623  14.14  0.0  2.88  72.61  0.08  9.18  1.06  0.0            7\n",
       "210  211  1.51685  14.92  0.0  1.99  73.06  0.00  8.40  1.59  0.0            7\n",
       "211  212  1.52065  14.36  0.0  2.02  73.42  0.00  8.44  1.64  0.0            7\n",
       "212  213  1.51651  14.38  0.0  1.94  73.61  0.00  8.48  1.57  0.0            7\n",
       "213  214  1.51711  14.23  0.0  2.08  73.36  0.00  8.62  1.67  0.0            7"
      ]
     },
     "execution_count": 5,
     "metadata": {},
     "output_type": "execute_result"
    }
   ],
   "source": [
    "df.tail(5)"
   ]
  },
  {
   "cell_type": "markdown",
   "id": "491a35f7",
   "metadata": {},
   "source": [
    "<span style=\"color:Blue;font-size: 22px;font-family: verdana;font-weight: bold \">BASIC INFO LIKE DATATYPES OF DATASET</span>"
   ]
  },
  {
   "cell_type": "code",
   "execution_count": 6,
   "id": "16f88aeb",
   "metadata": {},
   "outputs": [
    {
     "name": "stdout",
     "output_type": "stream",
     "text": [
      "<class 'pandas.core.frame.DataFrame'>\n",
      "RangeIndex: 214 entries, 0 to 213\n",
      "Data columns (total 11 columns):\n",
      " #   Column       Non-Null Count  Dtype  \n",
      "---  ------       --------------  -----  \n",
      " 0   ID           214 non-null    int64  \n",
      " 1   RI           214 non-null    float64\n",
      " 2   NA           214 non-null    float64\n",
      " 3   MG           214 non-null    float64\n",
      " 4   AL           214 non-null    float64\n",
      " 5   Si           214 non-null    float64\n",
      " 6   K            214 non-null    float64\n",
      " 7   Ca           214 non-null    float64\n",
      " 8   Ba           214 non-null    float64\n",
      " 9   Fe           214 non-null    float64\n",
      " 10  TypeOfGlass  214 non-null    int64  \n",
      "dtypes: float64(9), int64(2)\n",
      "memory usage: 18.5 KB\n"
     ]
    }
   ],
   "source": [
    "df.info()"
   ]
  },
  {
   "cell_type": "markdown",
   "id": "db93e6f3",
   "metadata": {},
   "source": [
    "<span style=\"color:Blue;font-size: 22px;font-family: verdana;font-weight: bold \">IDENTIFIFCATION OF NULL VALUE COUNTS of DATASET</span>"
   ]
  },
  {
   "cell_type": "code",
   "execution_count": 7,
   "id": "526fc9ca",
   "metadata": {
    "scrolled": true
   },
   "outputs": [
    {
     "data": {
      "text/plain": [
       "ID     RI     NA     MG     AL     Si     K      Ca     Ba     Fe     TypeOfGlass\n",
       "False  False  False  False  False  False  False  False  False  False  False          214\n",
       "dtype: int64"
      ]
     },
     "execution_count": 7,
     "metadata": {},
     "output_type": "execute_result"
    }
   ],
   "source": [
    "df.isnull().value_counts()"
   ]
  },
  {
   "cell_type": "code",
   "execution_count": 8,
   "id": "67f65ae7",
   "metadata": {},
   "outputs": [
    {
     "name": "stdout",
     "output_type": "stream",
     "text": [
      "<class 'pandas.core.frame.DataFrame'>\n",
      "RangeIndex: 214 entries, 0 to 213\n",
      "Data columns (total 11 columns):\n",
      " #   Column       Non-Null Count  Dtype  \n",
      "---  ------       --------------  -----  \n",
      " 0   ID           214 non-null    int64  \n",
      " 1   RI           214 non-null    float64\n",
      " 2   NA           214 non-null    float64\n",
      " 3   MG           214 non-null    float64\n",
      " 4   AL           214 non-null    float64\n",
      " 5   Si           214 non-null    float64\n",
      " 6   K            214 non-null    float64\n",
      " 7   Ca           214 non-null    float64\n",
      " 8   Ba           214 non-null    float64\n",
      " 9   Fe           214 non-null    float64\n",
      " 10  TypeOfGlass  214 non-null    int64  \n",
      "dtypes: float64(9), int64(2)\n",
      "memory usage: 18.5 KB\n"
     ]
    }
   ],
   "source": [
    "df.info()"
   ]
  },
  {
   "cell_type": "markdown",
   "id": "20bae687",
   "metadata": {},
   "source": [
    "<span style=\"color:Blue;font-size: 22px;font-family: verdana;font-weight: bold \">DETERMINATION OF NUMBERS OF ROWS & COLUMNS of DATASET</span>"
   ]
  },
  {
   "cell_type": "code",
   "execution_count": 9,
   "id": "61331b8e",
   "metadata": {},
   "outputs": [
    {
     "data": {
      "text/plain": [
       "(214, 11)"
      ]
     },
     "execution_count": 9,
     "metadata": {},
     "output_type": "execute_result"
    }
   ],
   "source": [
    "df.shape"
   ]
  },
  {
   "cell_type": "markdown",
   "id": "1a53c30e",
   "metadata": {},
   "source": [
    "<span style=\"color:Blue;font-size: 22px;font-family: verdana;font-weight: bold \">CORRELATION & VISUALIZATION OF RAW DATASET</span>"
   ]
  },
  {
   "cell_type": "code",
   "execution_count": 10,
   "id": "3658fb58",
   "metadata": {},
   "outputs": [
    {
     "data": {
      "image/png": "[encoded data removed]",
      "text/plain": [
       "<Figure size 1000x500 with 2 Axes>"
      ]
     },
     "metadata": {},
     "output_type": "display_data"
    }
   ],
   "source": [
    "plt.figure(figsize=(10,5), facecolor='white')\n",
    "sns.heatmap(df.corr(), annot=True)\n",
    "plt.show()"
   ]
  },
  {
   "cell_type": "markdown",
   "id": "62b22ad0",
   "metadata": {},
   "source": [
    "<span style=\"color:Blue;font-size: 22px;font-family: verdana;font-weight: bold \">DROPPING OF ID AND TARGET COLUMNS AND STORED IN df1</span>"
   ]
  },
  {
   "cell_type": "code",
   "execution_count": 11,
   "id": "aa52818e",
   "metadata": {},
   "outputs": [
    {
     "data": {
      "text/html": [
       "<div>\n",
       "<style scoped>\n",
       "    .dataframe tbody tr th:only-of-type {\n",
       "        vertical-align: middle;\n",
       "    }\n",
       "\n",
       "    .dataframe tbody tr th {\n",
       "        vertical-align: top;\n",
       "    }\n",
       "\n",
       "    .dataframe thead th {\n",
       "        text-align: right;\n",
       "    }\n",
       "</style>\n",
       "<table border=\"1\" class=\"dataframe\">\n",
       "  <thead>\n",
       "    <tr style=\"text-align: right;\">\n",
       "      <th></th>\n",
       "      <th>RI</th>\n",
       "      <th>NA</th>\n",
       "      <th>MG</th>\n",
       "      <th>AL</th>\n",
       "      <th>Si</th>\n",
       "      <th>K</th>\n",
       "      <th>Ca</th>\n",
       "      <th>Ba</th>\n",
       "      <th>Fe</th>\n",
       "    </tr>\n",
       "  </thead>\n",
       "  <tbody>\n",
       "    <tr>\n",
       "      <th>0</th>\n",
       "      <td>1.52101</td>\n",
       "      <td>13.64</td>\n",
       "      <td>4.49</td>\n",
       "      <td>1.10</td>\n",
       "      <td>71.78</td>\n",
       "      <td>0.06</td>\n",
       "      <td>8.75</td>\n",
       "      <td>0.00</td>\n",
       "      <td>0.0</td>\n",
       "    </tr>\n",
       "    <tr>\n",
       "      <th>1</th>\n",
       "      <td>1.51761</td>\n",
       "      <td>13.89</td>\n",
       "      <td>3.60</td>\n",
       "      <td>1.36</td>\n",
       "      <td>72.73</td>\n",
       "      <td>0.48</td>\n",
       "      <td>7.83</td>\n",
       "      <td>0.00</td>\n",
       "      <td>0.0</td>\n",
       "    </tr>\n",
       "    <tr>\n",
       "      <th>2</th>\n",
       "      <td>1.51618</td>\n",
       "      <td>13.53</td>\n",
       "      <td>3.55</td>\n",
       "      <td>1.54</td>\n",
       "      <td>72.99</td>\n",
       "      <td>0.39</td>\n",
       "      <td>7.78</td>\n",
       "      <td>0.00</td>\n",
       "      <td>0.0</td>\n",
       "    </tr>\n",
       "    <tr>\n",
       "      <th>3</th>\n",
       "      <td>1.51766</td>\n",
       "      <td>13.21</td>\n",
       "      <td>3.69</td>\n",
       "      <td>1.29</td>\n",
       "      <td>72.61</td>\n",
       "      <td>0.57</td>\n",
       "      <td>8.22</td>\n",
       "      <td>0.00</td>\n",
       "      <td>0.0</td>\n",
       "    </tr>\n",
       "    <tr>\n",
       "      <th>4</th>\n",
       "      <td>1.51742</td>\n",
       "      <td>13.27</td>\n",
       "      <td>3.62</td>\n",
       "      <td>1.24</td>\n",
       "      <td>73.08</td>\n",
       "      <td>0.55</td>\n",
       "      <td>8.07</td>\n",
       "      <td>0.00</td>\n",
       "      <td>0.0</td>\n",
       "    </tr>\n",
       "    <tr>\n",
       "      <th>...</th>\n",
       "      <td>...</td>\n",
       "      <td>...</td>\n",
       "      <td>...</td>\n",
       "      <td>...</td>\n",
       "      <td>...</td>\n",
       "      <td>...</td>\n",
       "      <td>...</td>\n",
       "      <td>...</td>\n",
       "      <td>...</td>\n",
       "    </tr>\n",
       "    <tr>\n",
       "      <th>209</th>\n",
       "      <td>1.51623</td>\n",
       "      <td>14.14</td>\n",
       "      <td>0.00</td>\n",
       "      <td>2.88</td>\n",
       "      <td>72.61</td>\n",
       "      <td>0.08</td>\n",
       "      <td>9.18</td>\n",
       "      <td>1.06</td>\n",
       "      <td>0.0</td>\n",
       "    </tr>\n",
       "    <tr>\n",
       "      <th>210</th>\n",
       "      <td>1.51685</td>\n",
       "      <td>14.92</td>\n",
       "      <td>0.00</td>\n",
       "      <td>1.99</td>\n",
       "      <td>73.06</td>\n",
       "      <td>0.00</td>\n",
       "      <td>8.40</td>\n",
       "      <td>1.59</td>\n",
       "      <td>0.0</td>\n",
       "    </tr>\n",
       "    <tr>\n",
       "      <th>211</th>\n",
       "      <td>1.52065</td>\n",
       "      <td>14.36</td>\n",
       "      <td>0.00</td>\n",
       "      <td>2.02</td>\n",
       "      <td>73.42</td>\n",
       "      <td>0.00</td>\n",
       "      <td>8.44</td>\n",
       "      <td>1.64</td>\n",
       "      <td>0.0</td>\n",
       "    </tr>\n",
       "    <tr>\n",
       "      <th>212</th>\n",
       "      <td>1.51651</td>\n",
       "      <td>14.38</td>\n",
       "      <td>0.00</td>\n",
       "      <td>1.94</td>\n",
       "      <td>73.61</td>\n",
       "      <td>0.00</td>\n",
       "      <td>8.48</td>\n",
       "      <td>1.57</td>\n",
       "      <td>0.0</td>\n",
       "    </tr>\n",
       "    <tr>\n",
       "      <th>213</th>\n",
       "      <td>1.51711</td>\n",
       "      <td>14.23</td>\n",
       "      <td>0.00</td>\n",
       "      <td>2.08</td>\n",
       "      <td>73.36</td>\n",
       "      <td>0.00</td>\n",
       "      <td>8.62</td>\n",
       "      <td>1.67</td>\n",
       "      <td>0.0</td>\n",
       "    </tr>\n",
       "  </tbody>\n",
       "</table>\n",
       "<p>214 rows × 9 columns</p>\n",
       "</div>"
      ],
      "text/plain": [
       "          RI     NA    MG    AL     Si     K    Ca    Ba   Fe\n",
       "0    1.52101  13.64  4.49  1.10  71.78  0.06  8.75  0.00  0.0\n",
       "1    1.51761  13.89  3.60  1.36  72.73  0.48  7.83  0.00  0.0\n",
       "2    1.51618  13.53  3.55  1.54  72.99  0.39  7.78  0.00  0.0\n",
       "3    1.51766  13.21  3.69  1.29  72.61  0.57  8.22  0.00  0.0\n",
       "4    1.51742  13.27  3.62  1.24  73.08  0.55  8.07  0.00  0.0\n",
       "..       ...    ...   ...   ...    ...   ...   ...   ...  ...\n",
       "209  1.51623  14.14  0.00  2.88  72.61  0.08  9.18  1.06  0.0\n",
       "210  1.51685  14.92  0.00  1.99  73.06  0.00  8.40  1.59  0.0\n",
       "211  1.52065  14.36  0.00  2.02  73.42  0.00  8.44  1.64  0.0\n",
       "212  1.51651  14.38  0.00  1.94  73.61  0.00  8.48  1.57  0.0\n",
       "213  1.51711  14.23  0.00  2.08  73.36  0.00  8.62  1.67  0.0\n",
       "\n",
       "[214 rows x 9 columns]"
      ]
     },
     "execution_count": 11,
     "metadata": {},
     "output_type": "execute_result"
    }
   ],
   "source": [
    "columns_drop=['ID','TypeOfGlass']\n",
    "df1=df.drop(columns=columns_drop)\n",
    "df1"
   ]
  },
  {
   "cell_type": "markdown",
   "id": "ea4c1221",
   "metadata": {},
   "source": [
    "<span style=\"color:Blue;font-size: 22px;font-family: verdana;font-weight: bold \">CORRELATION VISULAIZATION BETWEEN INPUTS ONLY OF df1</span>"
   ]
  },
  {
   "cell_type": "markdown",
   "id": "43af96df",
   "metadata": {},
   "source": [
    "<span style=\"color:Blue;font-size: 15px;font-family: verdana;font-weight: bold \">AFTER DROPPING ID AND TARGET VALUE FROM MAIN DF</span>"
   ]
  },
  {
   "cell_type": "code",
   "execution_count": 12,
   "id": "b7e84c28",
   "metadata": {},
   "outputs": [
    {
     "data": {
      "image/png": "[encoded data removed]",
      "text/plain": [
       "<Figure size 1000x500 with 2 Axes>"
      ]
     },
     "metadata": {},
     "output_type": "display_data"
    }
   ],
   "source": [
    "plt.figure(figsize=(10,5), facecolor='white')\n",
    "sns.heatmap(df1.corr(), annot=True, cmap='coolwarm')\n",
    "plt.show()"
   ]
  },
  {
   "cell_type": "code",
   "execution_count": 13,
   "id": "4b372616",
   "metadata": {},
   "outputs": [
    {
     "data": {
      "text/html": [
       "<div>\n",
       "<style scoped>\n",
       "    .dataframe tbody tr th:only-of-type {\n",
       "        vertical-align: middle;\n",
       "    }\n",
       "\n",
       "    .dataframe tbody tr th {\n",
       "        vertical-align: top;\n",
       "    }\n",
       "\n",
       "    .dataframe thead th {\n",
       "        text-align: right;\n",
       "    }\n",
       "</style>\n",
       "<table border=\"1\" class=\"dataframe\">\n",
       "  <thead>\n",
       "    <tr style=\"text-align: right;\">\n",
       "      <th></th>\n",
       "      <th>RI</th>\n",
       "      <th>NA</th>\n",
       "      <th>MG</th>\n",
       "      <th>AL</th>\n",
       "      <th>Si</th>\n",
       "      <th>K</th>\n",
       "      <th>Ca</th>\n",
       "      <th>Ba</th>\n",
       "      <th>Fe</th>\n",
       "    </tr>\n",
       "  </thead>\n",
       "  <tbody>\n",
       "    <tr>\n",
       "      <th>RI</th>\n",
       "      <td>1.000000</td>\n",
       "      <td>-0.191885</td>\n",
       "      <td>-0.122274</td>\n",
       "      <td>-0.407326</td>\n",
       "      <td>-0.542052</td>\n",
       "      <td>-0.289833</td>\n",
       "      <td>0.810403</td>\n",
       "      <td>-0.000386</td>\n",
       "      <td>0.143010</td>\n",
       "    </tr>\n",
       "    <tr>\n",
       "      <th>NA</th>\n",
       "      <td>-0.191885</td>\n",
       "      <td>1.000000</td>\n",
       "      <td>-0.273732</td>\n",
       "      <td>0.156794</td>\n",
       "      <td>-0.069809</td>\n",
       "      <td>-0.266087</td>\n",
       "      <td>-0.275442</td>\n",
       "      <td>0.326603</td>\n",
       "      <td>-0.241346</td>\n",
       "    </tr>\n",
       "    <tr>\n",
       "      <th>MG</th>\n",
       "      <td>-0.122274</td>\n",
       "      <td>-0.273732</td>\n",
       "      <td>1.000000</td>\n",
       "      <td>-0.481799</td>\n",
       "      <td>-0.165927</td>\n",
       "      <td>0.005396</td>\n",
       "      <td>-0.443750</td>\n",
       "      <td>-0.492262</td>\n",
       "      <td>0.083060</td>\n",
       "    </tr>\n",
       "    <tr>\n",
       "      <th>AL</th>\n",
       "      <td>-0.407326</td>\n",
       "      <td>0.156794</td>\n",
       "      <td>-0.481799</td>\n",
       "      <td>1.000000</td>\n",
       "      <td>-0.005524</td>\n",
       "      <td>0.325958</td>\n",
       "      <td>-0.259592</td>\n",
       "      <td>0.479404</td>\n",
       "      <td>-0.074402</td>\n",
       "    </tr>\n",
       "    <tr>\n",
       "      <th>Si</th>\n",
       "      <td>-0.542052</td>\n",
       "      <td>-0.069809</td>\n",
       "      <td>-0.165927</td>\n",
       "      <td>-0.005524</td>\n",
       "      <td>1.000000</td>\n",
       "      <td>-0.193331</td>\n",
       "      <td>-0.208732</td>\n",
       "      <td>-0.102151</td>\n",
       "      <td>-0.094201</td>\n",
       "    </tr>\n",
       "    <tr>\n",
       "      <th>K</th>\n",
       "      <td>-0.289833</td>\n",
       "      <td>-0.266087</td>\n",
       "      <td>0.005396</td>\n",
       "      <td>0.325958</td>\n",
       "      <td>-0.193331</td>\n",
       "      <td>1.000000</td>\n",
       "      <td>-0.317836</td>\n",
       "      <td>-0.042618</td>\n",
       "      <td>-0.007719</td>\n",
       "    </tr>\n",
       "    <tr>\n",
       "      <th>Ca</th>\n",
       "      <td>0.810403</td>\n",
       "      <td>-0.275442</td>\n",
       "      <td>-0.443750</td>\n",
       "      <td>-0.259592</td>\n",
       "      <td>-0.208732</td>\n",
       "      <td>-0.317836</td>\n",
       "      <td>1.000000</td>\n",
       "      <td>-0.112841</td>\n",
       "      <td>0.124968</td>\n",
       "    </tr>\n",
       "    <tr>\n",
       "      <th>Ba</th>\n",
       "      <td>-0.000386</td>\n",
       "      <td>0.326603</td>\n",
       "      <td>-0.492262</td>\n",
       "      <td>0.479404</td>\n",
       "      <td>-0.102151</td>\n",
       "      <td>-0.042618</td>\n",
       "      <td>-0.112841</td>\n",
       "      <td>1.000000</td>\n",
       "      <td>-0.058692</td>\n",
       "    </tr>\n",
       "    <tr>\n",
       "      <th>Fe</th>\n",
       "      <td>0.143010</td>\n",
       "      <td>-0.241346</td>\n",
       "      <td>0.083060</td>\n",
       "      <td>-0.074402</td>\n",
       "      <td>-0.094201</td>\n",
       "      <td>-0.007719</td>\n",
       "      <td>0.124968</td>\n",
       "      <td>-0.058692</td>\n",
       "      <td>1.000000</td>\n",
       "    </tr>\n",
       "  </tbody>\n",
       "</table>\n",
       "</div>"
      ],
      "text/plain": [
       "          RI        NA        MG        AL        Si         K        Ca  \\\n",
       "RI  1.000000 -0.191885 -0.122274 -0.407326 -0.542052 -0.289833  0.810403   \n",
       "NA -0.191885  1.000000 -0.273732  0.156794 -0.069809 -0.266087 -0.275442   \n",
       "MG -0.122274 -0.273732  1.000000 -0.481799 -0.165927  0.005396 -0.443750   \n",
       "AL -0.407326  0.156794 -0.481799  1.000000 -0.005524  0.325958 -0.259592   \n",
       "Si -0.542052 -0.069809 -0.165927 -0.005524  1.000000 -0.193331 -0.208732   \n",
       "K  -0.289833 -0.266087  0.005396  0.325958 -0.193331  1.000000 -0.317836   \n",
       "Ca  0.810403 -0.275442 -0.443750 -0.259592 -0.208732 -0.317836  1.000000   \n",
       "Ba -0.000386  0.326603 -0.492262  0.479404 -0.102151 -0.042618 -0.112841   \n",
       "Fe  0.143010 -0.241346  0.083060 -0.074402 -0.094201 -0.007719  0.124968   \n",
       "\n",
       "          Ba        Fe  \n",
       "RI -0.000386  0.143010  \n",
       "NA  0.326603 -0.241346  \n",
       "MG -0.492262  0.083060  \n",
       "AL  0.479404 -0.074402  \n",
       "Si -0.102151 -0.094201  \n",
       "K  -0.042618 -0.007719  \n",
       "Ca -0.112841  0.124968  \n",
       "Ba  1.000000 -0.058692  \n",
       "Fe -0.058692  1.000000  "
      ]
     },
     "execution_count": 13,
     "metadata": {},
     "output_type": "execute_result"
    }
   ],
   "source": [
    "df1.corr()"
   ]
  },
  {
   "cell_type": "markdown",
   "id": "6223a049",
   "metadata": {},
   "source": [
    "<span style=\"color:Blue;font-size: 22px;font-family: verdana;font-weight: bold \">DISTRIBUTION PLOTS:CHECKING SKEWNESS</span>"
   ]
  },
  {
   "cell_type": "code",
   "execution_count": 14,
   "id": "9ed03666",
   "metadata": {},
   "outputs": [
    {
     "data": {
      "text/plain": [
       "ID             0.000000\n",
       "RI             1.625431\n",
       "NA             0.454181\n",
       "MG            -1.152559\n",
       "AL             0.907290\n",
       "Si            -0.730447\n",
       "K              6.551648\n",
       "Ca             2.047054\n",
       "Ba             3.416425\n",
       "Fe             1.754327\n",
       "TypeOfGlass    1.114915\n",
       "dtype: float64"
      ]
     },
     "execution_count": 14,
     "metadata": {},
     "output_type": "execute_result"
    }
   ],
   "source": [
    "df.skew()"
   ]
  },
  {
   "cell_type": "code",
   "execution_count": 15,
   "id": "f95f535d",
   "metadata": {},
   "outputs": [
    {
     "data": {
      "image/png": "[encoded data removed]",
      "text/plain": [
       "<Figure size 1000x1500 with 11 Axes>"
      ]
     },
     "metadata": {},
     "output_type": "display_data"
    }
   ],
   "source": [
    "plt.figure(figsize=(10,15), facecolor='white')\n",
    "plots=1\n",
    "for i in df.columns: \n",
    "    if plots <12:\n",
    "        ax=plt.subplot(4,3,plots)\n",
    "        sns.distplot(df[i], color='b')\n",
    "        plt.xlabel(i, fontsize=10)\n",
    "    plots+=1\n",
    "plt.show()\n"
   ]
  },
  {
   "cell_type": "markdown",
   "id": "692b5561",
   "metadata": {},
   "source": [
    "<span style=\"color:magenta;font-size: 22px;font-family: verdana;font-weight: bold \">NEED TO CORRECT SKEWNESS OF K, Ca, & Ba</span>"
   ]
  },
  {
   "cell_type": "code",
   "execution_count": 16,
   "id": "384d786d",
   "metadata": {},
   "outputs": [],
   "source": [
    "df['K']=np.sqrt(df['K'])"
   ]
  },
  {
   "cell_type": "code",
   "execution_count": 17,
   "id": "dffc4e84",
   "metadata": {},
   "outputs": [],
   "source": [
    "df['Ca']=np.sqrt(df['Ca'])"
   ]
  },
  {
   "cell_type": "code",
   "execution_count": 18,
   "id": "7a88cb9d",
   "metadata": {},
   "outputs": [],
   "source": [
    "df['Ba']=np.sqrt(df['Ba'])"
   ]
  },
  {
   "cell_type": "code",
   "execution_count": 19,
   "id": "02f2d4b2",
   "metadata": {},
   "outputs": [
    {
     "data": {
      "text/plain": [
       "ID             0.000000\n",
       "RI             1.625431\n",
       "NA             0.454181\n",
       "MG            -1.152559\n",
       "AL             0.907290\n",
       "Si            -0.730447\n",
       "K              0.871221\n",
       "Ca             1.572031\n",
       "Ba             2.377201\n",
       "Fe             1.754327\n",
       "TypeOfGlass    1.114915\n",
       "dtype: float64"
      ]
     },
     "execution_count": 19,
     "metadata": {},
     "output_type": "execute_result"
    }
   ],
   "source": [
    "df.skew()"
   ]
  },
  {
   "cell_type": "markdown",
   "id": "20742741",
   "metadata": {},
   "source": [
    "<span style=\"color:Green;font-size: 22px;font-family: verdana;font-weight: bold \">DISTRIBUTION PLOTS:AFTER CORRECTION OF SKEWNESS</span>"
   ]
  },
  {
   "cell_type": "code",
   "execution_count": 20,
   "id": "699ebbb3",
   "metadata": {},
   "outputs": [
    {
     "data": {
      "image/png": "[encoded data removed]",
      "text/plain": [
       "<Figure size 1000x1500 with 11 Axes>"
      ]
     },
     "metadata": {},
     "output_type": "display_data"
    }
   ],
   "source": [
    "plt.figure(figsize=(10,15), facecolor='white')\n",
    "plots=1\n",
    "for i in df.columns: \n",
    "    if plots <12:\n",
    "        ax=plt.subplot(4,3,plots)\n",
    "        sns.distplot(df[i], color='g')\n",
    "        plt.xlabel(i, fontsize=10)\n",
    "    plots+=1\n",
    "plt.show()"
   ]
  },
  {
   "cell_type": "markdown",
   "id": "bc22447a",
   "metadata": {},
   "source": [
    "<span style=\"color:Blue;font-size: 22px;font-family: verdana;font-weight: bold \">BOX PLOTS:CHECKING OUTLIERS</span>"
   ]
  },
  {
   "cell_type": "code",
   "execution_count": 21,
   "id": "e68b98da",
   "metadata": {},
   "outputs": [
    {
     "data": {
      "image/png": "[encoded data removed]",
      "text/plain": [
       "<Figure size 1000x1500 with 11 Axes>"
      ]
     },
     "metadata": {},
     "output_type": "display_data"
    }
   ],
   "source": [
    "plt.figure(figsize=(10,15), facecolor='white')\n",
    "plotnum=1\n",
    "for i in df.columns:\n",
    "    if plotnum<12:\n",
    "        ax=plt.subplot(4,3,plotnum)\n",
    "        sns.boxplot(df[i], color='red')\n",
    "        plt.xlabel(i, fontsize=15)\n",
    "    plotnum+=1\n",
    "plt.show()"
   ]
  },
  {
   "cell_type": "markdown",
   "id": "504339c6",
   "metadata": {},
   "source": [
    "<span style=\"color:Blue;font-size: 22px;font-family: verdana;font-weight: bold \">STATISTICAL DESCRIPTION OF DATASET</span>"
   ]
  },
  {
   "cell_type": "code",
   "execution_count": 22,
   "id": "dba8264c",
   "metadata": {},
   "outputs": [
    {
     "data": {
      "text/html": [
       "<div>\n",
       "<style scoped>\n",
       "    .dataframe tbody tr th:only-of-type {\n",
       "        vertical-align: middle;\n",
       "    }\n",
       "\n",
       "    .dataframe tbody tr th {\n",
       "        vertical-align: top;\n",
       "    }\n",
       "\n",
       "    .dataframe thead th {\n",
       "        text-align: right;\n",
       "    }\n",
       "</style>\n",
       "<table border=\"1\" class=\"dataframe\">\n",
       "  <thead>\n",
       "    <tr style=\"text-align: right;\">\n",
       "      <th></th>\n",
       "      <th>ID</th>\n",
       "      <th>RI</th>\n",
       "      <th>NA</th>\n",
       "      <th>MG</th>\n",
       "      <th>AL</th>\n",
       "      <th>Si</th>\n",
       "      <th>K</th>\n",
       "      <th>Ca</th>\n",
       "      <th>Ba</th>\n",
       "      <th>Fe</th>\n",
       "      <th>TypeOfGlass</th>\n",
       "    </tr>\n",
       "  </thead>\n",
       "  <tbody>\n",
       "    <tr>\n",
       "      <th>count</th>\n",
       "      <td>214.000000</td>\n",
       "      <td>214.000000</td>\n",
       "      <td>214.000000</td>\n",
       "      <td>214.000000</td>\n",
       "      <td>214.000000</td>\n",
       "      <td>214.000000</td>\n",
       "      <td>214.000000</td>\n",
       "      <td>214.000000</td>\n",
       "      <td>214.000000</td>\n",
       "      <td>214.000000</td>\n",
       "      <td>214.000000</td>\n",
       "    </tr>\n",
       "    <tr>\n",
       "      <th>mean</th>\n",
       "      <td>107.500000</td>\n",
       "      <td>1.518365</td>\n",
       "      <td>13.407850</td>\n",
       "      <td>2.684533</td>\n",
       "      <td>1.444907</td>\n",
       "      <td>72.650935</td>\n",
       "      <td>0.604720</td>\n",
       "      <td>2.984419</td>\n",
       "      <td>0.161251</td>\n",
       "      <td>0.057009</td>\n",
       "      <td>2.780374</td>\n",
       "    </tr>\n",
       "    <tr>\n",
       "      <th>std</th>\n",
       "      <td>61.920648</td>\n",
       "      <td>0.003037</td>\n",
       "      <td>0.816604</td>\n",
       "      <td>1.442408</td>\n",
       "      <td>0.499270</td>\n",
       "      <td>0.774546</td>\n",
       "      <td>0.363300</td>\n",
       "      <td>0.224598</td>\n",
       "      <td>0.386969</td>\n",
       "      <td>0.097439</td>\n",
       "      <td>2.103739</td>\n",
       "    </tr>\n",
       "    <tr>\n",
       "      <th>min</th>\n",
       "      <td>1.000000</td>\n",
       "      <td>1.511150</td>\n",
       "      <td>10.730000</td>\n",
       "      <td>0.000000</td>\n",
       "      <td>0.290000</td>\n",
       "      <td>69.810000</td>\n",
       "      <td>0.000000</td>\n",
       "      <td>2.330236</td>\n",
       "      <td>0.000000</td>\n",
       "      <td>0.000000</td>\n",
       "      <td>1.000000</td>\n",
       "    </tr>\n",
       "    <tr>\n",
       "      <th>25%</th>\n",
       "      <td>54.250000</td>\n",
       "      <td>1.516522</td>\n",
       "      <td>12.907500</td>\n",
       "      <td>2.115000</td>\n",
       "      <td>1.190000</td>\n",
       "      <td>72.280000</td>\n",
       "      <td>0.349946</td>\n",
       "      <td>2.870540</td>\n",
       "      <td>0.000000</td>\n",
       "      <td>0.000000</td>\n",
       "      <td>1.000000</td>\n",
       "    </tr>\n",
       "    <tr>\n",
       "      <th>50%</th>\n",
       "      <td>107.500000</td>\n",
       "      <td>1.517680</td>\n",
       "      <td>13.300000</td>\n",
       "      <td>3.480000</td>\n",
       "      <td>1.360000</td>\n",
       "      <td>72.790000</td>\n",
       "      <td>0.744976</td>\n",
       "      <td>2.932576</td>\n",
       "      <td>0.000000</td>\n",
       "      <td>0.000000</td>\n",
       "      <td>2.000000</td>\n",
       "    </tr>\n",
       "    <tr>\n",
       "      <th>75%</th>\n",
       "      <td>160.750000</td>\n",
       "      <td>1.519157</td>\n",
       "      <td>13.825000</td>\n",
       "      <td>3.600000</td>\n",
       "      <td>1.630000</td>\n",
       "      <td>73.087500</td>\n",
       "      <td>0.781025</td>\n",
       "      <td>3.028613</td>\n",
       "      <td>0.000000</td>\n",
       "      <td>0.100000</td>\n",
       "      <td>3.000000</td>\n",
       "    </tr>\n",
       "    <tr>\n",
       "      <th>max</th>\n",
       "      <td>214.000000</td>\n",
       "      <td>1.533930</td>\n",
       "      <td>17.380000</td>\n",
       "      <td>4.490000</td>\n",
       "      <td>3.500000</td>\n",
       "      <td>75.410000</td>\n",
       "      <td>2.491987</td>\n",
       "      <td>4.023680</td>\n",
       "      <td>1.774824</td>\n",
       "      <td>0.510000</td>\n",
       "      <td>7.000000</td>\n",
       "    </tr>\n",
       "  </tbody>\n",
       "</table>\n",
       "</div>"
      ],
      "text/plain": [
       "               ID          RI          NA          MG          AL          Si  \\\n",
       "count  214.000000  214.000000  214.000000  214.000000  214.000000  214.000000   \n",
       "mean   107.500000    1.518365   13.407850    2.684533    1.444907   72.650935   \n",
       "std     61.920648    0.003037    0.816604    1.442408    0.499270    0.774546   \n",
       "min      1.000000    1.511150   10.730000    0.000000    0.290000   69.810000   \n",
       "25%     54.250000    1.516522   12.907500    2.115000    1.190000   72.280000   \n",
       "50%    107.500000    1.517680   13.300000    3.480000    1.360000   72.790000   \n",
       "75%    160.750000    1.519157   13.825000    3.600000    1.630000   73.087500   \n",
       "max    214.000000    1.533930   17.380000    4.490000    3.500000   75.410000   \n",
       "\n",
       "                K          Ca          Ba          Fe  TypeOfGlass  \n",
       "count  214.000000  214.000000  214.000000  214.000000   214.000000  \n",
       "mean     0.604720    2.984419    0.161251    0.057009     2.780374  \n",
       "std      0.363300    0.224598    0.386969    0.097439     2.103739  \n",
       "min      0.000000    2.330236    0.000000    0.000000     1.000000  \n",
       "25%      0.349946    2.870540    0.000000    0.000000     1.000000  \n",
       "50%      0.744976    2.932576    0.000000    0.000000     2.000000  \n",
       "75%      0.781025    3.028613    0.000000    0.100000     3.000000  \n",
       "max      2.491987    4.023680    1.774824    0.510000     7.000000  "
      ]
     },
     "execution_count": 22,
     "metadata": {},
     "output_type": "execute_result"
    }
   ],
   "source": [
    "df.describe()"
   ]
  },
  {
   "cell_type": "markdown",
   "id": "e8e83288",
   "metadata": {},
   "source": [
    "<span style=\"color:Blue;font-size: 22px;font-family: verdana;font-weight: bold \">INFORMATION GIVEN:</span>"
   ]
  },
  {
   "cell_type": "markdown",
   "id": "54f0394c",
   "metadata": {},
   "source": [
    "Type of glass: (class attribute)\n",
    "•\t1- building_windows_float_processed\n",
    "•\t2- building_windows_non_float_processed\n",
    "•\t3- vehicle_windows_float_processed\n",
    "•\t4- vehicle_windows_non_float_processed (none in this database)\n",
    "•\t5- containers\n",
    "•\t6- tableware\n",
    "•\t7- headlamps\n",
    "There are 214 observations in the dataset. The dataset can be divided into window glass (classes 1-4) and non-window glass (classes 5-7). \n"
   ]
  },
  {
   "cell_type": "markdown",
   "id": "39ed640a",
   "metadata": {},
   "source": [
    "<span style=\"color:Blue;font-size: 22px;font-family: verdana;font-weight: bold \">TARGET VARIABLE OR TypeOfGlass DIVIDED INTO 2 TYPES"
   ]
  },
  {
   "cell_type": "markdown",
   "id": "a589947c",
   "metadata": {},
   "source": [
    "<span style=\"color:magenta;font-size: 22px;font-family: verdana;font-weight: bold \">WG:WINDOW TYPE GLASS [WG] & NWG: NON WINDOW TYPE GLASS</SPAN>"
   ]
  },
  {
   "cell_type": "code",
   "execution_count": 23,
   "id": "673bce2e",
   "metadata": {},
   "outputs": [],
   "source": [
    "df['TypeOfGlass'] = df['TypeOfGlass'].astype(str)  # Convert to string \n"
   ]
  },
  {
   "cell_type": "code",
   "execution_count": 24,
   "id": "4b107a16",
   "metadata": {},
   "outputs": [
    {
     "data": {
      "text/html": [
       "<div>\n",
       "<style scoped>\n",
       "    .dataframe tbody tr th:only-of-type {\n",
       "        vertical-align: middle;\n",
       "    }\n",
       "\n",
       "    .dataframe tbody tr th {\n",
       "        vertical-align: top;\n",
       "    }\n",
       "\n",
       "    .dataframe thead th {\n",
       "        text-align: right;\n",
       "    }\n",
       "</style>\n",
       "<table border=\"1\" class=\"dataframe\">\n",
       "  <thead>\n",
       "    <tr style=\"text-align: right;\">\n",
       "      <th></th>\n",
       "      <th>ID</th>\n",
       "      <th>RI</th>\n",
       "      <th>NA</th>\n",
       "      <th>MG</th>\n",
       "      <th>AL</th>\n",
       "      <th>Si</th>\n",
       "      <th>K</th>\n",
       "      <th>Ca</th>\n",
       "      <th>Ba</th>\n",
       "      <th>Fe</th>\n",
       "      <th>TypeOfGlass</th>\n",
       "    </tr>\n",
       "  </thead>\n",
       "  <tbody>\n",
       "    <tr>\n",
       "      <th>0</th>\n",
       "      <td>1</td>\n",
       "      <td>1.52101</td>\n",
       "      <td>13.64</td>\n",
       "      <td>4.49</td>\n",
       "      <td>1.10</td>\n",
       "      <td>71.78</td>\n",
       "      <td>0.244949</td>\n",
       "      <td>2.958040</td>\n",
       "      <td>0.000000</td>\n",
       "      <td>0.0</td>\n",
       "      <td>WG</td>\n",
       "    </tr>\n",
       "    <tr>\n",
       "      <th>1</th>\n",
       "      <td>2</td>\n",
       "      <td>1.51761</td>\n",
       "      <td>13.89</td>\n",
       "      <td>3.60</td>\n",
       "      <td>1.36</td>\n",
       "      <td>72.73</td>\n",
       "      <td>0.692820</td>\n",
       "      <td>2.798214</td>\n",
       "      <td>0.000000</td>\n",
       "      <td>0.0</td>\n",
       "      <td>WG</td>\n",
       "    </tr>\n",
       "    <tr>\n",
       "      <th>2</th>\n",
       "      <td>3</td>\n",
       "      <td>1.51618</td>\n",
       "      <td>13.53</td>\n",
       "      <td>3.55</td>\n",
       "      <td>1.54</td>\n",
       "      <td>72.99</td>\n",
       "      <td>0.624500</td>\n",
       "      <td>2.789265</td>\n",
       "      <td>0.000000</td>\n",
       "      <td>0.0</td>\n",
       "      <td>WG</td>\n",
       "    </tr>\n",
       "    <tr>\n",
       "      <th>3</th>\n",
       "      <td>4</td>\n",
       "      <td>1.51766</td>\n",
       "      <td>13.21</td>\n",
       "      <td>3.69</td>\n",
       "      <td>1.29</td>\n",
       "      <td>72.61</td>\n",
       "      <td>0.754983</td>\n",
       "      <td>2.867054</td>\n",
       "      <td>0.000000</td>\n",
       "      <td>0.0</td>\n",
       "      <td>WG</td>\n",
       "    </tr>\n",
       "    <tr>\n",
       "      <th>4</th>\n",
       "      <td>5</td>\n",
       "      <td>1.51742</td>\n",
       "      <td>13.27</td>\n",
       "      <td>3.62</td>\n",
       "      <td>1.24</td>\n",
       "      <td>73.08</td>\n",
       "      <td>0.741620</td>\n",
       "      <td>2.840775</td>\n",
       "      <td>0.000000</td>\n",
       "      <td>0.0</td>\n",
       "      <td>WG</td>\n",
       "    </tr>\n",
       "    <tr>\n",
       "      <th>...</th>\n",
       "      <td>...</td>\n",
       "      <td>...</td>\n",
       "      <td>...</td>\n",
       "      <td>...</td>\n",
       "      <td>...</td>\n",
       "      <td>...</td>\n",
       "      <td>...</td>\n",
       "      <td>...</td>\n",
       "      <td>...</td>\n",
       "      <td>...</td>\n",
       "      <td>...</td>\n",
       "    </tr>\n",
       "    <tr>\n",
       "      <th>209</th>\n",
       "      <td>210</td>\n",
       "      <td>1.51623</td>\n",
       "      <td>14.14</td>\n",
       "      <td>0.00</td>\n",
       "      <td>2.88</td>\n",
       "      <td>72.61</td>\n",
       "      <td>0.282843</td>\n",
       "      <td>3.029851</td>\n",
       "      <td>1.029563</td>\n",
       "      <td>0.0</td>\n",
       "      <td>NWG</td>\n",
       "    </tr>\n",
       "    <tr>\n",
       "      <th>210</th>\n",
       "      <td>211</td>\n",
       "      <td>1.51685</td>\n",
       "      <td>14.92</td>\n",
       "      <td>0.00</td>\n",
       "      <td>1.99</td>\n",
       "      <td>73.06</td>\n",
       "      <td>0.000000</td>\n",
       "      <td>2.898275</td>\n",
       "      <td>1.260952</td>\n",
       "      <td>0.0</td>\n",
       "      <td>NWG</td>\n",
       "    </tr>\n",
       "    <tr>\n",
       "      <th>211</th>\n",
       "      <td>212</td>\n",
       "      <td>1.52065</td>\n",
       "      <td>14.36</td>\n",
       "      <td>0.00</td>\n",
       "      <td>2.02</td>\n",
       "      <td>73.42</td>\n",
       "      <td>0.000000</td>\n",
       "      <td>2.905168</td>\n",
       "      <td>1.280625</td>\n",
       "      <td>0.0</td>\n",
       "      <td>NWG</td>\n",
       "    </tr>\n",
       "    <tr>\n",
       "      <th>212</th>\n",
       "      <td>213</td>\n",
       "      <td>1.51651</td>\n",
       "      <td>14.38</td>\n",
       "      <td>0.00</td>\n",
       "      <td>1.94</td>\n",
       "      <td>73.61</td>\n",
       "      <td>0.000000</td>\n",
       "      <td>2.912044</td>\n",
       "      <td>1.252996</td>\n",
       "      <td>0.0</td>\n",
       "      <td>NWG</td>\n",
       "    </tr>\n",
       "    <tr>\n",
       "      <th>213</th>\n",
       "      <td>214</td>\n",
       "      <td>1.51711</td>\n",
       "      <td>14.23</td>\n",
       "      <td>0.00</td>\n",
       "      <td>2.08</td>\n",
       "      <td>73.36</td>\n",
       "      <td>0.000000</td>\n",
       "      <td>2.935984</td>\n",
       "      <td>1.292285</td>\n",
       "      <td>0.0</td>\n",
       "      <td>NWG</td>\n",
       "    </tr>\n",
       "  </tbody>\n",
       "</table>\n",
       "<p>214 rows × 11 columns</p>\n",
       "</div>"
      ],
      "text/plain": [
       "      ID       RI     NA    MG    AL     Si         K        Ca        Ba  \\\n",
       "0      1  1.52101  13.64  4.49  1.10  71.78  0.244949  2.958040  0.000000   \n",
       "1      2  1.51761  13.89  3.60  1.36  72.73  0.692820  2.798214  0.000000   \n",
       "2      3  1.51618  13.53  3.55  1.54  72.99  0.624500  2.789265  0.000000   \n",
       "3      4  1.51766  13.21  3.69  1.29  72.61  0.754983  2.867054  0.000000   \n",
       "4      5  1.51742  13.27  3.62  1.24  73.08  0.741620  2.840775  0.000000   \n",
       "..   ...      ...    ...   ...   ...    ...       ...       ...       ...   \n",
       "209  210  1.51623  14.14  0.00  2.88  72.61  0.282843  3.029851  1.029563   \n",
       "210  211  1.51685  14.92  0.00  1.99  73.06  0.000000  2.898275  1.260952   \n",
       "211  212  1.52065  14.36  0.00  2.02  73.42  0.000000  2.905168  1.280625   \n",
       "212  213  1.51651  14.38  0.00  1.94  73.61  0.000000  2.912044  1.252996   \n",
       "213  214  1.51711  14.23  0.00  2.08  73.36  0.000000  2.935984  1.292285   \n",
       "\n",
       "      Fe TypeOfGlass  \n",
       "0    0.0          WG  \n",
       "1    0.0          WG  \n",
       "2    0.0          WG  \n",
       "3    0.0          WG  \n",
       "4    0.0          WG  \n",
       "..   ...         ...  \n",
       "209  0.0         NWG  \n",
       "210  0.0         NWG  \n",
       "211  0.0         NWG  \n",
       "212  0.0         NWG  \n",
       "213  0.0         NWG  \n",
       "\n",
       "[214 rows x 11 columns]"
      ]
     },
     "execution_count": 24,
     "metadata": {},
     "output_type": "execute_result"
    }
   ],
   "source": [
    "mapping={'1':'WG','2':'WG','3':'WG','4':'WG','5':'NWG','6':'NWG','7':'NWG'}\n",
    "df['TypeOfGlass']=df['TypeOfGlass'].replace(mapping)\n",
    "df"
   ]
  },
  {
   "cell_type": "markdown",
   "id": "8d36a5c9",
   "metadata": {},
   "source": [
    "<span style=\"color:Blue;font-size: 22px;font-family: verdana;font-weight: bold \">VISULAIZATION:CHECKING OF NULL OR MISSING VALUES</span>"
   ]
  },
  {
   "cell_type": "code",
   "execution_count": 25,
   "id": "3542c8be",
   "metadata": {},
   "outputs": [
    {
     "data": {
      "image/png": "[encoded data removed]",
      "text/plain": [
       "<Figure size 500x500 with 2 Axes>"
      ]
     },
     "metadata": {},
     "output_type": "display_data"
    }
   ],
   "source": [
    "plt.figure(figsize=(5,5), facecolor='white')\n",
    "sns.heatmap(df.isnull(), annot=True, cmap=\"plasma\")\n",
    "plt.show()"
   ]
  },
  {
   "cell_type": "markdown",
   "id": "5494d59b",
   "metadata": {},
   "source": [
    "<span style=\"color:Blue;font-size: 22px;font-family: verdana;font-weight: bold \">TARGET VARIABLE OR TypeOfGlass DIVIDED INTO 2 TYPES"
   ]
  },
  {
   "cell_type": "markdown",
   "id": "18244adb",
   "metadata": {},
   "source": [
    "<span style=\"color:RED;font-size: 22px;font-family: verdana;font-weight: bold \">One-Hot Encoding Process:TARGET VARIABLE OR TypeOfGlass DIVIDED INTO 2 TYPES: 0 and 1 </span>"
   ]
  },
  {
   "cell_type": "code",
   "execution_count": 26,
   "id": "82c1d316",
   "metadata": {},
   "outputs": [
    {
     "name": "stdout",
     "output_type": "stream",
     "text": [
      "      ID       RI     NA    MG    AL     Si         K        Ca        Ba  \\\n",
      "0      1  1.52101  13.64  4.49  1.10  71.78  0.244949  2.958040  0.000000   \n",
      "1      2  1.51761  13.89  3.60  1.36  72.73  0.692820  2.798214  0.000000   \n",
      "2      3  1.51618  13.53  3.55  1.54  72.99  0.624500  2.789265  0.000000   \n",
      "3      4  1.51766  13.21  3.69  1.29  72.61  0.754983  2.867054  0.000000   \n",
      "4      5  1.51742  13.27  3.62  1.24  73.08  0.741620  2.840775  0.000000   \n",
      "..   ...      ...    ...   ...   ...    ...       ...       ...       ...   \n",
      "209  210  1.51623  14.14  0.00  2.88  72.61  0.282843  3.029851  1.029563   \n",
      "210  211  1.51685  14.92  0.00  1.99  73.06  0.000000  2.898275  1.260952   \n",
      "211  212  1.52065  14.36  0.00  2.02  73.42  0.000000  2.905168  1.280625   \n",
      "212  213  1.51651  14.38  0.00  1.94  73.61  0.000000  2.912044  1.252996   \n",
      "213  214  1.51711  14.23  0.00  2.08  73.36  0.000000  2.935984  1.292285   \n",
      "\n",
      "      Fe  TypeOfGlass_NWG  TypeOfGlass_WG  \n",
      "0    0.0                0               1  \n",
      "1    0.0                0               1  \n",
      "2    0.0                0               1  \n",
      "3    0.0                0               1  \n",
      "4    0.0                0               1  \n",
      "..   ...              ...             ...  \n",
      "209  0.0                1               0  \n",
      "210  0.0                1               0  \n",
      "211  0.0                1               0  \n",
      "212  0.0                1               0  \n",
      "213  0.0                1               0  \n",
      "\n",
      "[214 rows x 12 columns]\n"
     ]
    }
   ],
   "source": [
    "df_encode=pd.get_dummies(df, columns=['TypeOfGlass'])\n",
    "print(df_encode)"
   ]
  },
  {
   "cell_type": "markdown",
   "id": "b618d633",
   "metadata": {},
   "source": [
    "<span style=\"color:Blue;font-size: 22px;font-family: verdana;font-weight: bold \">EXISTING DATAFRAME IN WHICH TypeOfGlass DIVIDED INTO 2 TYPES: WG & NWG"
   ]
  },
  {
   "cell_type": "code",
   "execution_count": 27,
   "id": "0502284e",
   "metadata": {},
   "outputs": [
    {
     "data": {
      "text/html": [
       "<div>\n",
       "<style scoped>\n",
       "    .dataframe tbody tr th:only-of-type {\n",
       "        vertical-align: middle;\n",
       "    }\n",
       "\n",
       "    .dataframe tbody tr th {\n",
       "        vertical-align: top;\n",
       "    }\n",
       "\n",
       "    .dataframe thead th {\n",
       "        text-align: right;\n",
       "    }\n",
       "</style>\n",
       "<table border=\"1\" class=\"dataframe\">\n",
       "  <thead>\n",
       "    <tr style=\"text-align: right;\">\n",
       "      <th></th>\n",
       "      <th>ID</th>\n",
       "      <th>RI</th>\n",
       "      <th>NA</th>\n",
       "      <th>MG</th>\n",
       "      <th>AL</th>\n",
       "      <th>Si</th>\n",
       "      <th>K</th>\n",
       "      <th>Ca</th>\n",
       "      <th>Ba</th>\n",
       "      <th>Fe</th>\n",
       "      <th>TypeOfGlass</th>\n",
       "    </tr>\n",
       "  </thead>\n",
       "  <tbody>\n",
       "    <tr>\n",
       "      <th>0</th>\n",
       "      <td>1</td>\n",
       "      <td>1.52101</td>\n",
       "      <td>13.64</td>\n",
       "      <td>4.49</td>\n",
       "      <td>1.10</td>\n",
       "      <td>71.78</td>\n",
       "      <td>0.244949</td>\n",
       "      <td>2.958040</td>\n",
       "      <td>0.000000</td>\n",
       "      <td>0.0</td>\n",
       "      <td>WG</td>\n",
       "    </tr>\n",
       "    <tr>\n",
       "      <th>1</th>\n",
       "      <td>2</td>\n",
       "      <td>1.51761</td>\n",
       "      <td>13.89</td>\n",
       "      <td>3.60</td>\n",
       "      <td>1.36</td>\n",
       "      <td>72.73</td>\n",
       "      <td>0.692820</td>\n",
       "      <td>2.798214</td>\n",
       "      <td>0.000000</td>\n",
       "      <td>0.0</td>\n",
       "      <td>WG</td>\n",
       "    </tr>\n",
       "    <tr>\n",
       "      <th>2</th>\n",
       "      <td>3</td>\n",
       "      <td>1.51618</td>\n",
       "      <td>13.53</td>\n",
       "      <td>3.55</td>\n",
       "      <td>1.54</td>\n",
       "      <td>72.99</td>\n",
       "      <td>0.624500</td>\n",
       "      <td>2.789265</td>\n",
       "      <td>0.000000</td>\n",
       "      <td>0.0</td>\n",
       "      <td>WG</td>\n",
       "    </tr>\n",
       "    <tr>\n",
       "      <th>3</th>\n",
       "      <td>4</td>\n",
       "      <td>1.51766</td>\n",
       "      <td>13.21</td>\n",
       "      <td>3.69</td>\n",
       "      <td>1.29</td>\n",
       "      <td>72.61</td>\n",
       "      <td>0.754983</td>\n",
       "      <td>2.867054</td>\n",
       "      <td>0.000000</td>\n",
       "      <td>0.0</td>\n",
       "      <td>WG</td>\n",
       "    </tr>\n",
       "    <tr>\n",
       "      <th>4</th>\n",
       "      <td>5</td>\n",
       "      <td>1.51742</td>\n",
       "      <td>13.27</td>\n",
       "      <td>3.62</td>\n",
       "      <td>1.24</td>\n",
       "      <td>73.08</td>\n",
       "      <td>0.741620</td>\n",
       "      <td>2.840775</td>\n",
       "      <td>0.000000</td>\n",
       "      <td>0.0</td>\n",
       "      <td>WG</td>\n",
       "    </tr>\n",
       "    <tr>\n",
       "      <th>...</th>\n",
       "      <td>...</td>\n",
       "      <td>...</td>\n",
       "      <td>...</td>\n",
       "      <td>...</td>\n",
       "      <td>...</td>\n",
       "      <td>...</td>\n",
       "      <td>...</td>\n",
       "      <td>...</td>\n",
       "      <td>...</td>\n",
       "      <td>...</td>\n",
       "      <td>...</td>\n",
       "    </tr>\n",
       "    <tr>\n",
       "      <th>209</th>\n",
       "      <td>210</td>\n",
       "      <td>1.51623</td>\n",
       "      <td>14.14</td>\n",
       "      <td>0.00</td>\n",
       "      <td>2.88</td>\n",
       "      <td>72.61</td>\n",
       "      <td>0.282843</td>\n",
       "      <td>3.029851</td>\n",
       "      <td>1.029563</td>\n",
       "      <td>0.0</td>\n",
       "      <td>NWG</td>\n",
       "    </tr>\n",
       "    <tr>\n",
       "      <th>210</th>\n",
       "      <td>211</td>\n",
       "      <td>1.51685</td>\n",
       "      <td>14.92</td>\n",
       "      <td>0.00</td>\n",
       "      <td>1.99</td>\n",
       "      <td>73.06</td>\n",
       "      <td>0.000000</td>\n",
       "      <td>2.898275</td>\n",
       "      <td>1.260952</td>\n",
       "      <td>0.0</td>\n",
       "      <td>NWG</td>\n",
       "    </tr>\n",
       "    <tr>\n",
       "      <th>211</th>\n",
       "      <td>212</td>\n",
       "      <td>1.52065</td>\n",
       "      <td>14.36</td>\n",
       "      <td>0.00</td>\n",
       "      <td>2.02</td>\n",
       "      <td>73.42</td>\n",
       "      <td>0.000000</td>\n",
       "      <td>2.905168</td>\n",
       "      <td>1.280625</td>\n",
       "      <td>0.0</td>\n",
       "      <td>NWG</td>\n",
       "    </tr>\n",
       "    <tr>\n",
       "      <th>212</th>\n",
       "      <td>213</td>\n",
       "      <td>1.51651</td>\n",
       "      <td>14.38</td>\n",
       "      <td>0.00</td>\n",
       "      <td>1.94</td>\n",
       "      <td>73.61</td>\n",
       "      <td>0.000000</td>\n",
       "      <td>2.912044</td>\n",
       "      <td>1.252996</td>\n",
       "      <td>0.0</td>\n",
       "      <td>NWG</td>\n",
       "    </tr>\n",
       "    <tr>\n",
       "      <th>213</th>\n",
       "      <td>214</td>\n",
       "      <td>1.51711</td>\n",
       "      <td>14.23</td>\n",
       "      <td>0.00</td>\n",
       "      <td>2.08</td>\n",
       "      <td>73.36</td>\n",
       "      <td>0.000000</td>\n",
       "      <td>2.935984</td>\n",
       "      <td>1.292285</td>\n",
       "      <td>0.0</td>\n",
       "      <td>NWG</td>\n",
       "    </tr>\n",
       "  </tbody>\n",
       "</table>\n",
       "<p>214 rows × 11 columns</p>\n",
       "</div>"
      ],
      "text/plain": [
       "      ID       RI     NA    MG    AL     Si         K        Ca        Ba  \\\n",
       "0      1  1.52101  13.64  4.49  1.10  71.78  0.244949  2.958040  0.000000   \n",
       "1      2  1.51761  13.89  3.60  1.36  72.73  0.692820  2.798214  0.000000   \n",
       "2      3  1.51618  13.53  3.55  1.54  72.99  0.624500  2.789265  0.000000   \n",
       "3      4  1.51766  13.21  3.69  1.29  72.61  0.754983  2.867054  0.000000   \n",
       "4      5  1.51742  13.27  3.62  1.24  73.08  0.741620  2.840775  0.000000   \n",
       "..   ...      ...    ...   ...   ...    ...       ...       ...       ...   \n",
       "209  210  1.51623  14.14  0.00  2.88  72.61  0.282843  3.029851  1.029563   \n",
       "210  211  1.51685  14.92  0.00  1.99  73.06  0.000000  2.898275  1.260952   \n",
       "211  212  1.52065  14.36  0.00  2.02  73.42  0.000000  2.905168  1.280625   \n",
       "212  213  1.51651  14.38  0.00  1.94  73.61  0.000000  2.912044  1.252996   \n",
       "213  214  1.51711  14.23  0.00  2.08  73.36  0.000000  2.935984  1.292285   \n",
       "\n",
       "      Fe TypeOfGlass  \n",
       "0    0.0          WG  \n",
       "1    0.0          WG  \n",
       "2    0.0          WG  \n",
       "3    0.0          WG  \n",
       "4    0.0          WG  \n",
       "..   ...         ...  \n",
       "209  0.0         NWG  \n",
       "210  0.0         NWG  \n",
       "211  0.0         NWG  \n",
       "212  0.0         NWG  \n",
       "213  0.0         NWG  \n",
       "\n",
       "[214 rows x 11 columns]"
      ]
     },
     "execution_count": 27,
     "metadata": {},
     "output_type": "execute_result"
    }
   ],
   "source": [
    "df\n"
   ]
  },
  {
   "cell_type": "markdown",
   "id": "0e494aae",
   "metadata": {},
   "source": [
    "<span style=\"color:Blue;font-size: 22px;font-family: verdana;font-weight: bold \">LABEL ENCODER IMPLEMENTED IN TARGET VARIABLE</span> "
   ]
  },
  {
   "cell_type": "code",
   "execution_count": 28,
   "id": "77523115",
   "metadata": {},
   "outputs": [],
   "source": [
    "le=LabelEncoder()"
   ]
  },
  {
   "cell_type": "code",
   "execution_count": 29,
   "id": "76ee8914",
   "metadata": {
    "scrolled": false
   },
   "outputs": [
    {
     "data": {
      "text/plain": [
       "array([1, 1, 1, 1, 1, 1, 1, 1, 1, 1, 1, 1, 1, 1, 1, 1, 1, 1, 1, 1, 1, 1,\n",
       "       1, 1, 1, 1, 1, 1, 1, 1, 1, 1, 1, 1, 1, 1, 1, 1, 1, 1, 1, 1, 1, 1,\n",
       "       1, 1, 1, 1, 1, 1, 1, 1, 1, 1, 1, 1, 1, 1, 1, 1, 1, 1, 1, 1, 1, 1,\n",
       "       1, 1, 1, 1, 1, 1, 1, 1, 1, 1, 1, 1, 1, 1, 1, 1, 1, 1, 1, 1, 1, 1,\n",
       "       1, 1, 1, 1, 1, 1, 1, 1, 1, 1, 1, 1, 1, 1, 1, 1, 1, 1, 1, 1, 1, 1,\n",
       "       1, 1, 1, 1, 1, 1, 1, 1, 1, 1, 1, 1, 1, 1, 1, 1, 1, 1, 1, 1, 1, 1,\n",
       "       1, 1, 1, 1, 1, 1, 1, 1, 1, 1, 1, 1, 1, 1, 1, 1, 1, 1, 1, 1, 1, 1,\n",
       "       1, 1, 1, 1, 1, 1, 1, 1, 1, 0, 0, 0, 0, 0, 0, 0, 0, 0, 0, 0, 0, 0,\n",
       "       0, 0, 0, 0, 0, 0, 0, 0, 0, 0, 0, 0, 0, 0, 0, 0, 0, 0, 0, 0, 0, 0,\n",
       "       0, 0, 0, 0, 0, 0, 0, 0, 0, 0, 0, 0, 0, 0, 0, 0])"
      ]
     },
     "execution_count": 29,
     "metadata": {},
     "output_type": "execute_result"
    }
   ],
   "source": [
    "df_label_encode=le.fit_transform(df['TypeOfGlass'])\n",
    "df_label_encode"
   ]
  },
  {
   "cell_type": "code",
   "execution_count": 30,
   "id": "0233e2b4",
   "metadata": {},
   "outputs": [],
   "source": [
    "df2=df"
   ]
  },
  {
   "cell_type": "markdown",
   "id": "a525478f",
   "metadata": {},
   "source": [
    "<span style=\"color:Blue;font-size: 22px;font-family: verdana;font-weight: bold \">New DATAFRAME:df2: HAVING ENCODED TARGET VARIABLE</span>"
   ]
  },
  {
   "cell_type": "code",
   "execution_count": 31,
   "id": "18fa43c9",
   "metadata": {},
   "outputs": [],
   "source": [
    "df2['TypeOfGlass']=df_label_encode"
   ]
  },
  {
   "cell_type": "code",
   "execution_count": 32,
   "id": "69db48e1",
   "metadata": {},
   "outputs": [
    {
     "data": {
      "text/html": [
       "<div>\n",
       "<style scoped>\n",
       "    .dataframe tbody tr th:only-of-type {\n",
       "        vertical-align: middle;\n",
       "    }\n",
       "\n",
       "    .dataframe tbody tr th {\n",
       "        vertical-align: top;\n",
       "    }\n",
       "\n",
       "    .dataframe thead th {\n",
       "        text-align: right;\n",
       "    }\n",
       "</style>\n",
       "<table border=\"1\" class=\"dataframe\">\n",
       "  <thead>\n",
       "    <tr style=\"text-align: right;\">\n",
       "      <th></th>\n",
       "      <th>ID</th>\n",
       "      <th>RI</th>\n",
       "      <th>NA</th>\n",
       "      <th>MG</th>\n",
       "      <th>AL</th>\n",
       "      <th>Si</th>\n",
       "      <th>K</th>\n",
       "      <th>Ca</th>\n",
       "      <th>Ba</th>\n",
       "      <th>Fe</th>\n",
       "      <th>TypeOfGlass</th>\n",
       "    </tr>\n",
       "  </thead>\n",
       "  <tbody>\n",
       "    <tr>\n",
       "      <th>0</th>\n",
       "      <td>1</td>\n",
       "      <td>1.52101</td>\n",
       "      <td>13.64</td>\n",
       "      <td>4.49</td>\n",
       "      <td>1.10</td>\n",
       "      <td>71.78</td>\n",
       "      <td>0.244949</td>\n",
       "      <td>2.958040</td>\n",
       "      <td>0.000000</td>\n",
       "      <td>0.0</td>\n",
       "      <td>1</td>\n",
       "    </tr>\n",
       "    <tr>\n",
       "      <th>1</th>\n",
       "      <td>2</td>\n",
       "      <td>1.51761</td>\n",
       "      <td>13.89</td>\n",
       "      <td>3.60</td>\n",
       "      <td>1.36</td>\n",
       "      <td>72.73</td>\n",
       "      <td>0.692820</td>\n",
       "      <td>2.798214</td>\n",
       "      <td>0.000000</td>\n",
       "      <td>0.0</td>\n",
       "      <td>1</td>\n",
       "    </tr>\n",
       "    <tr>\n",
       "      <th>2</th>\n",
       "      <td>3</td>\n",
       "      <td>1.51618</td>\n",
       "      <td>13.53</td>\n",
       "      <td>3.55</td>\n",
       "      <td>1.54</td>\n",
       "      <td>72.99</td>\n",
       "      <td>0.624500</td>\n",
       "      <td>2.789265</td>\n",
       "      <td>0.000000</td>\n",
       "      <td>0.0</td>\n",
       "      <td>1</td>\n",
       "    </tr>\n",
       "    <tr>\n",
       "      <th>3</th>\n",
       "      <td>4</td>\n",
       "      <td>1.51766</td>\n",
       "      <td>13.21</td>\n",
       "      <td>3.69</td>\n",
       "      <td>1.29</td>\n",
       "      <td>72.61</td>\n",
       "      <td>0.754983</td>\n",
       "      <td>2.867054</td>\n",
       "      <td>0.000000</td>\n",
       "      <td>0.0</td>\n",
       "      <td>1</td>\n",
       "    </tr>\n",
       "    <tr>\n",
       "      <th>4</th>\n",
       "      <td>5</td>\n",
       "      <td>1.51742</td>\n",
       "      <td>13.27</td>\n",
       "      <td>3.62</td>\n",
       "      <td>1.24</td>\n",
       "      <td>73.08</td>\n",
       "      <td>0.741620</td>\n",
       "      <td>2.840775</td>\n",
       "      <td>0.000000</td>\n",
       "      <td>0.0</td>\n",
       "      <td>1</td>\n",
       "    </tr>\n",
       "    <tr>\n",
       "      <th>...</th>\n",
       "      <td>...</td>\n",
       "      <td>...</td>\n",
       "      <td>...</td>\n",
       "      <td>...</td>\n",
       "      <td>...</td>\n",
       "      <td>...</td>\n",
       "      <td>...</td>\n",
       "      <td>...</td>\n",
       "      <td>...</td>\n",
       "      <td>...</td>\n",
       "      <td>...</td>\n",
       "    </tr>\n",
       "    <tr>\n",
       "      <th>209</th>\n",
       "      <td>210</td>\n",
       "      <td>1.51623</td>\n",
       "      <td>14.14</td>\n",
       "      <td>0.00</td>\n",
       "      <td>2.88</td>\n",
       "      <td>72.61</td>\n",
       "      <td>0.282843</td>\n",
       "      <td>3.029851</td>\n",
       "      <td>1.029563</td>\n",
       "      <td>0.0</td>\n",
       "      <td>0</td>\n",
       "    </tr>\n",
       "    <tr>\n",
       "      <th>210</th>\n",
       "      <td>211</td>\n",
       "      <td>1.51685</td>\n",
       "      <td>14.92</td>\n",
       "      <td>0.00</td>\n",
       "      <td>1.99</td>\n",
       "      <td>73.06</td>\n",
       "      <td>0.000000</td>\n",
       "      <td>2.898275</td>\n",
       "      <td>1.260952</td>\n",
       "      <td>0.0</td>\n",
       "      <td>0</td>\n",
       "    </tr>\n",
       "    <tr>\n",
       "      <th>211</th>\n",
       "      <td>212</td>\n",
       "      <td>1.52065</td>\n",
       "      <td>14.36</td>\n",
       "      <td>0.00</td>\n",
       "      <td>2.02</td>\n",
       "      <td>73.42</td>\n",
       "      <td>0.000000</td>\n",
       "      <td>2.905168</td>\n",
       "      <td>1.280625</td>\n",
       "      <td>0.0</td>\n",
       "      <td>0</td>\n",
       "    </tr>\n",
       "    <tr>\n",
       "      <th>212</th>\n",
       "      <td>213</td>\n",
       "      <td>1.51651</td>\n",
       "      <td>14.38</td>\n",
       "      <td>0.00</td>\n",
       "      <td>1.94</td>\n",
       "      <td>73.61</td>\n",
       "      <td>0.000000</td>\n",
       "      <td>2.912044</td>\n",
       "      <td>1.252996</td>\n",
       "      <td>0.0</td>\n",
       "      <td>0</td>\n",
       "    </tr>\n",
       "    <tr>\n",
       "      <th>213</th>\n",
       "      <td>214</td>\n",
       "      <td>1.51711</td>\n",
       "      <td>14.23</td>\n",
       "      <td>0.00</td>\n",
       "      <td>2.08</td>\n",
       "      <td>73.36</td>\n",
       "      <td>0.000000</td>\n",
       "      <td>2.935984</td>\n",
       "      <td>1.292285</td>\n",
       "      <td>0.0</td>\n",
       "      <td>0</td>\n",
       "    </tr>\n",
       "  </tbody>\n",
       "</table>\n",
       "<p>214 rows × 11 columns</p>\n",
       "</div>"
      ],
      "text/plain": [
       "      ID       RI     NA    MG    AL     Si         K        Ca        Ba  \\\n",
       "0      1  1.52101  13.64  4.49  1.10  71.78  0.244949  2.958040  0.000000   \n",
       "1      2  1.51761  13.89  3.60  1.36  72.73  0.692820  2.798214  0.000000   \n",
       "2      3  1.51618  13.53  3.55  1.54  72.99  0.624500  2.789265  0.000000   \n",
       "3      4  1.51766  13.21  3.69  1.29  72.61  0.754983  2.867054  0.000000   \n",
       "4      5  1.51742  13.27  3.62  1.24  73.08  0.741620  2.840775  0.000000   \n",
       "..   ...      ...    ...   ...   ...    ...       ...       ...       ...   \n",
       "209  210  1.51623  14.14  0.00  2.88  72.61  0.282843  3.029851  1.029563   \n",
       "210  211  1.51685  14.92  0.00  1.99  73.06  0.000000  2.898275  1.260952   \n",
       "211  212  1.52065  14.36  0.00  2.02  73.42  0.000000  2.905168  1.280625   \n",
       "212  213  1.51651  14.38  0.00  1.94  73.61  0.000000  2.912044  1.252996   \n",
       "213  214  1.51711  14.23  0.00  2.08  73.36  0.000000  2.935984  1.292285   \n",
       "\n",
       "      Fe  TypeOfGlass  \n",
       "0    0.0            1  \n",
       "1    0.0            1  \n",
       "2    0.0            1  \n",
       "3    0.0            1  \n",
       "4    0.0            1  \n",
       "..   ...          ...  \n",
       "209  0.0            0  \n",
       "210  0.0            0  \n",
       "211  0.0            0  \n",
       "212  0.0            0  \n",
       "213  0.0            0  \n",
       "\n",
       "[214 rows x 11 columns]"
      ]
     },
     "execution_count": 32,
     "metadata": {},
     "output_type": "execute_result"
    }
   ],
   "source": [
    "df2"
   ]
  },
  {
   "cell_type": "markdown",
   "id": "c2303f28",
   "metadata": {},
   "source": [
    "<span style=\"color:MAGENTA;font-size: 22px;font-family: verdana;font-weight: bold \">Importing Machine learning Model library</span>"
   ]
  },
  {
   "cell_type": "code",
   "execution_count": 33,
   "id": "51177338",
   "metadata": {},
   "outputs": [],
   "source": [
    "\n",
    "from sklearn.linear_model import LogisticRegression\n",
    "from sklearn.naive_bayes import MultinomialNB\n",
    "from sklearn.tree import DecisionTreeClassifier\n",
    "from sklearn.neighbors import KNeighborsClassifier\n",
    "from sklearn.ensemble import RandomForestClassifier\n",
    "from sklearn.ensemble import AdaBoostClassifier\n",
    "from sklearn.ensemble import GradientBoostingClassifier\n",
    "from sklearn.model_selection import train_test_split,cross_val_score\n",
    "from sklearn.metrics import confusion_matrix,classification_report,accuracy_score\n",
    "import warnings\n",
    "warnings.filterwarnings('ignore')"
   ]
  },
  {
   "cell_type": "markdown",
   "id": "294801ed",
   "metadata": {},
   "source": [
    "<span style=\"color:Blue;font-size: 22px;font-family: verdana;font-weight: bold \">SPLITTED df2 INTO INPUT AND OUTPUT OR TARGET VARIABLE</span>"
   ]
  },
  {
   "cell_type": "markdown",
   "id": "1bdfa79c",
   "metadata": {},
   "source": [
    "<span style=\"color:RED;font-size: 15px;font-family: verdana;font-weight: bold \">X: INPUT OR INDEPENDENT VARIABLE</span>"
   ]
  },
  {
   "cell_type": "code",
   "execution_count": 34,
   "id": "7fd68edf",
   "metadata": {},
   "outputs": [
    {
     "data": {
      "text/html": [
       "<div>\n",
       "<style scoped>\n",
       "    .dataframe tbody tr th:only-of-type {\n",
       "        vertical-align: middle;\n",
       "    }\n",
       "\n",
       "    .dataframe tbody tr th {\n",
       "        vertical-align: top;\n",
       "    }\n",
       "\n",
       "    .dataframe thead th {\n",
       "        text-align: right;\n",
       "    }\n",
       "</style>\n",
       "<table border=\"1\" class=\"dataframe\">\n",
       "  <thead>\n",
       "    <tr style=\"text-align: right;\">\n",
       "      <th></th>\n",
       "      <th>ID</th>\n",
       "      <th>RI</th>\n",
       "      <th>NA</th>\n",
       "      <th>MG</th>\n",
       "      <th>AL</th>\n",
       "      <th>Si</th>\n",
       "      <th>K</th>\n",
       "      <th>Ca</th>\n",
       "      <th>Ba</th>\n",
       "      <th>Fe</th>\n",
       "    </tr>\n",
       "  </thead>\n",
       "  <tbody>\n",
       "    <tr>\n",
       "      <th>0</th>\n",
       "      <td>1</td>\n",
       "      <td>1.52101</td>\n",
       "      <td>13.64</td>\n",
       "      <td>4.49</td>\n",
       "      <td>1.10</td>\n",
       "      <td>71.78</td>\n",
       "      <td>0.244949</td>\n",
       "      <td>2.958040</td>\n",
       "      <td>0.000000</td>\n",
       "      <td>0.0</td>\n",
       "    </tr>\n",
       "    <tr>\n",
       "      <th>1</th>\n",
       "      <td>2</td>\n",
       "      <td>1.51761</td>\n",
       "      <td>13.89</td>\n",
       "      <td>3.60</td>\n",
       "      <td>1.36</td>\n",
       "      <td>72.73</td>\n",
       "      <td>0.692820</td>\n",
       "      <td>2.798214</td>\n",
       "      <td>0.000000</td>\n",
       "      <td>0.0</td>\n",
       "    </tr>\n",
       "    <tr>\n",
       "      <th>2</th>\n",
       "      <td>3</td>\n",
       "      <td>1.51618</td>\n",
       "      <td>13.53</td>\n",
       "      <td>3.55</td>\n",
       "      <td>1.54</td>\n",
       "      <td>72.99</td>\n",
       "      <td>0.624500</td>\n",
       "      <td>2.789265</td>\n",
       "      <td>0.000000</td>\n",
       "      <td>0.0</td>\n",
       "    </tr>\n",
       "    <tr>\n",
       "      <th>3</th>\n",
       "      <td>4</td>\n",
       "      <td>1.51766</td>\n",
       "      <td>13.21</td>\n",
       "      <td>3.69</td>\n",
       "      <td>1.29</td>\n",
       "      <td>72.61</td>\n",
       "      <td>0.754983</td>\n",
       "      <td>2.867054</td>\n",
       "      <td>0.000000</td>\n",
       "      <td>0.0</td>\n",
       "    </tr>\n",
       "    <tr>\n",
       "      <th>4</th>\n",
       "      <td>5</td>\n",
       "      <td>1.51742</td>\n",
       "      <td>13.27</td>\n",
       "      <td>3.62</td>\n",
       "      <td>1.24</td>\n",
       "      <td>73.08</td>\n",
       "      <td>0.741620</td>\n",
       "      <td>2.840775</td>\n",
       "      <td>0.000000</td>\n",
       "      <td>0.0</td>\n",
       "    </tr>\n",
       "    <tr>\n",
       "      <th>...</th>\n",
       "      <td>...</td>\n",
       "      <td>...</td>\n",
       "      <td>...</td>\n",
       "      <td>...</td>\n",
       "      <td>...</td>\n",
       "      <td>...</td>\n",
       "      <td>...</td>\n",
       "      <td>...</td>\n",
       "      <td>...</td>\n",
       "      <td>...</td>\n",
       "    </tr>\n",
       "    <tr>\n",
       "      <th>209</th>\n",
       "      <td>210</td>\n",
       "      <td>1.51623</td>\n",
       "      <td>14.14</td>\n",
       "      <td>0.00</td>\n",
       "      <td>2.88</td>\n",
       "      <td>72.61</td>\n",
       "      <td>0.282843</td>\n",
       "      <td>3.029851</td>\n",
       "      <td>1.029563</td>\n",
       "      <td>0.0</td>\n",
       "    </tr>\n",
       "    <tr>\n",
       "      <th>210</th>\n",
       "      <td>211</td>\n",
       "      <td>1.51685</td>\n",
       "      <td>14.92</td>\n",
       "      <td>0.00</td>\n",
       "      <td>1.99</td>\n",
       "      <td>73.06</td>\n",
       "      <td>0.000000</td>\n",
       "      <td>2.898275</td>\n",
       "      <td>1.260952</td>\n",
       "      <td>0.0</td>\n",
       "    </tr>\n",
       "    <tr>\n",
       "      <th>211</th>\n",
       "      <td>212</td>\n",
       "      <td>1.52065</td>\n",
       "      <td>14.36</td>\n",
       "      <td>0.00</td>\n",
       "      <td>2.02</td>\n",
       "      <td>73.42</td>\n",
       "      <td>0.000000</td>\n",
       "      <td>2.905168</td>\n",
       "      <td>1.280625</td>\n",
       "      <td>0.0</td>\n",
       "    </tr>\n",
       "    <tr>\n",
       "      <th>212</th>\n",
       "      <td>213</td>\n",
       "      <td>1.51651</td>\n",
       "      <td>14.38</td>\n",
       "      <td>0.00</td>\n",
       "      <td>1.94</td>\n",
       "      <td>73.61</td>\n",
       "      <td>0.000000</td>\n",
       "      <td>2.912044</td>\n",
       "      <td>1.252996</td>\n",
       "      <td>0.0</td>\n",
       "    </tr>\n",
       "    <tr>\n",
       "      <th>213</th>\n",
       "      <td>214</td>\n",
       "      <td>1.51711</td>\n",
       "      <td>14.23</td>\n",
       "      <td>0.00</td>\n",
       "      <td>2.08</td>\n",
       "      <td>73.36</td>\n",
       "      <td>0.000000</td>\n",
       "      <td>2.935984</td>\n",
       "      <td>1.292285</td>\n",
       "      <td>0.0</td>\n",
       "    </tr>\n",
       "  </tbody>\n",
       "</table>\n",
       "<p>214 rows × 10 columns</p>\n",
       "</div>"
      ],
      "text/plain": [
       "      ID       RI     NA    MG    AL     Si         K        Ca        Ba   Fe\n",
       "0      1  1.52101  13.64  4.49  1.10  71.78  0.244949  2.958040  0.000000  0.0\n",
       "1      2  1.51761  13.89  3.60  1.36  72.73  0.692820  2.798214  0.000000  0.0\n",
       "2      3  1.51618  13.53  3.55  1.54  72.99  0.624500  2.789265  0.000000  0.0\n",
       "3      4  1.51766  13.21  3.69  1.29  72.61  0.754983  2.867054  0.000000  0.0\n",
       "4      5  1.51742  13.27  3.62  1.24  73.08  0.741620  2.840775  0.000000  0.0\n",
       "..   ...      ...    ...   ...   ...    ...       ...       ...       ...  ...\n",
       "209  210  1.51623  14.14  0.00  2.88  72.61  0.282843  3.029851  1.029563  0.0\n",
       "210  211  1.51685  14.92  0.00  1.99  73.06  0.000000  2.898275  1.260952  0.0\n",
       "211  212  1.52065  14.36  0.00  2.02  73.42  0.000000  2.905168  1.280625  0.0\n",
       "212  213  1.51651  14.38  0.00  1.94  73.61  0.000000  2.912044  1.252996  0.0\n",
       "213  214  1.51711  14.23  0.00  2.08  73.36  0.000000  2.935984  1.292285  0.0\n",
       "\n",
       "[214 rows x 10 columns]"
      ]
     },
     "execution_count": 34,
     "metadata": {},
     "output_type": "execute_result"
    }
   ],
   "source": [
    "X=df2.drop(columns=['TypeOfGlass'])\n",
    "X"
   ]
  },
  {
   "cell_type": "markdown",
   "id": "4efd177e",
   "metadata": {},
   "source": [
    "<span style=\"color:RED;font-size: 15px;font-family: verdana;font-weight: bold \">Y: TARGET OR DEPENDENT VARIABLE</span>"
   ]
  },
  {
   "cell_type": "code",
   "execution_count": 35,
   "id": "6936a8ca",
   "metadata": {
    "scrolled": true
   },
   "outputs": [
    {
     "data": {
      "text/plain": [
       "0      1\n",
       "1      1\n",
       "2      1\n",
       "3      1\n",
       "4      1\n",
       "      ..\n",
       "209    0\n",
       "210    0\n",
       "211    0\n",
       "212    0\n",
       "213    0\n",
       "Name: TypeOfGlass, Length: 214, dtype: int32"
      ]
     },
     "execution_count": 35,
     "metadata": {},
     "output_type": "execute_result"
    }
   ],
   "source": [
    "Y=df2['TypeOfGlass']\n",
    "Y"
   ]
  },
  {
   "cell_type": "markdown",
   "id": "30d64220",
   "metadata": {},
   "source": [
    "<span style=\"color:green;font-size: 15px;font-family: verdana;font-weight: bold \">SPLITTING TRAINING AND TESTING DATA INTO 70:30 RATIO</span>"
   ]
  },
  {
   "cell_type": "code",
   "execution_count": 36,
   "id": "edbe1c41",
   "metadata": {},
   "outputs": [],
   "source": [
    "X_train,X_test,Y_train,Y_test=train_test_split(X,Y,test_size=0.30, random_state=43)"
   ]
  },
  {
   "cell_type": "code",
   "execution_count": 37,
   "id": "b8b4fa09",
   "metadata": {},
   "outputs": [
    {
     "data": {
      "text/plain": [
       "(149, 10)"
      ]
     },
     "execution_count": 37,
     "metadata": {},
     "output_type": "execute_result"
    }
   ],
   "source": [
    "X_train.shape"
   ]
  },
  {
   "cell_type": "code",
   "execution_count": 38,
   "id": "7ca7afe8",
   "metadata": {},
   "outputs": [
    {
     "data": {
      "text/plain": [
       "(65, 10)"
      ]
     },
     "execution_count": 38,
     "metadata": {},
     "output_type": "execute_result"
    }
   ],
   "source": [
    "X_test.shape"
   ]
  },
  {
   "cell_type": "code",
   "execution_count": 39,
   "id": "924c79d0",
   "metadata": {},
   "outputs": [
    {
     "data": {
      "text/plain": [
       "(149,)"
      ]
     },
     "execution_count": 39,
     "metadata": {},
     "output_type": "execute_result"
    }
   ],
   "source": [
    "Y_train.shape"
   ]
  },
  {
   "cell_type": "code",
   "execution_count": 40,
   "id": "521954b9",
   "metadata": {},
   "outputs": [
    {
     "data": {
      "text/plain": [
       "(65,)"
      ]
     },
     "execution_count": 40,
     "metadata": {},
     "output_type": "execute_result"
    }
   ],
   "source": [
    "Y_test.shape"
   ]
  },
  {
   "cell_type": "markdown",
   "id": "f4503daa",
   "metadata": {},
   "source": [
    "<span style=\"color:Blue;font-size: 22px;font-family: verdana;font-weight: bold \">FINDING BEST RANDOM STATE</span>"
   ]
  },
  {
   "cell_type": "code",
   "execution_count": 41,
   "id": "0ff44b6c",
   "metadata": {},
   "outputs": [
    {
     "name": "stdout",
     "output_type": "stream",
     "text": [
      "Accuracy Score at Random State 1 is 1.0\n",
      "Accuracy Score at Random State 2 is 1.0\n",
      "Accuracy Score at Random State 3 is 0.9846153846153847\n",
      "Accuracy Score at Random State 4 is 0.9846153846153847\n",
      "Accuracy Score at Random State 5 is 1.0\n",
      "Accuracy Score at Random State 6 is 1.0\n",
      "Accuracy Score at Random State 7 is 1.0\n",
      "Accuracy Score at Random State 8 is 1.0\n",
      "Accuracy Score at Random State 9 is 1.0\n",
      "Accuracy Score at Random State 10 is 1.0\n",
      "Accuracy Score at Random State 11 is 1.0\n",
      "Accuracy Score at Random State 12 is 1.0\n",
      "Accuracy Score at Random State 13 is 1.0\n",
      "Accuracy Score at Random State 14 is 0.9846153846153847\n",
      "Accuracy Score at Random State 15 is 0.9846153846153847\n",
      "Accuracy Score at Random State 16 is 0.9846153846153847\n",
      "Accuracy Score at Random State 17 is 1.0\n",
      "Accuracy Score at Random State 18 is 1.0\n",
      "Accuracy Score at Random State 19 is 0.9846153846153847\n",
      "Accuracy Score at Random State 20 is 0.9846153846153847\n",
      "Accuracy Score at Random State 21 is 1.0\n",
      "Accuracy Score at Random State 22 is 1.0\n",
      "Accuracy Score at Random State 23 is 1.0\n",
      "Accuracy Score at Random State 24 is 1.0\n",
      "Accuracy Score at Random State 25 is 1.0\n",
      "Accuracy Score at Random State 26 is 1.0\n",
      "Accuracy Score at Random State 27 is 0.9846153846153847\n",
      "Accuracy Score at Random State 28 is 0.9846153846153847\n",
      "Accuracy Score at Random State 29 is 0.9846153846153847\n",
      "Accuracy Score at Random State 30 is 1.0\n",
      "Accuracy Score at Random State 31 is 1.0\n",
      "Accuracy Score at Random State 32 is 1.0\n",
      "Accuracy Score at Random State 33 is 0.9846153846153847\n",
      "Accuracy Score at Random State 34 is 1.0\n",
      "Accuracy Score at Random State 35 is 1.0\n",
      "Accuracy Score at Random State 36 is 1.0\n",
      "Accuracy Score at Random State 37 is 1.0\n",
      "Accuracy Score at Random State 38 is 1.0\n",
      "Accuracy Score at Random State 39 is 0.9846153846153847\n",
      "Accuracy Score at Random State 40 is 1.0\n",
      "Accuracy Score at Random State 41 is 1.0\n",
      "Accuracy Score at Random State 42 is 1.0\n",
      "Accuracy Score at Random State 43 is 1.0\n",
      "Accuracy Score at Random State 44 is 1.0\n",
      "Accuracy Score at Random State 45 is 1.0\n",
      "Accuracy Score at Random State 46 is 0.9846153846153847\n",
      "Accuracy Score at Random State 47 is 1.0\n",
      "Accuracy Score at Random State 48 is 1.0\n",
      "Accuracy Score at Random State 49 is 1.0\n",
      "Accuracy Score at Random State 50 is 1.0\n",
      "Accuracy Score at Random State 51 is 1.0\n",
      "Accuracy Score at Random State 52 is 1.0\n",
      "Accuracy Score at Random State 53 is 0.9846153846153847\n",
      "Accuracy Score at Random State 54 is 1.0\n",
      "Accuracy Score at Random State 55 is 1.0\n",
      "Accuracy Score at Random State 56 is 1.0\n",
      "Accuracy Score at Random State 57 is 0.9846153846153847\n",
      "Accuracy Score at Random State 58 is 1.0\n",
      "Accuracy Score at Random State 59 is 1.0\n",
      "Accuracy Score at Random State 60 is 1.0\n",
      "Accuracy Score at Random State 61 is 1.0\n",
      "Accuracy Score at Random State 62 is 1.0\n",
      "Accuracy Score at Random State 63 is 1.0\n",
      "Accuracy Score at Random State 64 is 1.0\n",
      "Accuracy Score at Random State 65 is 0.9846153846153847\n",
      "Accuracy Score at Random State 66 is 1.0\n",
      "Accuracy Score at Random State 67 is 1.0\n",
      "Accuracy Score at Random State 68 is 1.0\n",
      "Accuracy Score at Random State 69 is 0.9846153846153847\n",
      "Accuracy Score at Random State 70 is 1.0\n",
      "Accuracy Score at Random State 71 is 1.0\n",
      "Accuracy Score at Random State 72 is 0.9846153846153847\n",
      "Accuracy Score at Random State 73 is 1.0\n",
      "Accuracy Score at Random State 74 is 1.0\n",
      "Accuracy Score at Random State 75 is 0.9846153846153847\n",
      "Accuracy Score at Random State 76 is 1.0\n",
      "Accuracy Score at Random State 77 is 1.0\n",
      "Accuracy Score at Random State 78 is 1.0\n",
      "Accuracy Score at Random State 79 is 1.0\n",
      "Accuracy Score at Random State 80 is 1.0\n",
      "Accuracy Score at Random State 81 is 1.0\n",
      "Accuracy Score at Random State 82 is 1.0\n",
      "Accuracy Score at Random State 83 is 1.0\n",
      "Accuracy Score at Random State 84 is 0.9846153846153847\n",
      "Accuracy Score at Random State 85 is 1.0\n",
      "Accuracy Score at Random State 86 is 1.0\n",
      "Accuracy Score at Random State 87 is 1.0\n",
      "Accuracy Score at Random State 88 is 1.0\n",
      "Accuracy Score at Random State 89 is 1.0\n",
      "Accuracy Score at Random State 90 is 1.0\n",
      "Accuracy Score at Random State 91 is 1.0\n",
      "Accuracy Score at Random State 92 is 0.9846153846153847\n",
      "Accuracy Score at Random State 93 is 1.0\n",
      "Accuracy Score at Random State 94 is 1.0\n",
      "Accuracy Score at Random State 95 is 0.9846153846153847\n",
      "Accuracy Score at Random State 96 is 1.0\n",
      "Accuracy Score at Random State 97 is 1.0\n",
      "Accuracy Score at Random State 98 is 1.0\n",
      "Accuracy Score at Random State 99 is 0.9846153846153847\n",
      "Accuracy Score at Random State 100 is 0.9846153846153847\n",
      "Accuracy Score at Random State 101 is 1.0\n",
      "Accuracy Score at Random State 102 is 0.9846153846153847\n",
      "Accuracy Score at Random State 103 is 1.0\n",
      "Accuracy Score at Random State 104 is 0.9846153846153847\n",
      "Accuracy Score at Random State 105 is 1.0\n",
      "Accuracy Score at Random State 106 is 1.0\n",
      "Accuracy Score at Random State 107 is 0.9846153846153847\n",
      "Accuracy Score at Random State 108 is 1.0\n",
      "Accuracy Score at Random State 109 is 1.0\n",
      "Accuracy Score at Random State 110 is 0.9846153846153847\n",
      "Accuracy Score at Random State 111 is 1.0\n",
      "Accuracy Score at Random State 112 is 1.0\n",
      "Accuracy Score at Random State 113 is 1.0\n",
      "Accuracy Score at Random State 114 is 1.0\n",
      "Accuracy Score at Random State 115 is 1.0\n",
      "Accuracy Score at Random State 116 is 1.0\n",
      "Accuracy Score at Random State 117 is 1.0\n",
      "Accuracy Score at Random State 118 is 0.9846153846153847\n",
      "Accuracy Score at Random State 119 is 1.0\n",
      "Accuracy Score at Random State 120 is 1.0\n",
      "Accuracy Score at Random State 121 is 1.0\n",
      "Accuracy Score at Random State 122 is 1.0\n",
      "Accuracy Score at Random State 123 is 1.0\n",
      "Accuracy Score at Random State 124 is 1.0\n",
      "Accuracy Score at Random State 125 is 0.9846153846153847\n",
      "Accuracy Score at Random State 126 is 0.9692307692307692\n",
      "Accuracy Score at Random State 127 is 1.0\n",
      "Accuracy Score at Random State 128 is 1.0\n",
      "Accuracy Score at Random State 129 is 1.0\n",
      "Accuracy Score at Random State 130 is 1.0\n",
      "Accuracy Score at Random State 131 is 1.0\n",
      "Accuracy Score at Random State 132 is 1.0\n",
      "Accuracy Score at Random State 133 is 1.0\n",
      "Accuracy Score at Random State 134 is 1.0\n",
      "Accuracy Score at Random State 135 is 0.9846153846153847\n",
      "Accuracy Score at Random State 136 is 0.9846153846153847\n",
      "Accuracy Score at Random State 137 is 1.0\n",
      "Accuracy Score at Random State 138 is 0.9846153846153847\n",
      "Accuracy Score at Random State 139 is 1.0\n",
      "Accuracy Score at Random State 140 is 1.0\n",
      "Accuracy Score at Random State 141 is 0.9846153846153847\n",
      "Accuracy Score at Random State 142 is 1.0\n",
      "Accuracy Score at Random State 143 is 1.0\n",
      "Accuracy Score at Random State 144 is 1.0\n",
      "Accuracy Score at Random State 145 is 1.0\n",
      "Accuracy Score at Random State 146 is 1.0\n",
      "Accuracy Score at Random State 147 is 0.9846153846153847\n",
      "Accuracy Score at Random State 148 is 0.9846153846153847\n",
      "Accuracy Score at Random State 149 is 1.0\n",
      "Accuracy Score at Random State 150 is 1.0\n",
      "Accuracy Score at Random State 151 is 1.0\n",
      "Accuracy Score at Random State 152 is 1.0\n",
      "Accuracy Score at Random State 153 is 0.9846153846153847\n",
      "Accuracy Score at Random State 154 is 1.0\n",
      "Accuracy Score at Random State 155 is 1.0\n",
      "Accuracy Score at Random State 156 is 0.9846153846153847\n",
      "Accuracy Score at Random State 157 is 0.9846153846153847\n",
      "Accuracy Score at Random State 158 is 0.9846153846153847\n",
      "Accuracy Score at Random State 159 is 0.9846153846153847\n",
      "Accuracy Score at Random State 160 is 1.0\n",
      "Accuracy Score at Random State 161 is 1.0\n",
      "Accuracy Score at Random State 162 is 0.9846153846153847\n",
      "Accuracy Score at Random State 163 is 1.0\n",
      "Accuracy Score at Random State 164 is 1.0\n",
      "Accuracy Score at Random State 165 is 1.0\n",
      "Accuracy Score at Random State 166 is 1.0\n",
      "Accuracy Score at Random State 167 is 1.0\n",
      "Accuracy Score at Random State 168 is 1.0\n",
      "Accuracy Score at Random State 169 is 1.0\n",
      "Accuracy Score at Random State 170 is 1.0\n",
      "Accuracy Score at Random State 171 is 1.0\n",
      "Accuracy Score at Random State 172 is 0.9846153846153847\n",
      "Accuracy Score at Random State 173 is 0.9846153846153847\n",
      "Accuracy Score at Random State 174 is 1.0\n",
      "Accuracy Score at Random State 175 is 1.0\n",
      "Accuracy Score at Random State 176 is 1.0\n",
      "Accuracy Score at Random State 177 is 1.0\n",
      "Accuracy Score at Random State 178 is 0.9846153846153847\n",
      "Accuracy Score at Random State 179 is 0.9846153846153847\n",
      "Accuracy Score at Random State 180 is 0.9846153846153847\n",
      "Accuracy Score at Random State 181 is 0.9846153846153847\n"
     ]
    },
    {
     "name": "stdout",
     "output_type": "stream",
     "text": [
      "Accuracy Score at Random State 182 is 1.0\n",
      "Accuracy Score at Random State 183 is 1.0\n",
      "Accuracy Score at Random State 184 is 1.0\n",
      "Accuracy Score at Random State 185 is 1.0\n",
      "Accuracy Score at Random State 186 is 0.9846153846153847\n",
      "Accuracy Score at Random State 187 is 1.0\n",
      "Accuracy Score at Random State 188 is 0.9846153846153847\n",
      "Accuracy Score at Random State 189 is 0.9846153846153847\n",
      "Accuracy Score at Random State 190 is 1.0\n",
      "Accuracy Score at Random State 191 is 0.9846153846153847\n",
      "Accuracy Score at Random State 192 is 1.0\n",
      "Accuracy Score at Random State 193 is 1.0\n",
      "Accuracy Score at Random State 194 is 1.0\n",
      "Accuracy Score at Random State 195 is 1.0\n",
      "Accuracy Score at Random State 196 is 0.9846153846153847\n",
      "Accuracy Score at Random State 197 is 1.0\n",
      "Accuracy Score at Random State 198 is 0.9846153846153847\n",
      "Accuracy Score at Random State 199 is 1.0\n",
      "Accuracy Score at Random State 200 is 1.0\n",
      "Accuracy Score at Random State 201 is 1.0\n",
      "Accuracy Score at Random State 202 is 1.0\n",
      "Accuracy Score at Random State 203 is 1.0\n",
      "Accuracy Score at Random State 204 is 1.0\n",
      "Accuracy Score at Random State 205 is 1.0\n",
      "Accuracy Score at Random State 206 is 1.0\n",
      "Accuracy Score at Random State 207 is 1.0\n",
      "Accuracy Score at Random State 208 is 1.0\n",
      "Accuracy Score at Random State 209 is 0.9846153846153847\n",
      "Accuracy Score at Random State 210 is 0.9846153846153847\n",
      "Accuracy Score at Random State 211 is 1.0\n",
      "Accuracy Score at Random State 212 is 1.0\n",
      "Accuracy Score at Random State 213 is 1.0\n",
      "Accuracy Score at Random State 214 is 1.0\n",
      "Accuracy Score at Random State 215 is 1.0\n",
      "Accuracy Score at Random State 216 is 1.0\n",
      "Accuracy Score at Random State 217 is 0.9846153846153847\n",
      "Accuracy Score at Random State 218 is 0.9846153846153847\n",
      "Accuracy Score at Random State 219 is 1.0\n",
      "Accuracy Score at Random State 220 is 0.9846153846153847\n",
      "Accuracy Score at Random State 221 is 0.9846153846153847\n",
      "Accuracy Score at Random State 222 is 1.0\n",
      "Accuracy Score at Random State 223 is 0.9846153846153847\n",
      "Accuracy Score at Random State 224 is 1.0\n",
      "Accuracy Score at Random State 225 is 1.0\n",
      "Accuracy Score at Random State 226 is 1.0\n",
      "Accuracy Score at Random State 227 is 1.0\n",
      "Accuracy Score at Random State 228 is 0.9846153846153847\n",
      "Accuracy Score at Random State 229 is 0.9846153846153847\n",
      "Accuracy Score at Random State 230 is 1.0\n",
      "Accuracy Score at Random State 231 is 1.0\n",
      "Accuracy Score at Random State 232 is 1.0\n",
      "Accuracy Score at Random State 233 is 1.0\n",
      "Accuracy Score at Random State 234 is 1.0\n",
      "Accuracy Score at Random State 235 is 1.0\n",
      "Accuracy Score at Random State 236 is 0.9846153846153847\n",
      "Accuracy Score at Random State 237 is 0.9846153846153847\n",
      "Accuracy Score at Random State 238 is 1.0\n",
      "Accuracy Score at Random State 239 is 1.0\n",
      "Accuracy Score at Random State 240 is 1.0\n",
      "Accuracy Score at Random State 241 is 1.0\n",
      "Accuracy Score at Random State 242 is 1.0\n",
      "Accuracy Score at Random State 243 is 1.0\n",
      "Accuracy Score at Random State 244 is 1.0\n",
      "Accuracy Score at Random State 245 is 1.0\n",
      "Accuracy Score at Random State 246 is 1.0\n",
      "Accuracy Score at Random State 247 is 0.9846153846153847\n",
      "Accuracy Score at Random State 248 is 1.0\n",
      "Accuracy Score at Random State 249 is 1.0\n",
      "Accuracy Score at Random State 250 is 1.0\n",
      "Accuracy Score at Random State 251 is 1.0\n",
      "Accuracy Score at Random State 252 is 1.0\n",
      "Accuracy Score at Random State 253 is 0.9846153846153847\n",
      "Accuracy Score at Random State 254 is 1.0\n",
      "Accuracy Score at Random State 255 is 1.0\n",
      "Accuracy Score at Random State 256 is 1.0\n",
      "Accuracy Score at Random State 257 is 1.0\n",
      "Accuracy Score at Random State 258 is 1.0\n",
      "Accuracy Score at Random State 259 is 1.0\n",
      "Accuracy Score at Random State 260 is 0.9846153846153847\n",
      "Accuracy Score at Random State 261 is 0.9846153846153847\n",
      "Accuracy Score at Random State 262 is 1.0\n",
      "Accuracy Score at Random State 263 is 1.0\n",
      "Accuracy Score at Random State 264 is 1.0\n",
      "Accuracy Score at Random State 265 is 0.9846153846153847\n",
      "Accuracy Score at Random State 266 is 1.0\n",
      "Accuracy Score at Random State 267 is 1.0\n",
      "Accuracy Score at Random State 268 is 0.9846153846153847\n",
      "Accuracy Score at Random State 269 is 0.9846153846153847\n",
      "Accuracy Score at Random State 270 is 1.0\n",
      "Accuracy Score at Random State 271 is 1.0\n",
      "Accuracy Score at Random State 272 is 1.0\n",
      "Accuracy Score at Random State 273 is 1.0\n",
      "Accuracy Score at Random State 274 is 1.0\n",
      "Accuracy Score at Random State 275 is 1.0\n",
      "Accuracy Score at Random State 276 is 0.9846153846153847\n",
      "Accuracy Score at Random State 277 is 0.9692307692307692\n",
      "Accuracy Score at Random State 278 is 0.9846153846153847\n",
      "Accuracy Score at Random State 279 is 0.9846153846153847\n",
      "Accuracy Score at Random State 280 is 1.0\n",
      "Accuracy Score at Random State 281 is 1.0\n",
      "Accuracy Score at Random State 282 is 1.0\n",
      "Accuracy Score at Random State 283 is 0.9846153846153847\n",
      "Accuracy Score at Random State 284 is 1.0\n",
      "Accuracy Score at Random State 285 is 1.0\n",
      "Accuracy Score at Random State 286 is 1.0\n",
      "Accuracy Score at Random State 287 is 1.0\n",
      "Accuracy Score at Random State 288 is 1.0\n",
      "Accuracy Score at Random State 289 is 1.0\n",
      "Accuracy Score at Random State 290 is 1.0\n",
      "Accuracy Score at Random State 291 is 0.9846153846153847\n",
      "Accuracy Score at Random State 292 is 1.0\n",
      "Accuracy Score at Random State 293 is 1.0\n",
      "Accuracy Score at Random State 294 is 1.0\n",
      "Accuracy Score at Random State 295 is 1.0\n",
      "Accuracy Score at Random State 296 is 1.0\n",
      "Accuracy Score at Random State 297 is 1.0\n",
      "Accuracy Score at Random State 298 is 0.9846153846153847\n",
      "Accuracy Score at Random State 299 is 1.0\n",
      "Maximum Accuracy Score is 1.0 at Random State 1\n"
     ]
    }
   ],
   "source": [
    "max_acc = 0\n",
    "max_rs = 0\n",
    "\n",
    "for i in range(1, 300):\n",
    "    X_train, X_test, Y_train, Y_test = train_test_split(X, Y, test_size=0.30, random_state=i)\n",
    "    lr = LogisticRegression()\n",
    "    lr.fit(X_train, Y_train)\n",
    "    pred = lr.predict(X_test)\n",
    "    acc_report = accuracy_score(Y_test, pred)\n",
    "    \n",
    "    if acc_report > max_acc:\n",
    "        max_acc = acc_report\n",
    "        max_rs = i\n",
    "\n",
    "    # Print accuracy for each random state\n",
    "    print(\"Accuracy Score at Random State\", i, \"is\", acc_report)\n",
    "\n",
    "# Print the maximum accuracy and corresponding random state\n",
    "print(\"Maximum Accuracy Score is\", max_acc, \"at Random State\", max_rs)\n"
   ]
  },
  {
   "cell_type": "markdown",
   "id": "5ff93710",
   "metadata": {},
   "source": [
    "<span style=\"color:Blue;font-size: 22px;font-family: verdana;font-weight: bold \">FINDING BEST RANDOM STATE BY CROSS VALIDATION SCORE</span>"
   ]
  },
  {
   "cell_type": "code",
   "execution_count": 42,
   "id": "89d9c9e4",
   "metadata": {},
   "outputs": [
    {
     "name": "stdout",
     "output_type": "stream",
     "text": [
      "Best Random State is 4 with Mean Accuracy 1.0\n"
     ]
    }
   ],
   "source": [
    "from sklearn.model_selection import cross_val_score, StratifiedKFold\n",
    "from sklearn.linear_model import LogisticRegression\n",
    "\n",
    "# Assume X and Y are feature matrix and target variable\n",
    "\n",
    "best_acc = 0\n",
    "best_rs = 0\n",
    "\n",
    "for i in range(1, 300):\n",
    "    # Create a logistic regression model\n",
    "    lr = LogisticRegression()\n",
    "\n",
    "    # Create a StratifiedKFold object for cross-validation\n",
    "    cv = StratifiedKFold(n_splits=5, shuffle=True, random_state=i)\n",
    "\n",
    "    # Perform cross-validation\n",
    "    acc_scores = cross_val_score(lr, X, Y, cv=cv, scoring='accuracy')\n",
    "\n",
    "    # Calculate the mean accuracy across folds\n",
    "    acc_mean = acc_scores.mean()\n",
    "\n",
    "    # Update best random state if a higher mean accuracy is found\n",
    "    if acc_mean > best_acc:\n",
    "        best_acc = acc_mean\n",
    "        best_rs = i\n",
    "\n",
    "# Print the best random state and corresponding mean accuracy\n",
    "print(\"Best Random State is\", best_rs, \"with Mean Accuracy\", best_acc)\n"
   ]
  },
  {
   "cell_type": "markdown",
   "id": "a5cd9690",
   "metadata": {},
   "source": [
    "<span style=\"color:Blue;font-size: 22px;font-family: verdana;font-weight: bold \">LOGISTIC REGRESSION</SPAN>\n"
   ]
  },
  {
   "cell_type": "code",
   "execution_count": 43,
   "id": "a432f9ce",
   "metadata": {},
   "outputs": [
    {
     "name": "stdout",
     "output_type": "stream",
     "text": [
      "Accuracy Score  0.9846153846153847\n",
      "Confusion Matrix  [[17  0]\n",
      " [ 1 47]]\n",
      "Classfication Reports                precision    recall  f1-score   support\n",
      "\n",
      "           0       0.94      1.00      0.97        17\n",
      "           1       1.00      0.98      0.99        48\n",
      "\n",
      "    accuracy                           0.98        65\n",
      "   macro avg       0.97      0.99      0.98        65\n",
      "weighted avg       0.99      0.98      0.98        65\n",
      "\n"
     ]
    }
   ],
   "source": [
    "X_train,X_test,Y_train,Y_test=train_test_split(X,Y, test_size=0.3, random_state=4)\n",
    "\n",
    "lr=LogisticRegression()\n",
    "lr.fit(X_train,Y_train)\n",
    "pred=lr.predict(X_test)\n",
    "\n",
    "print(\"Accuracy Score \", accuracy_score(pred,Y_test))\n",
    "print(\"Confusion Matrix \", confusion_matrix(pred,Y_test))\n",
    "print(\"Classfication Reports \", classification_report(pred,Y_test))"
   ]
  },
  {
   "cell_type": "markdown",
   "id": "35168b5e",
   "metadata": {},
   "source": [
    "<span style=\"color:Blue;font-size: 22px;font-family: verdana;font-weight: bold \">DECESSION TREE CLASSIFIER</SPAN>\n"
   ]
  },
  {
   "cell_type": "code",
   "execution_count": 44,
   "id": "ea866164",
   "metadata": {},
   "outputs": [
    {
     "name": "stdout",
     "output_type": "stream",
     "text": [
      "Accuracy Score  0.9846153846153847\n",
      "Confusion Matrix  [[17  0]\n",
      " [ 1 47]]\n",
      "Classfication Reports                precision    recall  f1-score   support\n",
      "\n",
      "           0       0.94      1.00      0.97        17\n",
      "           1       1.00      0.98      0.99        48\n",
      "\n",
      "    accuracy                           0.98        65\n",
      "   macro avg       0.97      0.99      0.98        65\n",
      "weighted avg       0.99      0.98      0.98        65\n",
      "\n"
     ]
    }
   ],
   "source": [
    "X_train,X_test,Y_train,Y_test=train_test_split(X,Y, test_size=0.3, random_state=4)\n",
    "dtc=DecisionTreeClassifier()\n",
    "dtc.fit(X_train,Y_train)\n",
    "pred=dtc.predict(X_test)\n",
    "\n",
    "print(\"Accuracy Score \", accuracy_score(pred,Y_test))\n",
    "print(\"Confusion Matrix \", confusion_matrix(pred,Y_test))\n",
    "print(\"Classfication Reports \", classification_report(pred,Y_test))"
   ]
  },
  {
   "cell_type": "markdown",
   "id": "6397a50a",
   "metadata": {},
   "source": [
    "<span style=\"color:Blue;font-size: 22px;font-family: verdana;font-weight: bold \">K Neighbors Classifier</SPAN>\n"
   ]
  },
  {
   "cell_type": "code",
   "execution_count": 45,
   "id": "712cd706",
   "metadata": {},
   "outputs": [
    {
     "name": "stdout",
     "output_type": "stream",
     "text": [
      "Accuracy Score  0.9846153846153847\n",
      "Confusion Matrix  [[17  0]\n",
      " [ 1 47]]\n",
      "Classfication Reports                precision    recall  f1-score   support\n",
      "\n",
      "           0       0.94      1.00      0.97        17\n",
      "           1       1.00      0.98      0.99        48\n",
      "\n",
      "    accuracy                           0.98        65\n",
      "   macro avg       0.97      0.99      0.98        65\n",
      "weighted avg       0.99      0.98      0.98        65\n",
      "\n"
     ]
    }
   ],
   "source": [
    "X_train,X_test,Y_train,Y_test=train_test_split(X,Y, test_size=0.3, random_state=4)\n",
    "knn=KNeighborsClassifier()\n",
    "knn.fit(X_train,Y_train)\n",
    "pred=knn.predict(X_test)\n",
    "\n",
    "print(\"Accuracy Score \", accuracy_score(pred,Y_test))\n",
    "print(\"Confusion Matrix \", confusion_matrix(pred,Y_test))\n",
    "print(\"Classfication Reports \", classification_report(pred,Y_test))"
   ]
  },
  {
   "cell_type": "markdown",
   "id": "41e1e1b3",
   "metadata": {},
   "source": [
    "<span style=\"color:Blue;font-size: 22px;font-family: verdana;font-weight: bold \">Random Forest Classifier</SPAN>"
   ]
  },
  {
   "cell_type": "code",
   "execution_count": 46,
   "id": "200f5f2d",
   "metadata": {},
   "outputs": [
    {
     "name": "stdout",
     "output_type": "stream",
     "text": [
      "Accuracy Score  0.9846153846153847\n",
      "Confusion Matrix  [[17  0]\n",
      " [ 1 47]]\n",
      "Classfication Reports                precision    recall  f1-score   support\n",
      "\n",
      "           0       0.94      1.00      0.97        17\n",
      "           1       1.00      0.98      0.99        48\n",
      "\n",
      "    accuracy                           0.98        65\n",
      "   macro avg       0.97      0.99      0.98        65\n",
      "weighted avg       0.99      0.98      0.98        65\n",
      "\n"
     ]
    }
   ],
   "source": [
    "rfc=RandomForestClassifier()\n",
    "rfc.fit(X_train,Y_train)\n",
    "pred=rfc.predict(X_test)\n",
    "\n",
    "print(\"Accuracy Score \", accuracy_score(pred,Y_test))\n",
    "print(\"Confusion Matrix \", confusion_matrix(pred,Y_test))\n",
    "print(\"Classfication Reports \", classification_report(pred,Y_test))"
   ]
  },
  {
   "cell_type": "markdown",
   "id": "232e5e91",
   "metadata": {},
   "source": [
    "<span style=\"color:Blue;font-size: 22px;font-family: verdana;font-weight: bold \">Ada Boost Classifier</SPAN>\n"
   ]
  },
  {
   "cell_type": "code",
   "execution_count": 47,
   "id": "84fead9f",
   "metadata": {},
   "outputs": [
    {
     "name": "stdout",
     "output_type": "stream",
     "text": [
      "Accuracy Score  0.9846153846153847\n",
      "Confusion Matrix  [[17  0]\n",
      " [ 1 47]]\n",
      "Classfication Reports                precision    recall  f1-score   support\n",
      "\n",
      "           0       0.94      1.00      0.97        17\n",
      "           1       1.00      0.98      0.99        48\n",
      "\n",
      "    accuracy                           0.98        65\n",
      "   macro avg       0.97      0.99      0.98        65\n",
      "weighted avg       0.99      0.98      0.98        65\n",
      "\n"
     ]
    }
   ],
   "source": [
    "abc=AdaBoostClassifier()\n",
    "abc.fit(X_train,Y_train)\n",
    "pred=abc.predict(X_test)\n",
    "\n",
    "print(\"Accuracy Score \", accuracy_score(pred,Y_test))\n",
    "print(\"Confusion Matrix \", confusion_matrix(pred,Y_test))\n",
    "print(\"Classfication Reports \", classification_report(pred,Y_test))"
   ]
  },
  {
   "cell_type": "markdown",
   "id": "b3f447d2",
   "metadata": {},
   "source": [
    "<span style=\"color:Blue;font-size: 22px;font-family: verdana;font-weight: bold \">Gradient Boosting Classifier</SPAN>"
   ]
  },
  {
   "cell_type": "code",
   "execution_count": 48,
   "id": "e25f3927",
   "metadata": {},
   "outputs": [
    {
     "name": "stdout",
     "output_type": "stream",
     "text": [
      "Accuracy Score  0.9846153846153847\n",
      "Confusion Matrix  [[17  0]\n",
      " [ 1 47]]\n",
      "Classfication Reports                precision    recall  f1-score   support\n",
      "\n",
      "           0       0.94      1.00      0.97        17\n",
      "           1       1.00      0.98      0.99        48\n",
      "\n",
      "    accuracy                           0.98        65\n",
      "   macro avg       0.97      0.99      0.98        65\n",
      "weighted avg       0.99      0.98      0.98        65\n",
      "\n"
     ]
    }
   ],
   "source": [
    "gbc=GradientBoostingClassifier()\n",
    "gbc.fit(X_train,Y_train)\n",
    "pred=gbc.predict(X_test)\n",
    "\n",
    "print(\"Accuracy Score \", accuracy_score(pred,Y_test))\n",
    "print(\"Confusion Matrix \", confusion_matrix(pred,Y_test))\n",
    "print(\"Classfication Reports \", classification_report(pred,Y_test))"
   ]
  },
  {
   "cell_type": "markdown",
   "id": "5b77a366",
   "metadata": {},
   "source": [
    "<span style=\"color:Blue;font-size: 22px;font-family: verdana;font-weight: bold \">CROSS VALIDATION SCORE WITH LOGISTIC REGRESSION</SPAN>"
   ]
  },
  {
   "cell_type": "code",
   "execution_count": 49,
   "id": "be24ddd7",
   "metadata": {},
   "outputs": [
    {
     "name": "stdout",
     "output_type": "stream",
     "text": [
      "Cross Validation score is [0.90697674 1.         1.         1.         0.61904762]\n",
      "Mean of Cross Validation score is 0.905204872646733\n",
      "Standard Deviation of Cross Validation score is 0.14754488254487566\n"
     ]
    }
   ],
   "source": [
    "from sklearn.model_selection import cross_val_score\n",
    "cv_score=cross_val_score(lr,X ,Y, cv=5)\n",
    "print(\"Cross Validation score is\", cv_score)\n",
    "print(\"Mean of Cross Validation score is\", cv_score.mean())\n",
    "print(\"Standard Deviation of Cross Validation score is\", cv_score.std())"
   ]
  },
  {
   "cell_type": "markdown",
   "id": "befb5391",
   "metadata": {},
   "source": [
    "<span style=\"color:Blue;font-size: 22px;font-family: verdana;font-weight: bold \">CROSS VALIDATION SCORE WITH DTC</SPAN>"
   ]
  },
  {
   "cell_type": "code",
   "execution_count": 50,
   "id": "22d5ea38",
   "metadata": {},
   "outputs": [
    {
     "name": "stdout",
     "output_type": "stream",
     "text": [
      "Cross Validation score is [0.88372093 1.         1.         1.         0.61904762]\n",
      "Mean of Cross Validation score is 0.9005537098560353\n",
      "Standard Deviation of Cross Validation score is 0.14778207976766444\n"
     ]
    }
   ],
   "source": [
    "from sklearn.model_selection import cross_val_score\n",
    "cv_score=cross_val_score(dtc,X ,Y, cv=5)\n",
    "print(\"Cross Validation score is\", cv_score)\n",
    "print(\"Mean of Cross Validation score is\", cv_score.mean())\n",
    "print(\"Standard Deviation of Cross Validation score is\", cv_score.std())"
   ]
  },
  {
   "cell_type": "markdown",
   "id": "6a0e8b0f",
   "metadata": {},
   "source": [
    "<span style=\"color:Blue;font-size: 22px;font-family: verdana;font-weight: bold \">CROSS VALIDATION SCORE WITH KNEIGHBOUR CLASSIFIER</SPAN>"
   ]
  },
  {
   "cell_type": "code",
   "execution_count": 51,
   "id": "eaca75c5",
   "metadata": {},
   "outputs": [
    {
     "name": "stdout",
     "output_type": "stream",
     "text": [
      "Cross Validation score is [0.88372093 1.         1.         1.         0.61904762]\n",
      "Mean of Cross Validation score is 0.9005537098560353\n",
      "Standard Deviation of Cross Validation score is 0.14778207976766444\n"
     ]
    }
   ],
   "source": [
    "from sklearn.model_selection import cross_val_score\n",
    "cv_score=cross_val_score(knn,X ,Y, cv=5)\n",
    "print(\"Cross Validation score is\", cv_score)\n",
    "print(\"Mean of Cross Validation score is\", cv_score.mean())\n",
    "print(\"Standard Deviation of Cross Validation score is\", cv_score.std())"
   ]
  },
  {
   "cell_type": "markdown",
   "id": "2de9abc8",
   "metadata": {},
   "source": [
    "<span style=\"color:Blue;font-size: 22px;font-family: verdana;font-weight: bold \">CROSS VALIDATION SCORE WITH RANDOM FOREST CLASSIFIER</SPAN>"
   ]
  },
  {
   "cell_type": "code",
   "execution_count": 52,
   "id": "6b4d4269",
   "metadata": {},
   "outputs": [
    {
     "name": "stdout",
     "output_type": "stream",
     "text": [
      "Cross Validation score is [0.88372093 1.         1.         1.         0.76190476]\n",
      "Mean of Cross Validation score is 0.9291251384274639\n",
      "Standard Deviation of Cross Validation score is 0.09496729379631605\n"
     ]
    }
   ],
   "source": [
    "from sklearn.model_selection import cross_val_score\n",
    "cv_score=cross_val_score(rfc,X ,Y, cv=5)\n",
    "print(\"Cross Validation score is\", cv_score)\n",
    "print(\"Mean of Cross Validation score is\", cv_score.mean())\n",
    "print(\"Standard Deviation of Cross Validation score is\", cv_score.std())"
   ]
  },
  {
   "cell_type": "markdown",
   "id": "7a5d0591",
   "metadata": {},
   "source": [
    "<span style=\"color:Blue;font-size: 22px;font-family: verdana;font-weight: bold \">CROSS VALIDATION SCORE WITH ADABOOST CLASSIFIER</SPAN>"
   ]
  },
  {
   "cell_type": "code",
   "execution_count": 53,
   "id": "68a23d20",
   "metadata": {},
   "outputs": [
    {
     "name": "stdout",
     "output_type": "stream",
     "text": [
      "Cross Validation score is [0.88372093 1.         1.         1.         0.61904762]\n",
      "Mean of Cross Validation score is 0.9005537098560353\n",
      "Standard Deviation of Cross Validation score is 0.14778207976766444\n"
     ]
    }
   ],
   "source": [
    "from sklearn.model_selection import cross_val_score\n",
    "cv_score=cross_val_score(abc,X ,Y, cv=5)\n",
    "print(\"Cross Validation score is\", cv_score)\n",
    "print(\"Mean of Cross Validation score is\", cv_score.mean())\n",
    "print(\"Standard Deviation of Cross Validation score is\", cv_score.std())"
   ]
  },
  {
   "cell_type": "markdown",
   "id": "74d49e07",
   "metadata": {},
   "source": [
    "<span style=\"color:Blue;font-size: 22px;font-family: verdana;font-weight: bold \">CROSS VALIDATION SCORE WITH GRADIENT BOOST CLASSIFIER</SPAN>"
   ]
  },
  {
   "cell_type": "code",
   "execution_count": 54,
   "id": "21070aa4",
   "metadata": {},
   "outputs": [
    {
     "name": "stdout",
     "output_type": "stream",
     "text": [
      "Cross Validation score is [0.88372093 1.         1.         1.         0.61904762]\n",
      "Mean of Cross Validation score is 0.9005537098560353\n",
      "Standard Deviation of Cross Validation score is 0.14778207976766444\n"
     ]
    }
   ],
   "source": [
    "cv_score=cross_val_score(gbc,X ,Y, cv=5)\n",
    "print(\"Cross Validation score is\", cv_score)\n",
    "print(\"Mean of Cross Validation score is\", cv_score.mean())\n",
    "print(\"Standard Deviation of Cross Validation score is\", cv_score.std())"
   ]
  },
  {
   "cell_type": "markdown",
   "id": "96cbca8b",
   "metadata": {},
   "source": [
    "<span style=\"color:magenta;font-size: 22px;font-family: verdana;font-weight: bold \">Based on the provided cross-validation results, mean cross-validation scores, and standard deviations, here are some observations</SPAN>\n",
    "\n",
    "Logistic Regression:\n",
    "\n",
    "Mean CV Score: 0.905\n",
    "Standard Deviation: 0.148\n",
    "\n",
    "Decision Tree Classifier (DTC):\n",
    "\n",
    "Mean CV Score: 0.901\n",
    "Standard Deviation: 0.148\n",
    "\n",
    "K-Nearest Neighbors (KNN):\n",
    "\n",
    "Mean CV Score: 0.901\n",
    "Standard Deviation: 0.148\n",
    "\n",
    "Random Forest Classifier:\n",
    "\n",
    "Mean CV Score: 0.905\n",
    "Standard Deviation: 0.139\n",
    "\n",
    "AdaBoost Classifier:\n",
    "\n",
    "Mean CV Score: 0.901\n",
    "Standard Deviation: 0.148\n",
    "\n",
    "Gradient Boost Classifier:\n",
    "\n",
    "Mean CV Score: 0.901\n",
    "Standard Deviation: 0.148\n"
   ]
  },
  {
   "cell_type": "markdown",
   "id": "a2182087",
   "metadata": {},
   "source": [
    "<span style=\"color:Red;font-size: 22px;font-family: verdana;font-weight: bold \">NOTE:Given these results, both Logistic Regression and Random Forest Classifier have similar mean cross-validation scores, but Random Forest Classifier has a slightly lower standard deviation, indicating more consistent performance across folds.</span>"
   ]
  },
  {
   "cell_type": "markdown",
   "id": "3ea907da",
   "metadata": {},
   "source": [
    "<span style=\"color:Blue;font-size: 25px;font-family: verdana;font-weight: bold \">HYPER PARAMETER TUNING</SPAN>\n"
   ]
  },
  {
   "cell_type": "markdown",
   "id": "4eea69d4",
   "metadata": {},
   "source": [
    "<span style=\"color:Blue;font-size: 14px;font-family: verdana;font-weight: bold \">GRID SEARCH CV</SPAN>"
   ]
  },
  {
   "cell_type": "code",
   "execution_count": 55,
   "id": "4a8395ef",
   "metadata": {},
   "outputs": [],
   "source": [
    "from sklearn.model_selection import GridSearchCV"
   ]
  },
  {
   "cell_type": "code",
   "execution_count": 56,
   "id": "5fd1e1c5",
   "metadata": {},
   "outputs": [
    {
     "name": "stdout",
     "output_type": "stream",
     "text": [
      "Best HyperParameter is {'max_depth': 20, 'min_samples_leaf': 2, 'min_samples_split': 2, 'n_estimators': 50}\n",
      "Best CVS is 0.9576965669988926\n"
     ]
    }
   ],
   "source": [
    "rfc=RandomForestClassifier()\n",
    "# Define the hyperparameter grid\n",
    "param_grid = {\n",
    "    'n_estimators': [50, 100, 200],\n",
    "    'max_depth': [None, 10, 20],\n",
    "    'min_samples_split': [2, 5, 10],\n",
    "    'min_samples_leaf': [1, 2, 4]\n",
    "}\n",
    "\n",
    "grid_search=GridSearchCV(estimator=rfc,param_grid=param_grid,cv=5, scoring='accuracy', n_jobs=-1)\n",
    "grid_search.fit(X,Y)\n",
    "\n",
    "best_parameter=grid_search.best_params_\n",
    "best_cross_validation_score=grid_search.best_score_\n",
    "\n",
    "print(\"Best HyperParameter is\",best_parameter)\n",
    "\n",
    "print(\"Best CVS is\",best_cross_validation_score)\n",
    "\n"
   ]
  },
  {
   "cell_type": "code",
   "execution_count": 57,
   "id": "9b13d8b1",
   "metadata": {},
   "outputs": [
    {
     "data": {
      "text/html": [
       "<style>#sk-container-id-1 {color: black;}#sk-container-id-1 pre{padding: 0;}#sk-container-id-1 div.sk-toggleable {background-color: white;}#sk-container-id-1 label.sk-toggleable__label {cursor: pointer;display: block;width: 100%;margin-bottom: 0;padding: 0.3em;box-sizing: border-box;text-align: center;}#sk-container-id-1 label.sk-toggleable__label-arrow:before {content: \"▸\";float: left;margin-right: 0.25em;color: #696969;}#sk-container-id-1 label.sk-toggleable__label-arrow:hover:before {color: black;}#sk-container-id-1 div.sk-estimator:hover label.sk-toggleable__label-arrow:before {color: black;}#sk-container-id-1 div.sk-toggleable__content {max-height: 0;max-width: 0;overflow: hidden;text-align: left;background-color: #f0f8ff;}#sk-container-id-1 div.sk-toggleable__content pre {margin: 0.2em;color: black;border-radius: 0.25em;background-color: #f0f8ff;}#sk-container-id-1 input.sk-toggleable__control:checked~div.sk-toggleable__content {max-height: 200px;max-width: 100%;overflow: auto;}#sk-container-id-1 input.sk-toggleable__control:checked~label.sk-toggleable__label-arrow:before {content: \"▾\";}#sk-container-id-1 div.sk-estimator input.sk-toggleable__control:checked~label.sk-toggleable__label {background-color: #d4ebff;}#sk-container-id-1 div.sk-label input.sk-toggleable__control:checked~label.sk-toggleable__label {background-color: #d4ebff;}#sk-container-id-1 input.sk-hidden--visually {border: 0;clip: rect(1px 1px 1px 1px);clip: rect(1px, 1px, 1px, 1px);height: 1px;margin: -1px;overflow: hidden;padding: 0;position: absolute;width: 1px;}#sk-container-id-1 div.sk-estimator {font-family: monospace;background-color: #f0f8ff;border: 1px dotted black;border-radius: 0.25em;box-sizing: border-box;margin-bottom: 0.5em;}#sk-container-id-1 div.sk-estimator:hover {background-color: #d4ebff;}#sk-container-id-1 div.sk-parallel-item::after {content: \"\";width: 100%;border-bottom: 1px solid gray;flex-grow: 1;}#sk-container-id-1 div.sk-label:hover label.sk-toggleable__label {background-color: #d4ebff;}#sk-container-id-1 div.sk-serial::before {content: \"\";position: absolute;border-left: 1px solid gray;box-sizing: border-box;top: 0;bottom: 0;left: 50%;z-index: 0;}#sk-container-id-1 div.sk-serial {display: flex;flex-direction: column;align-items: center;background-color: white;padding-right: 0.2em;padding-left: 0.2em;position: relative;}#sk-container-id-1 div.sk-item {position: relative;z-index: 1;}#sk-container-id-1 div.sk-parallel {display: flex;align-items: stretch;justify-content: center;background-color: white;position: relative;}#sk-container-id-1 div.sk-item::before, #sk-container-id-1 div.sk-parallel-item::before {content: \"\";position: absolute;border-left: 1px solid gray;box-sizing: border-box;top: 0;bottom: 0;left: 50%;z-index: -1;}#sk-container-id-1 div.sk-parallel-item {display: flex;flex-direction: column;z-index: 1;position: relative;background-color: white;}#sk-container-id-1 div.sk-parallel-item:first-child::after {align-self: flex-end;width: 50%;}#sk-container-id-1 div.sk-parallel-item:last-child::after {align-self: flex-start;width: 50%;}#sk-container-id-1 div.sk-parallel-item:only-child::after {width: 0;}#sk-container-id-1 div.sk-dashed-wrapped {border: 1px dashed gray;margin: 0 0.4em 0.5em 0.4em;box-sizing: border-box;padding-bottom: 0.4em;background-color: white;}#sk-container-id-1 div.sk-label label {font-family: monospace;font-weight: bold;display: inline-block;line-height: 1.2em;}#sk-container-id-1 div.sk-label-container {text-align: center;}#sk-container-id-1 div.sk-container {/* jupyter's `normalize.less` sets `[hidden] { display: none; }` but bootstrap.min.css set `[hidden] { display: none !important; }` so we also need the `!important` here to be able to override the default hidden behavior on the sphinx rendered scikit-learn.org. See: https://github.com/scikit-learn/scikit-learn/issues/21755 */display: inline-block !important;position: relative;}#sk-container-id-1 div.sk-text-repr-fallback {display: none;}</style><div id=\"sk-container-id-1\" class=\"sk-top-container\"><div class=\"sk-text-repr-fallback\"><pre>GridSearchCV(cv=5, estimator=RandomForestClassifier(),\n",
       "             param_grid={&#x27;max_depth&#x27;: [None, 10, 20],\n",
       "                         &#x27;min_samples_leaf&#x27;: [1, 2, 4],\n",
       "                         &#x27;min_samples_split&#x27;: [2, 5, 10],\n",
       "                         &#x27;n_estimators&#x27;: [50, 100, 200]},\n",
       "             scoring=&#x27;accuracy&#x27;)</pre><b>In a Jupyter environment, please rerun this cell to show the HTML representation or trust the notebook. <br />On GitHub, the HTML representation is unable to render, please try loading this page with nbviewer.org.</b></div><div class=\"sk-container\" hidden><div class=\"sk-item sk-dashed-wrapped\"><div class=\"sk-label-container\"><div class=\"sk-label sk-toggleable\"><input class=\"sk-toggleable__control sk-hidden--visually\" id=\"sk-estimator-id-1\" type=\"checkbox\" ><label for=\"sk-estimator-id-1\" class=\"sk-toggleable__label sk-toggleable__label-arrow\">GridSearchCV</label><div class=\"sk-toggleable__content\"><pre>GridSearchCV(cv=5, estimator=RandomForestClassifier(),\n",
       "             param_grid={&#x27;max_depth&#x27;: [None, 10, 20],\n",
       "                         &#x27;min_samples_leaf&#x27;: [1, 2, 4],\n",
       "                         &#x27;min_samples_split&#x27;: [2, 5, 10],\n",
       "                         &#x27;n_estimators&#x27;: [50, 100, 200]},\n",
       "             scoring=&#x27;accuracy&#x27;)</pre></div></div></div><div class=\"sk-parallel\"><div class=\"sk-parallel-item\"><div class=\"sk-item\"><div class=\"sk-label-container\"><div class=\"sk-label sk-toggleable\"><input class=\"sk-toggleable__control sk-hidden--visually\" id=\"sk-estimator-id-2\" type=\"checkbox\" ><label for=\"sk-estimator-id-2\" class=\"sk-toggleable__label sk-toggleable__label-arrow\">estimator: RandomForestClassifier</label><div class=\"sk-toggleable__content\"><pre>RandomForestClassifier()</pre></div></div></div><div class=\"sk-serial\"><div class=\"sk-item\"><div class=\"sk-estimator sk-toggleable\"><input class=\"sk-toggleable__control sk-hidden--visually\" id=\"sk-estimator-id-3\" type=\"checkbox\" ><label for=\"sk-estimator-id-3\" class=\"sk-toggleable__label sk-toggleable__label-arrow\">RandomForestClassifier</label><div class=\"sk-toggleable__content\"><pre>RandomForestClassifier()</pre></div></div></div></div></div></div></div></div></div></div>"
      ],
      "text/plain": [
       "GridSearchCV(cv=5, estimator=RandomForestClassifier(),\n",
       "             param_grid={'max_depth': [None, 10, 20],\n",
       "                         'min_samples_leaf': [1, 2, 4],\n",
       "                         'min_samples_split': [2, 5, 10],\n",
       "                         'n_estimators': [50, 100, 200]},\n",
       "             scoring='accuracy')"
      ]
     },
     "execution_count": 57,
     "metadata": {},
     "output_type": "execute_result"
    }
   ],
   "source": [
    "gcv=GridSearchCV(rfc,param_grid,cv=5,scoring='accuracy')\n",
    "gcv.fit(X_train, Y_train)"
   ]
  },
  {
   "cell_type": "markdown",
   "id": "0ff164e4",
   "metadata": {},
   "source": [
    "<span style=\"color:magenta;font-size: 25px;font-family: verdana;font-weight: bold \">FINAL MODEL</SPAN>"
   ]
  },
  {
   "cell_type": "code",
   "execution_count": 61,
   "id": "86328731",
   "metadata": {},
   "outputs": [
    {
     "name": "stdout",
     "output_type": "stream",
     "text": [
      "Accuracy Score  0.9846153846153847\n",
      "Confusion Matrix  [[17  0]\n",
      " [ 1 47]]\n",
      "Classfication Reports                precision    recall  f1-score   support\n",
      "\n",
      "           0       0.94      1.00      0.97        17\n",
      "           1       1.00      0.98      0.99        48\n",
      "\n",
      "    accuracy                           0.98        65\n",
      "   macro avg       0.97      0.99      0.98        65\n",
      "weighted avg       0.99      0.98      0.98        65\n",
      "\n"
     ]
    }
   ],
   "source": [
    "rfc=RandomForestClassifier(max_depth=10,min_samples_leaf=4,min_samples_split=10,n_estimators=50, random_state=4)\n",
    "rfc.fit(X_train,Y_train)\n",
    "pred=rfc.predict(X_test)\n",
    "\n",
    "print(\"Accuracy Score \", accuracy_score(pred,Y_test))\n",
    "print(\"Confusion Matrix \", confusion_matrix(pred,Y_test))\n",
    "print(\"Classfication Reports \", classification_report(pred,Y_test))\n"
   ]
  },
  {
   "cell_type": "code",
   "execution_count": 59,
   "id": "46fd2a47",
   "metadata": {},
   "outputs": [
    {
     "data": {
      "image/png": "[encoded data removed]",
      "text/plain": [
       "<Figure size 500x500 with 2 Axes>"
      ]
     },
     "metadata": {},
     "output_type": "display_data"
    }
   ],
   "source": [
    "Matrix = confusion_matrix(Y_test, pred)\n",
    "\n",
    "x_labels = [\"NO\",\"YES\"]\n",
    "y_labels = [\"NO\",\"YES\"]\n",
    "\n",
    "fig , ax = plt.subplots(figsize=(5,5))\n",
    "sns.heatmap(Matrix, annot = True,linewidths=.2, linecolor=\"black\", fmt = \".0f\", ax=ax, \n",
    "            cmap=\"coolwarm\", xticklabels = x_labels, yticklabels = y_labels)\n",
    "\n",
    "plt.xlabel(\"Predicted Label\",fontsize=14,fontweight='bold')\n",
    "plt.ylabel(\"True Label\",fontsize=14,fontweight='bold')\n",
    "plt.title('Confusion Matrix for Final Model',fontsize=20,fontweight='bold')\n",
    "plt.show()"
   ]
  },
  {
   "cell_type": "code",
   "execution_count": 60,
   "id": "4a00ce38",
   "metadata": {
    "collapsed": true
   },
   "outputs": [
    {
     "ename": "ImportError",
     "evalue": "cannot import name 'plot_roc_curve' from 'sklearn.metrics' (C:\\Users\\Dell\\anaconda3\\lib\\site-packages\\sklearn\\metrics\\__init__.py)",
     "output_type": "error",
     "traceback": [
      "\u001b[1;31m---------------------------------------------------------------------------\u001b[0m",
      "\u001b[1;31mImportError\u001b[0m                               Traceback (most recent call last)",
      "Cell \u001b[1;32mIn[60], line 3\u001b[0m\n\u001b[0;32m      1\u001b[0m \u001b[38;5;28;01mfrom\u001b[39;00m \u001b[38;5;21;01msklearn\u001b[39;00m\u001b[38;5;21;01m.\u001b[39;00m\u001b[38;5;21;01mmetrics\u001b[39;00m \u001b[38;5;28;01mimport\u001b[39;00m roc_auc_score\n\u001b[0;32m      2\u001b[0m \u001b[38;5;28;01mfrom\u001b[39;00m \u001b[38;5;21;01msklearn\u001b[39;00m\u001b[38;5;21;01m.\u001b[39;00m\u001b[38;5;21;01mmetrics\u001b[39;00m \u001b[38;5;28;01mimport\u001b[39;00m roc_curve\n\u001b[1;32m----> 3\u001b[0m \u001b[38;5;28;01mfrom\u001b[39;00m \u001b[38;5;21;01msklearn\u001b[39;00m\u001b[38;5;21;01m.\u001b[39;00m\u001b[38;5;21;01mmetrics\u001b[39;00m \u001b[38;5;28;01mimport\u001b[39;00m plot_roc_curve\n\u001b[0;32m      4\u001b[0m disp \u001b[38;5;241m=\u001b[39m plot_roc_curve(rfc,X_test,Y_test)   \n\u001b[0;32m      5\u001b[0m plt\u001b[38;5;241m.\u001b[39mlegend(prop\u001b[38;5;241m=\u001b[39m{\u001b[38;5;124m'\u001b[39m\u001b[38;5;124msize\u001b[39m\u001b[38;5;124m'\u001b[39m:\u001b[38;5;241m11\u001b[39m}, loc\u001b[38;5;241m=\u001b[39m\u001b[38;5;124m'\u001b[39m\u001b[38;5;124mlower right\u001b[39m\u001b[38;5;124m'\u001b[39m)\n",
      "\u001b[1;31mImportError\u001b[0m: cannot import name 'plot_roc_curve' from 'sklearn.metrics' (C:\\Users\\Dell\\anaconda3\\lib\\site-packages\\sklearn\\metrics\\__init__.py)"
     ]
    }
   ],
   "source": [
    "from sklearn.metrics import roc_auc_score\n",
    "from sklearn.metrics import roc_curve\n",
    "from sklearn.metrics import plot_roc_curve\n",
    "disp = plot_roc_curve(rfc,X_test,Y_test)   \n",
    "plt.legend(prop={'size':11}, loc='lower right')\n",
    "plt.title('AOC ROC Curve of Final Model',fontsize=20,fontweight='bold')\n",
    "plt.show()\n",
    "auc_score = roc_auc_score(Y_test, final_model.predict(X_test))\n",
    "print('\\033[1m'+'Auc Score :'+'\\033[0m\\n',auc_score)"
   ]
  },
  {
   "cell_type": "code",
   "execution_count": 62,
   "id": "b616fdbc",
   "metadata": {},
   "outputs": [
    {
     "data": {
      "image/png": "[encoded data removed]",
      "text/plain": [
       "<Figure size 1000x600 with 1 Axes>"
      ]
     },
     "metadata": {},
     "output_type": "display_data"
    }
   ],
   "source": [
    "from sklearn.metrics import roc_curve, auc\n",
    "import matplotlib.pyplot as plt\n",
    "\n",
    "# Assuming you have true labels (y_true) and predicted probabilities (y_probs) from your model\n",
    "y_probs = rfc.predict_proba(X_test)[:, 1]\n",
    "fpr, tpr, thresholds = roc_curve(Y_test, y_probs)\n",
    "roc_auc = auc(fpr, tpr)\n",
    "\n",
    "# Plot ROC curve\n",
    "plt.figure(figsize=(10, 6))\n",
    "plt.plot(fpr, tpr, color='darkorange', lw=2, label='ROC curve (area = {:.2f})'.format(roc_auc))\n",
    "plt.plot([0, 1], [0, 1], color='navy', lw=2, linestyle='--')\n",
    "plt.xlim([0.0, 1.0])\n",
    "plt.ylim([0.0, 1.05])\n",
    "plt.xlabel('False Positive Rate')\n",
    "plt.ylabel('True Positive Rate')\n",
    "plt.title('Receiver Operating Characteristic (ROC) Curve')\n",
    "plt.legend(loc='lower right')\n",
    "plt.show()\n"
   ]
  },
  {
   "cell_type": "markdown",
   "id": "f63017b9",
   "metadata": {},
   "source": [
    "<span style=\"color:magenta;font-size: 25px;font-family: verdana;font-weight: bold \">SAVING-FINAL MODEL</SPAN>"
   ]
  },
  {
   "cell_type": "code",
   "execution_count": 63,
   "id": "91552b56",
   "metadata": {},
   "outputs": [
    {
     "data": {
      "text/plain": [
       "['glass_identification_Project.pkl']"
      ]
     },
     "execution_count": 63,
     "metadata": {},
     "output_type": "execute_result"
    }
   ],
   "source": [
    "import joblib\n",
    "joblib.dump(rfc,'glass_identification_Project.pkl')"
   ]
  },
  {
   "cell_type": "markdown",
   "id": "5568cdec",
   "metadata": {},
   "source": [
    "<span style=\"color:magenta;font-size: 25px;font-family: verdana;font-weight: bold \">PREDICTION</SPAN>"
   ]
  },
  {
   "cell_type": "code",
   "execution_count": 64,
   "id": "a34fa5ae",
   "metadata": {},
   "outputs": [],
   "source": [
    "prediction = rfc.predict(X_test)\n"
   ]
  },
  {
   "cell_type": "code",
   "execution_count": 65,
   "id": "9d80aada",
   "metadata": {},
   "outputs": [
    {
     "data": {
      "text/html": [
       "<div>\n",
       "<style scoped>\n",
       "    .dataframe tbody tr th:only-of-type {\n",
       "        vertical-align: middle;\n",
       "    }\n",
       "\n",
       "    .dataframe tbody tr th {\n",
       "        vertical-align: top;\n",
       "    }\n",
       "\n",
       "    .dataframe thead th {\n",
       "        text-align: right;\n",
       "    }\n",
       "</style>\n",
       "<table border=\"1\" class=\"dataframe\">\n",
       "  <thead>\n",
       "    <tr style=\"text-align: right;\">\n",
       "      <th></th>\n",
       "      <th>Predicted Values</th>\n",
       "      <th>Actual Values</th>\n",
       "    </tr>\n",
       "  </thead>\n",
       "  <tbody>\n",
       "    <tr>\n",
       "      <th>0</th>\n",
       "      <td>1</td>\n",
       "      <td>1</td>\n",
       "    </tr>\n",
       "    <tr>\n",
       "      <th>1</th>\n",
       "      <td>0</td>\n",
       "      <td>0</td>\n",
       "    </tr>\n",
       "    <tr>\n",
       "      <th>2</th>\n",
       "      <td>1</td>\n",
       "      <td>1</td>\n",
       "    </tr>\n",
       "    <tr>\n",
       "      <th>3</th>\n",
       "      <td>1</td>\n",
       "      <td>1</td>\n",
       "    </tr>\n",
       "    <tr>\n",
       "      <th>4</th>\n",
       "      <td>1</td>\n",
       "      <td>1</td>\n",
       "    </tr>\n",
       "  </tbody>\n",
       "</table>\n",
       "</div>"
      ],
      "text/plain": [
       "   Predicted Values  Actual Values\n",
       "0                 1              1\n",
       "1                 0              0\n",
       "2                 1              1\n",
       "3                 1              1\n",
       "4                 1              1"
      ]
     },
     "execution_count": 65,
     "metadata": {},
     "output_type": "execute_result"
    }
   ],
   "source": [
    "Actual = np.array(Y_test)\n",
    "df_Pred = pd.DataFrame()\n",
    "df_Pred[\"Predicted Values\"] = prediction\n",
    "df_Pred[\"Actual Values\"] = Actual\n",
    "df_Pred.head()"
   ]
  },
  {
   "cell_type": "code",
   "execution_count": null,
   "id": "07413187",
   "metadata": {},
   "outputs": [],
   "source": []
  }
 ],
 "metadata": {
  "kernelspec": {
   "display_name": "Python 3 (ipykernel)",
   "language": "python",
   "name": "python3"
  },
  "language_info": {
   "codemirror_mode": {
    "name": "ipython",
    "version": 3
   },
   "file_extension": ".py",
   "mimetype": "text/x-python",
   "name": "python",
   "nbconvert_exporter": "python",
   "pygments_lexer": "ipython3",
   "version": "3.10.9"
  }
 },
 "nbformat": 4,
 "nbformat_minor": 5
}
