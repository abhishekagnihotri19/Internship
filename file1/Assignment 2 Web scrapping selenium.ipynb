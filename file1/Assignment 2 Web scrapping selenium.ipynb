{
 "cells": [
  {
   "cell_type": "markdown",
   "id": "687be075",
   "metadata": {},
   "source": [
    "# WEB SCRAPING – ASSIGNMENT 2\n"
   ]
  },
  {
   "cell_type": "markdown",
   "id": "895068e3",
   "metadata": {},
   "source": [
    " ! pip install selenium"
   ]
  },
  {
   "cell_type": "code",
   "execution_count": 2,
   "id": "e27f588e",
   "metadata": {
    "collapsed": true
   },
   "outputs": [
    {
     "name": "stdout",
     "output_type": "stream",
     "text": [
      "4.15.2\n"
     ]
    }
   ],
   "source": [
    "import selenium\n",
    "print(selenium.__version__)"
   ]
  },
  {
   "cell_type": "code",
   "execution_count": 1,
   "id": "540894ff",
   "metadata": {},
   "outputs": [],
   "source": [
    "import selenium\n",
    "from selenium import webdriver\n",
    "import pandas as pd\n",
    "from selenium.webdriver.common.by import By\n",
    "from selenium.common.exceptions import NoSuchElementException\n",
    "from selenium.webdriver.support.ui import WebDriverWait\n",
    "from selenium.webdriver.support import expected_conditions as EC\n",
    "import warnings\n",
    "warnings.filterwarnings ('ignore')\n",
    "import time"
   ]
  },
  {
   "cell_type": "code",
   "execution_count": 69,
   "id": "3048a992",
   "metadata": {},
   "outputs": [],
   "source": [
    "driver=webdriver.Chrome()\n"
   ]
  },
  {
   "cell_type": "code",
   "execution_count": 70,
   "id": "686a64c0",
   "metadata": {},
   "outputs": [],
   "source": [
    "driver.get('https://www.shine.com/')"
   ]
  },
  {
   "cell_type": "markdown",
   "id": "8ea8faa6",
   "metadata": {},
   "source": [
    "# Q1: Write a python program to scrape data for “Data Analyst” Job position in “Bangalore” location. You have to scrape the job-title, job-location, company_name, experience_required. You have to scrape first 10 jobs data"
   ]
  },
  {
   "cell_type": "code",
   "execution_count": null,
   "id": "f95abb65",
   "metadata": {},
   "outputs": [],
   "source": [
    "#preAdvanceSearch=driver.find_element(By.XPATH,'')\n",
    "#preAdvanceSearch.click()"
   ]
  },
  {
   "cell_type": "code",
   "execution_count": 59,
   "id": "92912ebd",
   "metadata": {},
   "outputs": [],
   "source": [
    "designation=driver.find_element(By.XPATH,\"/html/body/div/div[4]/div/div[2]/div[2]/div/form/div/div[1]/ul[1]/li[1]/div/input\")\n"
   ]
  },
  {
   "cell_type": "code",
   "execution_count": 60,
   "id": "9bb52215",
   "metadata": {},
   "outputs": [],
   "source": [
    "designation.send_keys('Data Analyst')\n"
   ]
  },
  {
   "cell_type": "code",
   "execution_count": 148,
   "id": "93943a4c",
   "metadata": {},
   "outputs": [],
   "source": [
    "location=driver.find_element(By.XPATH,\"/html/body/div/div[4]/div/div[2]/div[2]/div/form/div/div[1]/ul[1]/li[2]/div/input\")\n",
    "\n"
   ]
  },
  {
   "cell_type": "code",
   "execution_count": 149,
   "id": "69f2dde7",
   "metadata": {},
   "outputs": [],
   "source": [
    "location.send_keys('Banglore')"
   ]
  },
  {
   "cell_type": "code",
   "execution_count": 150,
   "id": "e95bcedd",
   "metadata": {},
   "outputs": [],
   "source": [
    "exp=driver.find_element(By.XPATH,\"/html/body/div/div[4]/div/div[2]/div[2]/div/form/div/div[1]/ul[1]/li[3]/div/input[1]\")\n",
    "exp.send_keys('3 year')"
   ]
  },
  {
   "cell_type": "code",
   "execution_count": 151,
   "id": "fd468338",
   "metadata": {},
   "outputs": [],
   "source": [
    "search=driver.find_element(By.XPATH,\"/html/body/div/div[4]/div/div[2]/div[2]/div/form/div/div[2]/div\")\n",
    "search.click()"
   ]
  },
  {
   "cell_type": "code",
   "execution_count": 152,
   "id": "56df9c74",
   "metadata": {},
   "outputs": [],
   "source": [
    "company_1=driver.find_element(By.XPATH,'/html/body/div[1]/div[1]/div[3]/div/div[2]/div/ul/li[1]/button')\n",
    "company_1.click()"
   ]
  },
  {
   "cell_type": "code",
   "execution_count": 153,
   "id": "0abb0f5e",
   "metadata": {},
   "outputs": [],
   "source": [
    "company_2=driver.find_element(By.XPATH,'/html/body/div[1]/div[1]/div[3]/div/div[2]/div/ul/li[2]/button')\n",
    "company_2.click()"
   ]
  },
  {
   "cell_type": "code",
   "execution_count": 154,
   "id": "0d22865f",
   "metadata": {},
   "outputs": [],
   "source": [
    "company_3=driver.find_element(By.XPATH,'/html/body/div[1]/div[1]/div[3]/div/div[2]/div/ul/li[3]/button')\n",
    "company_3.click()"
   ]
  },
  {
   "cell_type": "code",
   "execution_count": 155,
   "id": "0158d1e8",
   "metadata": {},
   "outputs": [],
   "source": [
    "company_4=driver.find_element(By.XPATH,'/html/body/div[1]/div[1]/div[3]/div/div[2]/div/ul/li[4]/button')\n",
    "company_4.click()"
   ]
  },
  {
   "cell_type": "code",
   "execution_count": 176,
   "id": "819e7d67",
   "metadata": {},
   "outputs": [],
   "source": [
    "job_title=[]\n",
    "job_location=[]\n",
    "comapany_name=[]\n",
    "experience_required=[]\n",
    "\n",
    "title_tag=driver.find_elements(By.XPATH,'//div[@class=\"parentClass position-relative\"]/div/div/div/h2/a')\n",
    "for i in title_tag:\n",
    "    titles=i.text\n",
    "    job_title.append(titles)\n",
    "    \n",
    "job_located=driver.find_elements(By.XPATH,'//div[@class=\" jobCard_jobCard_lists_item__YxRkV jobCard_locationIcon__zrWt2\"]')\n",
    "for j in job_located:\n",
    "    locations=j.text\n",
    "    job_location.append(locations)\n",
    "    \n",
    "whats_company=driver.find_elements(By.XPATH,'//div[@class=\"jobCard_jobCard_cName__mYnow\"]/span')\n",
    "for k in whats_company:\n",
    "    names_comp=k.text\n",
    "    comapany_name.append(names_comp)\n",
    "    \n",
    "req_exp=driver.find_elements(By.XPATH,'//div[@class=\" jobCard_jobCard_lists_item__YxRkV jobCard_jobIcon__3FB1t\"]')\n",
    "for m in req_exp:\n",
    "    experiences=m.text\n",
    "    experience_required.append(experiences)\n",
    "    \n",
    "    \n",
    "    "
   ]
  },
  {
   "cell_type": "code",
   "execution_count": 177,
   "id": "ec5ae46a",
   "metadata": {},
   "outputs": [
    {
     "name": "stdout",
     "output_type": "stream",
     "text": [
      "20\n"
     ]
    }
   ],
   "source": [
    "print (len(experience_required))"
   ]
  },
  {
   "cell_type": "code",
   "execution_count": 174,
   "id": "73b71c6e",
   "metadata": {},
   "outputs": [
    {
     "name": "stdout",
     "output_type": "stream",
     "text": [
      "20\n"
     ]
    }
   ],
   "source": [
    "print(len(comapany_name))"
   ]
  },
  {
   "cell_type": "code",
   "execution_count": 167,
   "id": "479f7e86",
   "metadata": {
    "scrolled": false
   },
   "outputs": [
    {
     "name": "stdout",
     "output_type": "stream",
     "text": [
      "20\n"
     ]
    }
   ],
   "source": [
    "print(len(job_title))"
   ]
  },
  {
   "cell_type": "code",
   "execution_count": 169,
   "id": "7a0cc264",
   "metadata": {
    "scrolled": false
   },
   "outputs": [
    {
     "name": "stdout",
     "output_type": "stream",
     "text": [
      "20\n"
     ]
    }
   ],
   "source": [
    "print(len(job_location))"
   ]
  },
  {
   "cell_type": "code",
   "execution_count": 181,
   "id": "e223ee89",
   "metadata": {
    "scrolled": true
   },
   "outputs": [
    {
     "data": {
      "text/html": [
       "<div>\n",
       "<style scoped>\n",
       "    .dataframe tbody tr th:only-of-type {\n",
       "        vertical-align: middle;\n",
       "    }\n",
       "\n",
       "    .dataframe tbody tr th {\n",
       "        vertical-align: top;\n",
       "    }\n",
       "\n",
       "    .dataframe thead th {\n",
       "        text-align: right;\n",
       "    }\n",
       "</style>\n",
       "<table border=\"1\" class=\"dataframe\">\n",
       "  <thead>\n",
       "    <tr style=\"text-align: right;\">\n",
       "      <th></th>\n",
       "      <th>Name of Job</th>\n",
       "      <th>Location of Job</th>\n",
       "      <th>Name of Company</th>\n",
       "      <th>Required Experience</th>\n",
       "    </tr>\n",
       "  </thead>\n",
       "  <tbody>\n",
       "    <tr>\n",
       "      <th>0</th>\n",
       "      <td>Data Analyst</td>\n",
       "      <td>Bangalore</td>\n",
       "      <td>infosys limited</td>\n",
       "      <td>4 to 6 Yrs</td>\n",
       "    </tr>\n",
       "    <tr>\n",
       "      <th>1</th>\n",
       "      <td>Data Engineer</td>\n",
       "      <td>Bangalore</td>\n",
       "      <td>infosys limited</td>\n",
       "      <td>0 to 2 Yrs</td>\n",
       "    </tr>\n",
       "    <tr>\n",
       "      <th>2</th>\n",
       "      <td>Digital Technology Analyst</td>\n",
       "      <td>Bangalore</td>\n",
       "      <td>ntt global delivery services limite...</td>\n",
       "      <td>0 to 4 Yrs</td>\n",
       "    </tr>\n",
       "    <tr>\n",
       "      <th>3</th>\n",
       "      <td>ML Data Associate II, Support Operations</td>\n",
       "      <td>Bangalore</td>\n",
       "      <td>amazon</td>\n",
       "      <td>0 to 4 Yrs</td>\n",
       "    </tr>\n",
       "    <tr>\n",
       "      <th>4</th>\n",
       "      <td>Industry Consulting Snr. Consultant</td>\n",
       "      <td>Bangalore</td>\n",
       "      <td>ntt global delivery services limite...</td>\n",
       "      <td>10 to 12 Yrs</td>\n",
       "    </tr>\n",
       "    <tr>\n",
       "      <th>5</th>\n",
       "      <td>Project Program Management Advisor</td>\n",
       "      <td>Bangalore</td>\n",
       "      <td>ntt global delivery services limite...</td>\n",
       "      <td>0 to 4 Yrs</td>\n",
       "    </tr>\n",
       "    <tr>\n",
       "      <th>6</th>\n",
       "      <td>Business Intelligence Senior Analyst</td>\n",
       "      <td>Bangalore</td>\n",
       "      <td>ntt global delivery services limite...</td>\n",
       "      <td>1 to 3 Yrs</td>\n",
       "    </tr>\n",
       "    <tr>\n",
       "      <th>7</th>\n",
       "      <td>Business Analyst</td>\n",
       "      <td>Bangalore</td>\n",
       "      <td>ntt global delivery services limite...</td>\n",
       "      <td>3 to 5 Yrs</td>\n",
       "    </tr>\n",
       "    <tr>\n",
       "      <th>8</th>\n",
       "      <td>Financial Analyst I, FinOps FP&amp;A</td>\n",
       "      <td>Bangalore</td>\n",
       "      <td>amazon</td>\n",
       "      <td>0 to 4 Yrs</td>\n",
       "    </tr>\n",
       "    <tr>\n",
       "      <th>9</th>\n",
       "      <td>Production Planning Analyst, Supply Chain</td>\n",
       "      <td>Bangalore</td>\n",
       "      <td>amazon</td>\n",
       "      <td>0 to 4 Yrs</td>\n",
       "    </tr>\n",
       "    <tr>\n",
       "      <th>10</th>\n",
       "      <td>IT Testing</td>\n",
       "      <td>Bangalore</td>\n",
       "      <td>infosys limited</td>\n",
       "      <td>2 to 5 Yrs</td>\n",
       "    </tr>\n",
       "    <tr>\n",
       "      <th>11</th>\n",
       "      <td>Data Engineer II, Amazon WFM Tech Enterprise Data</td>\n",
       "      <td>Bangalore</td>\n",
       "      <td>amazon</td>\n",
       "      <td>3 to 5 Yrs</td>\n",
       "    </tr>\n",
       "    <tr>\n",
       "      <th>12</th>\n",
       "      <td>PySpark Data Platform Engineer</td>\n",
       "      <td>Bangalore</td>\n",
       "      <td>accenture</td>\n",
       "      <td>1 to 6 Yrs</td>\n",
       "    </tr>\n",
       "    <tr>\n",
       "      <th>13</th>\n",
       "      <td>DPM Prod Support Lead</td>\n",
       "      <td>Bangalore</td>\n",
       "      <td>ntt global delivery services limite...</td>\n",
       "      <td>1 to 3 Yrs</td>\n",
       "    </tr>\n",
       "    <tr>\n",
       "      <th>14</th>\n",
       "      <td>Business Operations Senior Associate</td>\n",
       "      <td>Bangalore</td>\n",
       "      <td>ntt global delivery services limite...</td>\n",
       "      <td>0 to 2 Yrs</td>\n",
       "    </tr>\n",
       "    <tr>\n",
       "      <th>15</th>\n",
       "      <td>SQL, Postgresql, Snowflake, Oracle, Tableau - ...</td>\n",
       "      <td>Bangalore</td>\n",
       "      <td>ntt global delivery services limite...</td>\n",
       "      <td>5 to 6 Yrs</td>\n",
       "    </tr>\n",
       "    <tr>\n",
       "      <th>16</th>\n",
       "      <td>Product Mgmt. Engineering Director</td>\n",
       "      <td>Bangalore</td>\n",
       "      <td>ntt global delivery services limite...</td>\n",
       "      <td>2 to 4 Yrs</td>\n",
       "    </tr>\n",
       "    <tr>\n",
       "      <th>17</th>\n",
       "      <td>Sr. Quality Analyst, Prime Video</td>\n",
       "      <td>Bangalore</td>\n",
       "      <td>amazon</td>\n",
       "      <td>5 to 7 Yrs</td>\n",
       "    </tr>\n",
       "    <tr>\n",
       "      <th>18</th>\n",
       "      <td>Quality Analyst, Prime Video</td>\n",
       "      <td>Bangalore</td>\n",
       "      <td>amazon</td>\n",
       "      <td>2 to 4 Yrs</td>\n",
       "    </tr>\n",
       "    <tr>\n",
       "      <th>19</th>\n",
       "      <td>Pharmacovigilance Services Analyst - Foreign L...</td>\n",
       "      <td>Bangalore</td>\n",
       "      <td>accenture</td>\n",
       "      <td>3 to 5 Yrs</td>\n",
       "    </tr>\n",
       "  </tbody>\n",
       "</table>\n",
       "</div>"
      ],
      "text/plain": [
       "                                          Name of Job Location of Job  \\\n",
       "0                                        Data Analyst       Bangalore   \n",
       "1                                       Data Engineer       Bangalore   \n",
       "2                          Digital Technology Analyst       Bangalore   \n",
       "3            ML Data Associate II, Support Operations       Bangalore   \n",
       "4                 Industry Consulting Snr. Consultant       Bangalore   \n",
       "5                  Project Program Management Advisor       Bangalore   \n",
       "6                Business Intelligence Senior Analyst       Bangalore   \n",
       "7                                    Business Analyst       Bangalore   \n",
       "8                    Financial Analyst I, FinOps FP&A       Bangalore   \n",
       "9           Production Planning Analyst, Supply Chain       Bangalore   \n",
       "10                                         IT Testing       Bangalore   \n",
       "11  Data Engineer II, Amazon WFM Tech Enterprise Data       Bangalore   \n",
       "12                     PySpark Data Platform Engineer       Bangalore   \n",
       "13                              DPM Prod Support Lead       Bangalore   \n",
       "14               Business Operations Senior Associate       Bangalore   \n",
       "15  SQL, Postgresql, Snowflake, Oracle, Tableau - ...       Bangalore   \n",
       "16                 Product Mgmt. Engineering Director       Bangalore   \n",
       "17                   Sr. Quality Analyst, Prime Video       Bangalore   \n",
       "18                       Quality Analyst, Prime Video       Bangalore   \n",
       "19  Pharmacovigilance Services Analyst - Foreign L...       Bangalore   \n",
       "\n",
       "                           Name of Company Required Experience  \n",
       "0                          infosys limited          4 to 6 Yrs  \n",
       "1                          infosys limited          0 to 2 Yrs  \n",
       "2   ntt global delivery services limite...          0 to 4 Yrs  \n",
       "3                                   amazon          0 to 4 Yrs  \n",
       "4   ntt global delivery services limite...        10 to 12 Yrs  \n",
       "5   ntt global delivery services limite...          0 to 4 Yrs  \n",
       "6   ntt global delivery services limite...          1 to 3 Yrs  \n",
       "7   ntt global delivery services limite...          3 to 5 Yrs  \n",
       "8                                   amazon          0 to 4 Yrs  \n",
       "9                                   amazon          0 to 4 Yrs  \n",
       "10                         infosys limited          2 to 5 Yrs  \n",
       "11                                  amazon          3 to 5 Yrs  \n",
       "12                               accenture          1 to 6 Yrs  \n",
       "13  ntt global delivery services limite...          1 to 3 Yrs  \n",
       "14  ntt global delivery services limite...          0 to 2 Yrs  \n",
       "15  ntt global delivery services limite...          5 to 6 Yrs  \n",
       "16  ntt global delivery services limite...          2 to 4 Yrs  \n",
       "17                                  amazon          5 to 7 Yrs  \n",
       "18                                  amazon          2 to 4 Yrs  \n",
       "19                               accenture          3 to 5 Yrs  "
      ]
     },
     "execution_count": 181,
     "metadata": {},
     "output_type": "execute_result"
    }
   ],
   "source": [
    "import pandas as pd\n",
    "df1=pd.DataFrame({'Name of Job':job_title, 'Location of Job':job_location,'Name of Company':comapany_name, 'Required Experience':experience_required})\n",
    "df1"
   ]
  },
  {
   "cell_type": "markdown",
   "id": "0b23d9a5",
   "metadata": {},
   "source": [
    "# Q2:Write a python program to scrape data for “Data Scientist” Job position in“Bangalore” location. You have to scrape the job-title, job-location, company_name. You have to scrape first 10 jobs data.This task will be done in following steps:"
   ]
  },
  {
   "cell_type": "code",
   "execution_count": 10,
   "id": "ed37eba1",
   "metadata": {},
   "outputs": [],
   "source": [
    "designation_1=driver.find_element(By.XPATH,\"/html/body/div/div[4]/div/div[2]/div[2]/div/form/div/div[1]/ul[1]/li[1]/div/input\")\n"
   ]
  },
  {
   "cell_type": "code",
   "execution_count": 11,
   "id": "aaedddd4",
   "metadata": {},
   "outputs": [],
   "source": [
    "designation_1.send_keys('Data Scientist')\n"
   ]
  },
  {
   "cell_type": "code",
   "execution_count": 12,
   "id": "f9f54f77",
   "metadata": {},
   "outputs": [],
   "source": [
    "location_1=driver.find_element(By.XPATH,\"/html/body/div/div[4]/div/div[2]/div[2]/div/form/div/div[1]/ul[1]/li[2]/div/input\")\n"
   ]
  },
  {
   "cell_type": "code",
   "execution_count": 13,
   "id": "0f01b466",
   "metadata": {},
   "outputs": [],
   "source": [
    "location_1.send_keys('Banglore')"
   ]
  },
  {
   "cell_type": "code",
   "execution_count": 14,
   "id": "71460fba",
   "metadata": {},
   "outputs": [],
   "source": [
    "search_1=driver.find_element(By.XPATH,\"/html/body/div/div[4]/div/div[2]/div[2]/div/form/div/div[2]/div\")\n",
    "search_1.click()"
   ]
  },
  {
   "cell_type": "code",
   "execution_count": 41,
   "id": "6e7a2d4d",
   "metadata": {},
   "outputs": [],
   "source": [
    "position_data=[]\n",
    "location_posted=[]\n",
    "company_data=[]\n",
    "\n",
    "data_Designation=driver.find_elements(By.XPATH,'//div[@class=\"jsrp_jsrp_leftPanel_wrap__xHjDr jsrp_leftPanel_wrap\"]/div/div/div/div/h2/a')\n",
    "for x in data_Designation:\n",
    "    final_position=x.text\n",
    "    position_data.append(final_position)\n",
    "\n",
    "    \n",
    "location_office=driver.find_elements(By.XPATH,'//div[@class=\" jobCard_jobCard_lists_item__YxRkV jobCard_locationIcon__zrWt2\"]')\n",
    "for y in location_office:\n",
    "    office_locations=y.text\n",
    "    location_posted.append(office_locations)\n",
    "    \n",
    "    #//div[@class=\" jobCard_jobCard_lists_item__YxRkV jobCard_locationIcon__zrWt2\"]\n",
    "\n",
    "    \n",
    "nameOfcompany=driver.find_elements(By.XPATH,'//div[@class=\"jobCard_jobCard_cName__mYnow\"]/span')\n",
    "for z in nameOfcompany:\n",
    "    nameCompany=z.text\n",
    "    company_data.append(nameCompany)\n",
    "    \n",
    "    "
   ]
  },
  {
   "cell_type": "code",
   "execution_count": 23,
   "id": "88e29ab1",
   "metadata": {},
   "outputs": [
    {
     "name": "stdout",
     "output_type": "stream",
     "text": [
      "20\n"
     ]
    }
   ],
   "source": [
    "print(len(location_posted))"
   ]
  },
  {
   "cell_type": "code",
   "execution_count": 28,
   "id": "7b16caed",
   "metadata": {},
   "outputs": [
    {
     "name": "stdout",
     "output_type": "stream",
     "text": [
      "20\n"
     ]
    }
   ],
   "source": [
    "print(len(position_data))"
   ]
  },
  {
   "cell_type": "code",
   "execution_count": 24,
   "id": "373d98ec",
   "metadata": {
    "scrolled": true
   },
   "outputs": [
    {
     "name": "stdout",
     "output_type": "stream",
     "text": [
      "20\n"
     ]
    }
   ],
   "source": [
    "print(len(company_data))"
   ]
  },
  {
   "cell_type": "code",
   "execution_count": 42,
   "id": "e3f11213",
   "metadata": {
    "scrolled": true
   },
   "outputs": [
    {
     "data": {
      "text/html": [
       "<div>\n",
       "<style scoped>\n",
       "    .dataframe tbody tr th:only-of-type {\n",
       "        vertical-align: middle;\n",
       "    }\n",
       "\n",
       "    .dataframe tbody tr th {\n",
       "        vertical-align: top;\n",
       "    }\n",
       "\n",
       "    .dataframe thead th {\n",
       "        text-align: right;\n",
       "    }\n",
       "</style>\n",
       "<table border=\"1\" class=\"dataframe\">\n",
       "  <thead>\n",
       "    <tr style=\"text-align: right;\">\n",
       "      <th></th>\n",
       "      <th>JOB-TITLE</th>\n",
       "      <th>JOB-LOCATION</th>\n",
       "      <th>COMPANY-NAME</th>\n",
       "    </tr>\n",
       "  </thead>\n",
       "  <tbody>\n",
       "    <tr>\n",
       "      <th>0</th>\n",
       "      <td>Data Scientist Vacancy</td>\n",
       "      <td>Oman\\n+14</td>\n",
       "      <td>divya interprises</td>\n",
       "    </tr>\n",
       "    <tr>\n",
       "      <th>1</th>\n",
       "      <td>Data Scientist Urgent Recruitment</td>\n",
       "      <td>Oman\\n+14</td>\n",
       "      <td>divya interprises</td>\n",
       "    </tr>\n",
       "    <tr>\n",
       "      <th>2</th>\n",
       "      <td>Data Scientist- Bangalore</td>\n",
       "      <td>Bangalore</td>\n",
       "      <td>the fashion cosmo</td>\n",
       "    </tr>\n",
       "    <tr>\n",
       "      <th>3</th>\n",
       "      <td>Data Scientist AI ML CV</td>\n",
       "      <td>Bangalore</td>\n",
       "      <td>bosch group</td>\n",
       "    </tr>\n",
       "    <tr>\n",
       "      <th>4</th>\n",
       "      <td>Data Scientist AI ML NLP</td>\n",
       "      <td>Bangalore</td>\n",
       "      <td>bosch group</td>\n",
       "    </tr>\n",
       "    <tr>\n",
       "      <th>5</th>\n",
       "      <td>Data Scientist-Bangalore</td>\n",
       "      <td>Bangalore</td>\n",
       "      <td>shiva hr services</td>\n",
       "    </tr>\n",
       "    <tr>\n",
       "      <th>6</th>\n",
       "      <td>Phd Data Scientist</td>\n",
       "      <td>Bangalore</td>\n",
       "      <td>bosch group</td>\n",
       "    </tr>\n",
       "    <tr>\n",
       "      <th>7</th>\n",
       "      <td>Hiring For Data Scientist</td>\n",
       "      <td>Oman\\n+14</td>\n",
       "      <td>divya interprises</td>\n",
       "    </tr>\n",
       "    <tr>\n",
       "      <th>8</th>\n",
       "      <td>Data Scientist</td>\n",
       "      <td>Bangalore</td>\n",
       "      <td>racanaa energy solution private lim...</td>\n",
       "    </tr>\n",
       "    <tr>\n",
       "      <th>9</th>\n",
       "      <td>Staff Data Scientist &amp; Team Lead</td>\n",
       "      <td>Bangalore</td>\n",
       "      <td>true caller</td>\n",
       "    </tr>\n",
       "    <tr>\n",
       "      <th>10</th>\n",
       "      <td>Data scientist</td>\n",
       "      <td>Gurugram\\n+8</td>\n",
       "      <td>capgemini technology services india...</td>\n",
       "    </tr>\n",
       "    <tr>\n",
       "      <th>11</th>\n",
       "      <td>Data Scientist Associate Sr - NLP</td>\n",
       "      <td>Bangalore</td>\n",
       "      <td>jpmorgan</td>\n",
       "    </tr>\n",
       "    <tr>\n",
       "      <th>12</th>\n",
       "      <td>Data Scientist - Bangalore</td>\n",
       "      <td>Bangalore</td>\n",
       "      <td>deuglo infosystem private limited</td>\n",
       "    </tr>\n",
       "    <tr>\n",
       "      <th>13</th>\n",
       "      <td>Data Scientist</td>\n",
       "      <td>Bangalore</td>\n",
       "      <td>siemens limited</td>\n",
       "    </tr>\n",
       "    <tr>\n",
       "      <th>14</th>\n",
       "      <td>Data Scientist</td>\n",
       "      <td>Bangalore\\n+1</td>\n",
       "      <td>mnr solutions pvt ltd</td>\n",
       "    </tr>\n",
       "    <tr>\n",
       "      <th>15</th>\n",
       "      <td>Data Scientist</td>\n",
       "      <td>Bangalore</td>\n",
       "      <td>bosch group</td>\n",
       "    </tr>\n",
       "    <tr>\n",
       "      <th>16</th>\n",
       "      <td>Data Scientist</td>\n",
       "      <td>Mumbai City\\n+6</td>\n",
       "      <td>mnr solutions pvt ltd</td>\n",
       "    </tr>\n",
       "    <tr>\n",
       "      <th>17</th>\n",
       "      <td>Urgently need Data Scientist_Bangalore</td>\n",
       "      <td>Bangalore</td>\n",
       "      <td>deuglo infosystem private limited</td>\n",
       "    </tr>\n",
       "    <tr>\n",
       "      <th>18</th>\n",
       "      <td>Data scientist Drivetrain</td>\n",
       "      <td>Bangalore</td>\n",
       "      <td>mercede</td>\n",
       "    </tr>\n",
       "    <tr>\n",
       "      <th>19</th>\n",
       "      <td>Needed for the post Data Scientist_Bangalore</td>\n",
       "      <td>Bangalore</td>\n",
       "      <td>deuglo infosystem private limited</td>\n",
       "    </tr>\n",
       "  </tbody>\n",
       "</table>\n",
       "</div>"
      ],
      "text/plain": [
       "                                       JOB-TITLE     JOB-LOCATION  \\\n",
       "0                         Data Scientist Vacancy        Oman\\n+14   \n",
       "1              Data Scientist Urgent Recruitment        Oman\\n+14   \n",
       "2                      Data Scientist- Bangalore        Bangalore   \n",
       "3                        Data Scientist AI ML CV        Bangalore   \n",
       "4                       Data Scientist AI ML NLP        Bangalore   \n",
       "5                       Data Scientist-Bangalore        Bangalore   \n",
       "6                             Phd Data Scientist        Bangalore   \n",
       "7                      Hiring For Data Scientist        Oman\\n+14   \n",
       "8                                 Data Scientist        Bangalore   \n",
       "9               Staff Data Scientist & Team Lead        Bangalore   \n",
       "10                                Data scientist     Gurugram\\n+8   \n",
       "11             Data Scientist Associate Sr - NLP        Bangalore   \n",
       "12                    Data Scientist - Bangalore        Bangalore   \n",
       "13                                Data Scientist        Bangalore   \n",
       "14                                Data Scientist    Bangalore\\n+1   \n",
       "15                                Data Scientist        Bangalore   \n",
       "16                                Data Scientist  Mumbai City\\n+6   \n",
       "17        Urgently need Data Scientist_Bangalore        Bangalore   \n",
       "18                     Data scientist Drivetrain        Bangalore   \n",
       "19  Needed for the post Data Scientist_Bangalore        Bangalore   \n",
       "\n",
       "                              COMPANY-NAME  \n",
       "0                        divya interprises  \n",
       "1                        divya interprises  \n",
       "2                        the fashion cosmo  \n",
       "3                              bosch group  \n",
       "4                              bosch group  \n",
       "5                        shiva hr services  \n",
       "6                              bosch group  \n",
       "7                        divya interprises  \n",
       "8   racanaa energy solution private lim...  \n",
       "9                              true caller  \n",
       "10  capgemini technology services india...  \n",
       "11                                jpmorgan  \n",
       "12       deuglo infosystem private limited  \n",
       "13                         siemens limited  \n",
       "14                   mnr solutions pvt ltd  \n",
       "15                             bosch group  \n",
       "16                   mnr solutions pvt ltd  \n",
       "17       deuglo infosystem private limited  \n",
       "18                                 mercede  \n",
       "19       deuglo infosystem private limited  "
      ]
     },
     "execution_count": 42,
     "metadata": {},
     "output_type": "execute_result"
    }
   ],
   "source": [
    "df2=pd.DataFrame({\"JOB-TITLE\":position_data, \"JOB-LOCATION\":location_posted, \"COMPANY-NAME\":company_data})\n",
    "df2"
   ]
  },
  {
   "cell_type": "markdown",
   "id": "4892b589",
   "metadata": {},
   "source": [
    "# Q3: In this question you have to scrape data using the filters available on the webpageYou have to use the location and salary filter.You have to scrape data for “Data Scientist” designation for first 10 job results.You have to scrape the job-title, job-location, company name, experience required.The location filter to be used is “Delhi/NCR”. The salary filter to be used is “3-6” lakhs"
   ]
  },
  {
   "cell_type": "code",
   "execution_count": 4,
   "id": "a503639d",
   "metadata": {},
   "outputs": [],
   "source": [
    "driver3=webdriver.Chrome()\n"
   ]
  },
  {
   "cell_type": "code",
   "execution_count": 5,
   "id": "8799c49c",
   "metadata": {},
   "outputs": [],
   "source": [
    "driver3.get('https://www.shine.com/')"
   ]
  },
  {
   "cell_type": "code",
   "execution_count": 7,
   "id": "9c0e9448",
   "metadata": {},
   "outputs": [],
   "source": [
    "preSearch=driver3.find_element(By.CLASS_NAME,\"iconH-zoom-white\")"
   ]
  },
  {
   "cell_type": "code",
   "execution_count": 8,
   "id": "6b90711b",
   "metadata": {},
   "outputs": [],
   "source": [
    "preSearch.click()"
   ]
  },
  {
   "cell_type": "code",
   "execution_count": 9,
   "id": "b75da629",
   "metadata": {},
   "outputs": [],
   "source": [
    "advSearch=driver3.find_element(By.XPATH,'//div[@class=\"searchForm_btnWrap_advance__VYBHN\"]/p/button')\n",
    "advSearch.click()"
   ]
  },
  {
   "cell_type": "code",
   "execution_count": 10,
   "id": "ea9598c9",
   "metadata": {},
   "outputs": [],
   "source": [
    "search_scientist=driver3.find_element(By.ID,\"id_q\")\n",
    "search_scientist.send_keys('Data Scientist')"
   ]
  },
  {
   "cell_type": "code",
   "execution_count": 12,
   "id": "5e69700c",
   "metadata": {},
   "outputs": [],
   "source": [
    "preSearch=driver3.find_element(By.XPATH,'//div[@class=\"searchForm_btnWrap_advance__VYBHN\"]/button')"
   ]
  },
  {
   "cell_type": "code",
   "execution_count": 13,
   "id": "177d8f0c",
   "metadata": {},
   "outputs": [],
   "source": [
    "preSearch.click()\n"
   ]
  },
  {
   "cell_type": "code",
   "execution_count": 14,
   "id": "db476fd1",
   "metadata": {},
   "outputs": [],
   "source": [
    "from selenium.webdriver.support.ui import Select"
   ]
  },
  {
   "cell_type": "code",
   "execution_count": 33,
   "id": "308ed72a",
   "metadata": {},
   "outputs": [],
   "source": [
    "filter_location=driver3.find_element(By.XPATH,'//div[@class=\"filter_filter_lists_wrap__xOLYG\"]/ul/li/button')"
   ]
  },
  {
   "cell_type": "code",
   "execution_count": 34,
   "id": "3666dbd4",
   "metadata": {},
   "outputs": [],
   "source": [
    "filter_location.click()"
   ]
  },
  {
   "cell_type": "code",
   "execution_count": 53,
   "id": "ec54ccd6",
   "metadata": {},
   "outputs": [],
   "source": [
    "from selenium import webdriver\n",
    "from selenium.webdriver.common.by import By\n",
    "from selenium.webdriver.support.ui import WebDriverWait\n",
    "from selenium.webdriver.support import expected_conditions as EC\n"
   ]
  },
  {
   "cell_type": "code",
   "execution_count": 17,
   "id": "d40992b1",
   "metadata": {},
   "outputs": [],
   "source": [
    "selection_dropdown_location=driver3.find_element(By.ID,'filter_jFLoc_406')"
   ]
  },
  {
   "cell_type": "code",
   "execution_count": null,
   "id": "53adc753",
   "metadata": {},
   "outputs": [],
   "source": [
    "selection_dropdown_location.click()"
   ]
  },
  {
   "cell_type": "code",
   "execution_count": 35,
   "id": "c9baeb44",
   "metadata": {},
   "outputs": [],
   "source": [
    "location_search_in_pop_up=driver3.find_element(By.ID,'search')"
   ]
  },
  {
   "cell_type": "code",
   "execution_count": 36,
   "id": "0eb951ec",
   "metadata": {},
   "outputs": [],
   "source": [
    "location_search_in_pop_up.send_keys(\"Delhi\")"
   ]
  },
  {
   "cell_type": "code",
   "execution_count": 39,
   "id": "4c783fc9",
   "metadata": {},
   "outputs": [],
   "source": [
    "dellhi_check=driver3.find_element(By.ID,'filter_jFLoc_406')"
   ]
  },
  {
   "cell_type": "code",
   "execution_count": 1,
   "id": "6a9c816b",
   "metadata": {
    "scrolled": true
   },
   "outputs": [
    {
     "ename": "NameError",
     "evalue": "name 'dellhi_check' is not defined",
     "output_type": "error",
     "traceback": [
      "\u001b[1;31m---------------------------------------------------------------------------\u001b[0m",
      "\u001b[1;31mNameError\u001b[0m                                 Traceback (most recent call last)",
      "Cell \u001b[1;32mIn[1], line 1\u001b[0m\n\u001b[1;32m----> 1\u001b[0m \u001b[43mdellhi_check\u001b[49m\u001b[38;5;241m.\u001b[39mselect_by_visible_text(\u001b[38;5;124m'\u001b[39m\u001b[38;5;124mDelhi\u001b[39m\u001b[38;5;124m'\u001b[39m)\n",
      "\u001b[1;31mNameError\u001b[0m: name 'dellhi_check' is not defined"
     ]
    }
   ],
   "source": [
    "dellhi_check.select_by_visible_text('Delhi')\n",
    "#dropdown.select_by_visible_text(\"Delhi\")\n"
   ]
  },
  {
   "cell_type": "markdown",
   "id": "86a3bb60",
   "metadata": {},
   "source": [
    "# Q4: Scrape data of first 100 sunglasses listings on flipkart.com. You have to scrape four attributes:\n",
    "6. Brand\n",
    "7. ProductDescription\n",
    "8. Price\n",
    "The attributes which you have to scrape is ticked marked in the below image."
   ]
  },
  {
   "cell_type": "code",
   "execution_count": 154,
   "id": "74b88a0b",
   "metadata": {},
   "outputs": [],
   "source": [
    "driver4=webdriver.Chrome()"
   ]
  },
  {
   "cell_type": "code",
   "execution_count": 155,
   "id": "5ff7179e",
   "metadata": {},
   "outputs": [],
   "source": [
    "driver4.get('https://www.flipkart.com/')"
   ]
  },
  {
   "cell_type": "code",
   "execution_count": 156,
   "id": "14398463",
   "metadata": {},
   "outputs": [],
   "source": [
    "searchbox=driver4.find_element(By.CLASS_NAME,'Pke_EE')\n",
    "searchbox.send_keys('Sunglasses')"
   ]
  },
  {
   "cell_type": "code",
   "execution_count": 158,
   "id": "892b659f",
   "metadata": {},
   "outputs": [],
   "source": [
    "searching=driver4.find_element(By.CLASS_NAME,'_2iLD__')\n",
    "searching.click()"
   ]
  },
  {
   "cell_type": "code",
   "execution_count": 160,
   "id": "1ba69938",
   "metadata": {},
   "outputs": [],
   "source": [
    "glass_brands=[]\n",
    "start=0\n",
    "end=3\n",
    "for page in range (start,end):\n",
    "    brandname=driver4.find_elements(By.XPATH,'//div[@class=\"_2WkVRV\"]')\n",
    "    for m in brandname:\n",
    "        sunBrands=m.text\n",
    "        glass_brands.append(sunBrands)\n",
    "    \n",
    "\n"
   ]
  },
  {
   "cell_type": "code",
   "execution_count": 161,
   "id": "a79524f6",
   "metadata": {},
   "outputs": [],
   "source": [
    "glass_Prices=[]\n",
    "start=0\n",
    "end=3\n",
    "for page in range(start,end):\n",
    "    pricing=driver4.find_elements(By.XPATH,'//div[@class=\"_30jeq3\"]')\n",
    "    for n in pricing:\n",
    "        gogglePrice=n.text\n",
    "        glass_Prices.append(gogglePrice)\n",
    "    "
   ]
  },
  {
   "cell_type": "code",
   "execution_count": 162,
   "id": "863573d2",
   "metadata": {},
   "outputs": [],
   "source": [
    "glass_Discounts=[]\n",
    "start=0\n",
    "end=3\n",
    "for page in range(start,end):\n",
    "    discounts=driver4.find_elements(By.XPATH,'//div[@class=\"_3Ay6Sb\"]/span')\n",
    "    for p in discounts:\n",
    "        finalDiscount=p.text\n",
    "        glass_Discounts.append(finalDiscount)\n",
    "        "
   ]
  },
  {
   "cell_type": "code",
   "execution_count": 163,
   "id": "26722428",
   "metadata": {},
   "outputs": [
    {
     "name": "stdout",
     "output_type": "stream",
     "text": [
      "120\n"
     ]
    }
   ],
   "source": [
    "print(len(glass_Prices))"
   ]
  },
  {
   "cell_type": "code",
   "execution_count": 164,
   "id": "29fe5ff0",
   "metadata": {},
   "outputs": [
    {
     "name": "stdout",
     "output_type": "stream",
     "text": [
      "120\n"
     ]
    }
   ],
   "source": [
    "print(len(glass_brands))"
   ]
  },
  {
   "cell_type": "code",
   "execution_count": 165,
   "id": "b7fb3d59",
   "metadata": {},
   "outputs": [
    {
     "name": "stdout",
     "output_type": "stream",
     "text": [
      "120\n"
     ]
    }
   ],
   "source": [
    "print(len(glass_Discounts))"
   ]
  },
  {
   "cell_type": "code",
   "execution_count": 166,
   "id": "a674663c",
   "metadata": {},
   "outputs": [
    {
     "data": {
      "text/plain": [
       "{'Brands': ['ROYAL SON',\n",
       "  'VINCENT CHASE',\n",
       "  'SRPM',\n",
       "  'Fastrack',\n",
       "  'GANSTA',\n",
       "  'ROADWAY',\n",
       "  'Fastrack',\n",
       "  'VINCENT CHASE',\n",
       "  'Elligator',\n",
       "  'ROADWAY',\n",
       "  'Eyewearlabs',\n",
       "  'VINCENT CHASE',\n",
       "  'Roadster',\n",
       "  'Rich Club',\n",
       "  'ROYAL SON',\n",
       "  'Roadster',\n",
       "  'ROYAL SON',\n",
       "  'Singco India',\n",
       "  'GANSTA',\n",
       "  'Roadster',\n",
       "  'NuVew',\n",
       "  'ROYAL SON',\n",
       "  'ROZZETTA CRAFT',\n",
       "  'METRONAUT',\n",
       "  'ROADWAY',\n",
       "  'PIRASO',\n",
       "  'Singco India',\n",
       "  'VINCENT CHASE',\n",
       "  'Elligator',\n",
       "  'ROADWAY',\n",
       "  'ROYAL SON',\n",
       "  'Nicole Miller',\n",
       "  'PIRASO',\n",
       "  'Rich Club',\n",
       "  'VINCENT CHASE',\n",
       "  'Elligator',\n",
       "  'VINCENT CHASE',\n",
       "  'ROYAL SON',\n",
       "  'Rich Club',\n",
       "  'PROVOGUE',\n",
       "  'ROYAL SON',\n",
       "  'VINCENT CHASE',\n",
       "  'SRPM',\n",
       "  'Fastrack',\n",
       "  'GANSTA',\n",
       "  'ROADWAY',\n",
       "  'Fastrack',\n",
       "  'VINCENT CHASE',\n",
       "  'Elligator',\n",
       "  'ROADWAY',\n",
       "  'Eyewearlabs',\n",
       "  'VINCENT CHASE',\n",
       "  'Roadster',\n",
       "  'Rich Club',\n",
       "  'ROYAL SON',\n",
       "  'Roadster',\n",
       "  'ROYAL SON',\n",
       "  'Singco India',\n",
       "  'GANSTA',\n",
       "  'Roadster',\n",
       "  'NuVew',\n",
       "  'ROYAL SON',\n",
       "  'ROZZETTA CRAFT',\n",
       "  'METRONAUT',\n",
       "  'ROADWAY',\n",
       "  'PIRASO',\n",
       "  'Singco India',\n",
       "  'VINCENT CHASE',\n",
       "  'Elligator',\n",
       "  'ROADWAY',\n",
       "  'ROYAL SON',\n",
       "  'Nicole Miller',\n",
       "  'PIRASO',\n",
       "  'Rich Club',\n",
       "  'VINCENT CHASE',\n",
       "  'Elligator',\n",
       "  'VINCENT CHASE',\n",
       "  'ROYAL SON',\n",
       "  'Rich Club',\n",
       "  'PROVOGUE',\n",
       "  'ROYAL SON',\n",
       "  'VINCENT CHASE',\n",
       "  'SRPM',\n",
       "  'Fastrack',\n",
       "  'GANSTA',\n",
       "  'ROADWAY',\n",
       "  'Fastrack',\n",
       "  'VINCENT CHASE',\n",
       "  'Elligator',\n",
       "  'ROADWAY',\n",
       "  'Eyewearlabs',\n",
       "  'VINCENT CHASE',\n",
       "  'Roadster',\n",
       "  'Rich Club',\n",
       "  'ROYAL SON',\n",
       "  'Roadster',\n",
       "  'ROYAL SON',\n",
       "  'Singco India',\n",
       "  'GANSTA',\n",
       "  'Roadster',\n",
       "  'NuVew',\n",
       "  'ROYAL SON',\n",
       "  'ROZZETTA CRAFT',\n",
       "  'METRONAUT',\n",
       "  'ROADWAY',\n",
       "  'PIRASO',\n",
       "  'Singco India',\n",
       "  'VINCENT CHASE',\n",
       "  'Elligator',\n",
       "  'ROADWAY',\n",
       "  'ROYAL SON',\n",
       "  'Nicole Miller',\n",
       "  'PIRASO',\n",
       "  'Rich Club',\n",
       "  'VINCENT CHASE',\n",
       "  'Elligator',\n",
       "  'VINCENT CHASE',\n",
       "  'ROYAL SON',\n",
       "  'Rich Club',\n",
       "  'PROVOGUE'],\n",
       " 'Final_Price': ['₹339',\n",
       "  '₹703',\n",
       "  '₹149',\n",
       "  '₹549',\n",
       "  '₹79',\n",
       "  '₹199',\n",
       "  '₹449',\n",
       "  '₹599',\n",
       "  '₹149',\n",
       "  '₹254',\n",
       "  '₹1,236',\n",
       "  '₹799',\n",
       "  '₹199',\n",
       "  '₹399',\n",
       "  '₹489',\n",
       "  '₹199',\n",
       "  '₹424',\n",
       "  '₹396',\n",
       "  '₹79',\n",
       "  '₹249',\n",
       "  '₹445',\n",
       "  '₹424',\n",
       "  '₹299',\n",
       "  '₹199',\n",
       "  '₹242',\n",
       "  '₹219',\n",
       "  '₹378',\n",
       "  '₹719',\n",
       "  '₹159',\n",
       "  '₹199',\n",
       "  '₹339',\n",
       "  '₹2,499',\n",
       "  '₹279',\n",
       "  '₹362',\n",
       "  '₹449',\n",
       "  '₹169',\n",
       "  '₹499',\n",
       "  '₹489',\n",
       "  '₹299',\n",
       "  '₹629',\n",
       "  '₹339',\n",
       "  '₹703',\n",
       "  '₹149',\n",
       "  '₹549',\n",
       "  '₹79',\n",
       "  '₹199',\n",
       "  '₹449',\n",
       "  '₹599',\n",
       "  '₹149',\n",
       "  '₹254',\n",
       "  '₹1,236',\n",
       "  '₹799',\n",
       "  '₹199',\n",
       "  '₹399',\n",
       "  '₹489',\n",
       "  '₹199',\n",
       "  '₹424',\n",
       "  '₹396',\n",
       "  '₹79',\n",
       "  '₹249',\n",
       "  '₹445',\n",
       "  '₹424',\n",
       "  '₹299',\n",
       "  '₹199',\n",
       "  '₹242',\n",
       "  '₹219',\n",
       "  '₹378',\n",
       "  '₹719',\n",
       "  '₹159',\n",
       "  '₹199',\n",
       "  '₹339',\n",
       "  '₹2,499',\n",
       "  '₹279',\n",
       "  '₹362',\n",
       "  '₹449',\n",
       "  '₹169',\n",
       "  '₹499',\n",
       "  '₹489',\n",
       "  '₹299',\n",
       "  '₹629',\n",
       "  '₹339',\n",
       "  '₹703',\n",
       "  '₹149',\n",
       "  '₹549',\n",
       "  '₹79',\n",
       "  '₹199',\n",
       "  '₹449',\n",
       "  '₹599',\n",
       "  '₹149',\n",
       "  '₹254',\n",
       "  '₹1,236',\n",
       "  '₹799',\n",
       "  '₹199',\n",
       "  '₹399',\n",
       "  '₹489',\n",
       "  '₹199',\n",
       "  '₹424',\n",
       "  '₹396',\n",
       "  '₹79',\n",
       "  '₹249',\n",
       "  '₹445',\n",
       "  '₹424',\n",
       "  '₹299',\n",
       "  '₹199',\n",
       "  '₹242',\n",
       "  '₹219',\n",
       "  '₹378',\n",
       "  '₹719',\n",
       "  '₹159',\n",
       "  '₹199',\n",
       "  '₹339',\n",
       "  '₹2,499',\n",
       "  '₹279',\n",
       "  '₹362',\n",
       "  '₹449',\n",
       "  '₹169',\n",
       "  '₹499',\n",
       "  '₹489',\n",
       "  '₹299',\n",
       "  '₹629'],\n",
       " 'Discounts': ['77% off',\n",
       "  '64% off',\n",
       "  '88% off',\n",
       "  '50% off',\n",
       "  '93% off',\n",
       "  '84% off',\n",
       "  '50% off',\n",
       "  '70% off',\n",
       "  '75% off',\n",
       "  '74% off',\n",
       "  '65% off',\n",
       "  '60% off',\n",
       "  '79% off',\n",
       "  '69% off',\n",
       "  '75% off',\n",
       "  '77% off',\n",
       "  '71% off',\n",
       "  '80% off',\n",
       "  '92% off',\n",
       "  '79% off',\n",
       "  '72% off',\n",
       "  '71% off',\n",
       "  '85% off',\n",
       "  '84% off',\n",
       "  '81% off',\n",
       "  '86% off',\n",
       "  '84% off',\n",
       "  '71% off',\n",
       "  '87% off',\n",
       "  '80% off',\n",
       "  '77% off',\n",
       "  '75% off',\n",
       "  '89% off',\n",
       "  '72% off',\n",
       "  '77% off',\n",
       "  '83% off',\n",
       "  '75% off',\n",
       "  '75% off',\n",
       "  '70% off',\n",
       "  '75% off',\n",
       "  '77% off',\n",
       "  '64% off',\n",
       "  '88% off',\n",
       "  '50% off',\n",
       "  '93% off',\n",
       "  '84% off',\n",
       "  '50% off',\n",
       "  '70% off',\n",
       "  '75% off',\n",
       "  '74% off',\n",
       "  '65% off',\n",
       "  '60% off',\n",
       "  '79% off',\n",
       "  '69% off',\n",
       "  '75% off',\n",
       "  '77% off',\n",
       "  '71% off',\n",
       "  '80% off',\n",
       "  '92% off',\n",
       "  '79% off',\n",
       "  '72% off',\n",
       "  '71% off',\n",
       "  '85% off',\n",
       "  '84% off',\n",
       "  '81% off',\n",
       "  '86% off',\n",
       "  '84% off',\n",
       "  '71% off',\n",
       "  '87% off',\n",
       "  '80% off',\n",
       "  '77% off',\n",
       "  '75% off',\n",
       "  '89% off',\n",
       "  '72% off',\n",
       "  '77% off',\n",
       "  '83% off',\n",
       "  '75% off',\n",
       "  '75% off',\n",
       "  '70% off',\n",
       "  '75% off',\n",
       "  '77% off',\n",
       "  '64% off',\n",
       "  '88% off',\n",
       "  '50% off',\n",
       "  '93% off',\n",
       "  '84% off',\n",
       "  '50% off',\n",
       "  '70% off',\n",
       "  '75% off',\n",
       "  '74% off',\n",
       "  '65% off',\n",
       "  '60% off',\n",
       "  '79% off',\n",
       "  '69% off',\n",
       "  '75% off',\n",
       "  '77% off',\n",
       "  '71% off',\n",
       "  '80% off',\n",
       "  '92% off',\n",
       "  '79% off',\n",
       "  '72% off',\n",
       "  '71% off',\n",
       "  '85% off',\n",
       "  '84% off',\n",
       "  '81% off',\n",
       "  '86% off',\n",
       "  '84% off',\n",
       "  '71% off',\n",
       "  '87% off',\n",
       "  '80% off',\n",
       "  '77% off',\n",
       "  '75% off',\n",
       "  '89% off',\n",
       "  '72% off',\n",
       "  '77% off',\n",
       "  '83% off',\n",
       "  '75% off',\n",
       "  '75% off',\n",
       "  '70% off',\n",
       "  '75% off']}"
      ]
     },
     "execution_count": 166,
     "metadata": {},
     "output_type": "execute_result"
    }
   ],
   "source": [
    "import pandas as pd\n",
    "df5=pd.DataFrame=({\"Brands\":glass_brands,\"Final_Price\":glass_Prices,\"Discounts\":glass_Discounts})\n",
    "df5"
   ]
  },
  {
   "cell_type": "code",
   "execution_count": 168,
   "id": "a9bac8f0",
   "metadata": {},
   "outputs": [
    {
     "ename": "TypeError",
     "evalue": "'dict' object is not callable",
     "output_type": "error",
     "traceback": [
      "\u001b[1;31m---------------------------------------------------------------------------\u001b[0m",
      "\u001b[1;31mTypeError\u001b[0m                                 Traceback (most recent call last)",
      "Cell \u001b[1;32mIn[168], line 1\u001b[0m\n\u001b[1;32m----> 1\u001b[0m sunglass_inFlipkart\u001b[38;5;241m=\u001b[39m\u001b[43mpd\u001b[49m\u001b[38;5;241;43m.\u001b[39;49m\u001b[43mDataFrame\u001b[49m\u001b[43m(\u001b[49m\u001b[43m{\u001b[49m\u001b[38;5;124;43m\"\u001b[39;49m\u001b[38;5;124;43mBrands\u001b[39;49m\u001b[38;5;124;43m\"\u001b[39;49m\u001b[43m:\u001b[49m\u001b[43mglass_brands\u001b[49m\u001b[43m,\u001b[49m\u001b[38;5;124;43m\"\u001b[39;49m\u001b[38;5;124;43mFinal Price\u001b[39;49m\u001b[38;5;124;43m\"\u001b[39;49m\u001b[43m:\u001b[49m\u001b[43m \u001b[49m\u001b[43mglass_Prices\u001b[49m\u001b[43m,\u001b[49m\u001b[38;5;124;43m\"\u001b[39;49m\u001b[38;5;124;43mDiscounts\u001b[39;49m\u001b[38;5;124;43m\"\u001b[39;49m\u001b[43m:\u001b[49m\u001b[43mglass_Discounts\u001b[49m\u001b[43m}\u001b[49m\u001b[43m)\u001b[49m\n\u001b[0;32m      2\u001b[0m \u001b[38;5;28mprint\u001b[39m(sunglass_inFlipkart)\n",
      "\u001b[1;31mTypeError\u001b[0m: 'dict' object is not callable"
     ]
    }
   ],
   "source": [
    "sunglass_inFlipkart=pd.DataFrame({\"Brands\":glass_brands,\"Final Price\": glass_Prices,\"Discounts\":glass_Discounts})\n",
    "print(sunglass_inFlipkart)"
   ]
  },
  {
   "cell_type": "markdown",
   "id": "63751cc6",
   "metadata": {},
   "source": [
    "# Q5: Scrape 100 reviews data from flipkart.com for iphone11 phone. You have to go the link:\n",
    "https://www.flipkart.com/apple-iphone-11-black-64-gb/productreviews/itm4e5041ba101fd?pid=MOBFWQ6BXGJCEYNY&lid=LSTMOBFWQ6BXGJCEYNYZXSHRJ&market\n",
    "place=FLIPKART"
   ]
  },
  {
   "cell_type": "markdown",
   "id": "a194b8ab",
   "metadata": {},
   "source": []
  },
  {
   "cell_type": "code",
   "execution_count": 16,
   "id": "b11a4080",
   "metadata": {},
   "outputs": [],
   "source": [
    "driver5=webdriver.Chrome()\n",
    "driver5.get(\"https://www.flipkart.com/apple-iphone-11-black-64-gb/p/itm4e5041ba101fd?pid=MOBFWQ6BXGJCEYNY&lid=LSTMOBFWQ6BXGJCEYNYZE3ENS&marketplace=FLIPKART&q=iphone+11&store=tyy/4io&srno=s_1_1&otracker=AS_Query_HistoryAutoSuggest_6_0_na_na_na&otracker1=AS_Query_HistoryAutoSuggest_6_0_na_na_na&fm=organic&iid=e30aaa70-fe6e-466c-81d4-993e630ea913.MOBFWQ6BXGJCEYNY.SEARCH&ppt=hp&ppn=homepage&ssid=nseg9l47e80000001699187524593&qH=f6cdfdaa9f3c23f3\")"
   ]
  },
  {
   "cell_type": "code",
   "execution_count": 17,
   "id": "1d1d8bfb",
   "metadata": {},
   "outputs": [],
   "source": [
    "review=driver5.find_element(By.XPATH,\"/html/body/div[1]/div/div[3]/div[1]/div[2]/div[8]/div/div/div[6]/div/a/div/span\")\n",
    "review.click()"
   ]
  },
  {
   "cell_type": "code",
   "execution_count": 18,
   "id": "ea93c742",
   "metadata": {},
   "outputs": [],
   "source": [
    "rating=[]\n",
    "\n",
    "start=0\n",
    "end=10\n",
    "\n",
    "for page in range(start,end):\n",
    "    allRating=driver5.find_elements(By.XPATH,'//div[@class=\"_3LWZlK _1BLPMq\"]')\n",
    "    for n in allRating:\n",
    "        final_rating=n.text\n",
    "        rating.append(final_rating)\n",
    "        "
   ]
  },
  {
   "cell_type": "code",
   "execution_count": 19,
   "id": "3739b3d3",
   "metadata": {
    "scrolled": true
   },
   "outputs": [
    {
     "name": "stdout",
     "output_type": "stream",
     "text": [
      "100\n"
     ]
    }
   ],
   "source": [
    "print(len(rating))"
   ]
  },
  {
   "cell_type": "code",
   "execution_count": 20,
   "id": "350a294e",
   "metadata": {},
   "outputs": [],
   "source": [
    "review_summary=[]\n",
    "\n",
    "start=0\n",
    "end=10\n",
    "\n",
    "for page in range(start,end):\n",
    "    allreview=driver5.find_elements(By.CLASS_NAME,'_2-N8zT')\n",
    "\n",
    "    for p in allreview:\n",
    "        finaly_review=p.text\n",
    "        review_summary.append(finaly_review)"
   ]
  },
  {
   "cell_type": "code",
   "execution_count": 21,
   "id": "8104d0b9",
   "metadata": {},
   "outputs": [
    {
     "name": "stdout",
     "output_type": "stream",
     "text": [
      "['Highly recommended', 'Perfect product!', 'Best in the market!', 'Worth every penny', 'Classy product', 'Terrific', 'Terrific purchase', 'Wonderful', 'Must buy!', 'Fabulous!', 'Highly recommended', 'Perfect product!', 'Best in the market!', 'Worth every penny', 'Classy product', 'Terrific', 'Terrific purchase', 'Wonderful', 'Must buy!', 'Fabulous!', 'Highly recommended', 'Perfect product!', 'Best in the market!', 'Worth every penny', 'Classy product', 'Terrific', 'Terrific purchase', 'Wonderful', 'Must buy!', 'Fabulous!', 'Highly recommended', 'Perfect product!', 'Best in the market!', 'Worth every penny', 'Classy product', 'Terrific', 'Terrific purchase', 'Wonderful', 'Must buy!', 'Fabulous!', 'Highly recommended', 'Perfect product!', 'Best in the market!', 'Worth every penny', 'Classy product', 'Terrific', 'Terrific purchase', 'Wonderful', 'Must buy!', 'Fabulous!', 'Highly recommended', 'Perfect product!', 'Best in the market!', 'Worth every penny', 'Classy product', 'Terrific', 'Terrific purchase', 'Wonderful', 'Must buy!', 'Fabulous!', 'Highly recommended', 'Perfect product!', 'Best in the market!', 'Worth every penny', 'Classy product', 'Terrific', 'Terrific purchase', 'Wonderful', 'Must buy!', 'Fabulous!', 'Highly recommended', 'Perfect product!', 'Best in the market!', 'Worth every penny', 'Classy product', 'Terrific', 'Terrific purchase', 'Wonderful', 'Must buy!', 'Fabulous!', 'Highly recommended', 'Perfect product!', 'Best in the market!', 'Worth every penny', 'Classy product', 'Terrific', 'Terrific purchase', 'Wonderful', 'Must buy!', 'Fabulous!', 'Highly recommended', 'Perfect product!', 'Best in the market!', 'Worth every penny', 'Classy product', 'Terrific', 'Terrific purchase', 'Wonderful', 'Must buy!', 'Fabulous!']\n"
     ]
    }
   ],
   "source": [
    "print(review_summary)"
   ]
  },
  {
   "cell_type": "code",
   "execution_count": 22,
   "id": "b28cae20",
   "metadata": {},
   "outputs": [
    {
     "name": "stdout",
     "output_type": "stream",
     "text": [
      "100\n"
     ]
    }
   ],
   "source": [
    "print(len(review_summary))"
   ]
  },
  {
   "cell_type": "code",
   "execution_count": 23,
   "id": "fec85222",
   "metadata": {},
   "outputs": [],
   "source": [
    "full_review=[]\n",
    "start=0\n",
    "end=10\n",
    "\n",
    "for page in range(start,end):\n",
    "    review_summary=driver5.find_elements(By.XPATH,'//div[@class=\"t-ZTKy\"]/div/div')\n",
    "\n",
    "    for s in review_summary:\n",
    "        final_summary=s.text\n",
    "        full_review.append(final_summary)"
   ]
  },
  {
   "cell_type": "code",
   "execution_count": 24,
   "id": "4b539374",
   "metadata": {
    "scrolled": true
   },
   "outputs": [
    {
     "name": "stdout",
     "output_type": "stream",
     "text": [
      "100\n"
     ]
    }
   ],
   "source": [
    "print(len(full_review))"
   ]
  },
  {
   "cell_type": "code",
   "execution_count": 25,
   "id": "9955becd",
   "metadata": {
    "scrolled": true
   },
   "outputs": [
    {
     "name": "stdout",
     "output_type": "stream",
     "text": [
      "{'Rating': ['5', '5', '5', '5', '5', '5', '5', '5', '5', '5', '5', '5', '5', '5', '5', '5', '5', '5', '5', '5', '5', '5', '5', '5', '5', '5', '5', '5', '5', '5', '5', '5', '5', '5', '5', '5', '5', '5', '5', '5', '5', '5', '5', '5', '5', '5', '5', '5', '5', '5', '5', '5', '5', '5', '5', '5', '5', '5', '5', '5', '5', '5', '5', '5', '5', '5', '5', '5', '5', '5', '5', '5', '5', '5', '5', '5', '5', '5', '5', '5', '5', '5', '5', '5', '5', '5', '5', '5', '5', '5', '5', '5', '5', '5', '5', '5', '5', '5', '5', '5'], 'Reviews': [<selenium.webdriver.remote.webelement.WebElement (session=\"49191c6e642c8fefe0e6c1f6be60d866\", element=\"835E4E89BEBA364D9D5DC28C5BFA24B7_element_44\")>, <selenium.webdriver.remote.webelement.WebElement (session=\"49191c6e642c8fefe0e6c1f6be60d866\", element=\"835E4E89BEBA364D9D5DC28C5BFA24B7_element_45\")>, <selenium.webdriver.remote.webelement.WebElement (session=\"49191c6e642c8fefe0e6c1f6be60d866\", element=\"835E4E89BEBA364D9D5DC28C5BFA24B7_element_46\")>, <selenium.webdriver.remote.webelement.WebElement (session=\"49191c6e642c8fefe0e6c1f6be60d866\", element=\"835E4E89BEBA364D9D5DC28C5BFA24B7_element_47\")>, <selenium.webdriver.remote.webelement.WebElement (session=\"49191c6e642c8fefe0e6c1f6be60d866\", element=\"835E4E89BEBA364D9D5DC28C5BFA24B7_element_48\")>, <selenium.webdriver.remote.webelement.WebElement (session=\"49191c6e642c8fefe0e6c1f6be60d866\", element=\"835E4E89BEBA364D9D5DC28C5BFA24B7_element_49\")>, <selenium.webdriver.remote.webelement.WebElement (session=\"49191c6e642c8fefe0e6c1f6be60d866\", element=\"835E4E89BEBA364D9D5DC28C5BFA24B7_element_50\")>, <selenium.webdriver.remote.webelement.WebElement (session=\"49191c6e642c8fefe0e6c1f6be60d866\", element=\"835E4E89BEBA364D9D5DC28C5BFA24B7_element_51\")>, <selenium.webdriver.remote.webelement.WebElement (session=\"49191c6e642c8fefe0e6c1f6be60d866\", element=\"835E4E89BEBA364D9D5DC28C5BFA24B7_element_52\")>, <selenium.webdriver.remote.webelement.WebElement (session=\"49191c6e642c8fefe0e6c1f6be60d866\", element=\"835E4E89BEBA364D9D5DC28C5BFA24B7_element_53\")>], 'Full-Review': ['Awesome Battery Life...Camera clarity is too good..\\nValue for money...Its gives full day battery backup in single charge...', 'Photos super', 'Good Camera', 'Feeling awesome after getting the delivery of my phone. Dual speakers makes the sound quality very loud. Amazing!!', 'Camera is awesome\\nBest battery backup\\nA performer 👌🏻\\nIt will be a real value for money if they provide charger and earphone inbox!', 'Very very good', 'Value for money 😍', 'This is amazing at all', 'Go for iPhone 11 , if confused between iPhone 11 or iPhone 12 mini.Battery Life is enhanced , it worked for complete 2 days without charging it. Explored new features of taking screenshot by clicking on apple logo by Haptic Touch , Portrait mode with stage effect enhanced & slow motion selfie.', 'Super🔥 and good performance 👌❤️', 'Awesome Battery Life...Camera clarity is too good..\\nValue for money...Its gives full day battery backup in single charge...', 'Photos super', 'Good Camera', 'Feeling awesome after getting the delivery of my phone. Dual speakers makes the sound quality very loud. Amazing!!', 'Camera is awesome\\nBest battery backup\\nA performer 👌🏻\\nIt will be a real value for money if they provide charger and earphone inbox!', 'Very very good', 'Value for money 😍', 'This is amazing at all', 'Go for iPhone 11 , if confused between iPhone 11 or iPhone 12 mini.Battery Life is enhanced , it worked for complete 2 days without charging it. Explored new features of taking screenshot by clicking on apple logo by Haptic Touch , Portrait mode with stage effect enhanced & slow motion selfie.', 'Super🔥 and good performance 👌❤️', 'Awesome Battery Life...Camera clarity is too good..\\nValue for money...Its gives full day battery backup in single charge...', 'Photos super', 'Good Camera', 'Feeling awesome after getting the delivery of my phone. Dual speakers makes the sound quality very loud. Amazing!!', 'Camera is awesome\\nBest battery backup\\nA performer 👌🏻\\nIt will be a real value for money if they provide charger and earphone inbox!', 'Very very good', 'Value for money 😍', 'This is amazing at all', 'Go for iPhone 11 , if confused between iPhone 11 or iPhone 12 mini.Battery Life is enhanced , it worked for complete 2 days without charging it. Explored new features of taking screenshot by clicking on apple logo by Haptic Touch , Portrait mode with stage effect enhanced & slow motion selfie.', 'Super🔥 and good performance 👌❤️', 'Awesome Battery Life...Camera clarity is too good..\\nValue for money...Its gives full day battery backup in single charge...', 'Photos super', 'Good Camera', 'Feeling awesome after getting the delivery of my phone. Dual speakers makes the sound quality very loud. Amazing!!', 'Camera is awesome\\nBest battery backup\\nA performer 👌🏻\\nIt will be a real value for money if they provide charger and earphone inbox!', 'Very very good', 'Value for money 😍', 'This is amazing at all', 'Go for iPhone 11 , if confused between iPhone 11 or iPhone 12 mini.Battery Life is enhanced , it worked for complete 2 days without charging it. Explored new features of taking screenshot by clicking on apple logo by Haptic Touch , Portrait mode with stage effect enhanced & slow motion selfie.', 'Super🔥 and good performance 👌❤️', 'Awesome Battery Life...Camera clarity is too good..\\nValue for money...Its gives full day battery backup in single charge...', 'Photos super', 'Good Camera', 'Feeling awesome after getting the delivery of my phone. Dual speakers makes the sound quality very loud. Amazing!!', 'Camera is awesome\\nBest battery backup\\nA performer 👌🏻\\nIt will be a real value for money if they provide charger and earphone inbox!', 'Very very good', 'Value for money 😍', 'This is amazing at all', 'Go for iPhone 11 , if confused between iPhone 11 or iPhone 12 mini.Battery Life is enhanced , it worked for complete 2 days without charging it. Explored new features of taking screenshot by clicking on apple logo by Haptic Touch , Portrait mode with stage effect enhanced & slow motion selfie.', 'Super🔥 and good performance 👌❤️', 'Awesome Battery Life...Camera clarity is too good..\\nValue for money...Its gives full day battery backup in single charge...', 'Photos super', 'Good Camera', 'Feeling awesome after getting the delivery of my phone. Dual speakers makes the sound quality very loud. Amazing!!', 'Camera is awesome\\nBest battery backup\\nA performer 👌🏻\\nIt will be a real value for money if they provide charger and earphone inbox!', 'Very very good', 'Value for money 😍', 'This is amazing at all', 'Go for iPhone 11 , if confused between iPhone 11 or iPhone 12 mini.Battery Life is enhanced , it worked for complete 2 days without charging it. Explored new features of taking screenshot by clicking on apple logo by Haptic Touch , Portrait mode with stage effect enhanced & slow motion selfie.', 'Super🔥 and good performance 👌❤️', 'Awesome Battery Life...Camera clarity is too good..\\nValue for money...Its gives full day battery backup in single charge...', 'Photos super', 'Good Camera', 'Feeling awesome after getting the delivery of my phone. Dual speakers makes the sound quality very loud. Amazing!!', 'Camera is awesome\\nBest battery backup\\nA performer 👌🏻\\nIt will be a real value for money if they provide charger and earphone inbox!', 'Very very good', 'Value for money 😍', 'This is amazing at all', 'Go for iPhone 11 , if confused between iPhone 11 or iPhone 12 mini.Battery Life is enhanced , it worked for complete 2 days without charging it. Explored new features of taking screenshot by clicking on apple logo by Haptic Touch , Portrait mode with stage effect enhanced & slow motion selfie.', 'Super🔥 and good performance 👌❤️', 'Awesome Battery Life...Camera clarity is too good..\\nValue for money...Its gives full day battery backup in single charge...', 'Photos super', 'Good Camera', 'Feeling awesome after getting the delivery of my phone. Dual speakers makes the sound quality very loud. Amazing!!', 'Camera is awesome\\nBest battery backup\\nA performer 👌🏻\\nIt will be a real value for money if they provide charger and earphone inbox!', 'Very very good', 'Value for money 😍', 'This is amazing at all', 'Go for iPhone 11 , if confused between iPhone 11 or iPhone 12 mini.Battery Life is enhanced , it worked for complete 2 days without charging it. Explored new features of taking screenshot by clicking on apple logo by Haptic Touch , Portrait mode with stage effect enhanced & slow motion selfie.', 'Super🔥 and good performance 👌❤️', 'Awesome Battery Life...Camera clarity is too good..\\nValue for money...Its gives full day battery backup in single charge...', 'Photos super', 'Good Camera', 'Feeling awesome after getting the delivery of my phone. Dual speakers makes the sound quality very loud. Amazing!!', 'Camera is awesome\\nBest battery backup\\nA performer 👌🏻\\nIt will be a real value for money if they provide charger and earphone inbox!', 'Very very good', 'Value for money 😍', 'This is amazing at all', 'Go for iPhone 11 , if confused between iPhone 11 or iPhone 12 mini.Battery Life is enhanced , it worked for complete 2 days without charging it. Explored new features of taking screenshot by clicking on apple logo by Haptic Touch , Portrait mode with stage effect enhanced & slow motion selfie.', 'Super🔥 and good performance 👌❤️', 'Awesome Battery Life...Camera clarity is too good..\\nValue for money...Its gives full day battery backup in single charge...', 'Photos super', 'Good Camera', 'Feeling awesome after getting the delivery of my phone. Dual speakers makes the sound quality very loud. Amazing!!', 'Camera is awesome\\nBest battery backup\\nA performer 👌🏻\\nIt will be a real value for money if they provide charger and earphone inbox!', 'Very very good', 'Value for money 😍', 'This is amazing at all', 'Go for iPhone 11 , if confused between iPhone 11 or iPhone 12 mini.Battery Life is enhanced , it worked for complete 2 days without charging it. Explored new features of taking screenshot by clicking on apple logo by Haptic Touch , Portrait mode with stage effect enhanced & slow motion selfie.', 'Super🔥 and good performance 👌❤️']}\n"
     ]
    }
   ],
   "source": [
    "iPhone=pd.DataFrame=({'Rating':rating,'Reviews':review_summary,'Full-Review':full_review})\n",
    "print(iPhone)"
   ]
  },
  {
   "cell_type": "code",
   "execution_count": 80,
   "id": "58bec379",
   "metadata": {},
   "outputs": [
    {
     "ename": "NameError",
     "evalue": "name 'rating' is not defined",
     "output_type": "error",
     "traceback": [
      "\u001b[1;31m---------------------------------------------------------------------------\u001b[0m",
      "\u001b[1;31mNameError\u001b[0m                                 Traceback (most recent call last)",
      "Cell \u001b[1;32mIn[80], line 1\u001b[0m\n\u001b[1;32m----> 1\u001b[0m iPhone\u001b[38;5;241m=\u001b[39mpd\u001b[38;5;241m.\u001b[39mDataFrame({\u001b[38;5;124m'\u001b[39m\u001b[38;5;124mRating\u001b[39m\u001b[38;5;124m'\u001b[39m:\u001b[43mrating\u001b[49m,\u001b[38;5;124m'\u001b[39m\u001b[38;5;124mReviews\u001b[39m\u001b[38;5;124m'\u001b[39m:review_summary,\u001b[38;5;124m'\u001b[39m\u001b[38;5;124mFull-Review\u001b[39m\u001b[38;5;124m'\u001b[39m:full_review})\n\u001b[0;32m      2\u001b[0m \u001b[38;5;28mprint\u001b[39m(iPhone)\n",
      "\u001b[1;31mNameError\u001b[0m: name 'rating' is not defined"
     ]
    }
   ],
   "source": [
    "iPhone=pd.DataFrame({'Rating':rating,'Reviews':review_summary,'Full-Review':full_review})\n",
    "print(iPhone)"
   ]
  },
  {
   "cell_type": "markdown",
   "id": "636c5c08",
   "metadata": {},
   "source": [
    "# Q6: Scrape data forfirst 100 sneakers you find whenyou visit flipkart.com and search for “sneakers” inthe\n",
    "search field.\n",
    "You have to scrape 3 attributes of each sneaker:\n",
    "1. Brand\n",
    "2. ProductDescription\n",
    "3. Price\n",
    "As shown in the below image, you have to scrape the above attributes."
   ]
  },
  {
   "cell_type": "code",
   "execution_count": 37,
   "id": "8444f52a",
   "metadata": {},
   "outputs": [],
   "source": [
    "driver6=webdriver.Chrome()"
   ]
  },
  {
   "cell_type": "code",
   "execution_count": 54,
   "id": "5362a0c0",
   "metadata": {},
   "outputs": [],
   "source": [
    "driver6.get('https://www.flipkart.com/search?q=sneaker&otracker=search&otracker1=search&marketplace=FLIPKART&as-show=on&as=off')"
   ]
  },
  {
   "cell_type": "code",
   "execution_count": 39,
   "id": "41b55aaf",
   "metadata": {},
   "outputs": [],
   "source": [
    "from selenium.common.exceptions import TimeoutException\n"
   ]
  },
  {
   "cell_type": "code",
   "execution_count": 42,
   "id": "016267e2",
   "metadata": {},
   "outputs": [],
   "source": [
    "url_sneaker=[]\n",
    "start=0\n",
    "end=2\n",
    "for page in range (start,end):\n",
    "    sneaker_url=driver6.find_elements(By.XPATH,'//div[@class=\"_2B099V\"]/a')\n",
    "    for urls in sneaker_url:\n",
    "        all_url=urls.get_attribute('href')\n",
    "        url_sneaker.append(all_url)\n",
    "\n",
    "    next_button=driver6.find_elements(By.XPATH, '/html/body/div/div/div[3]/div[1]/div[2]/div[12]/div/div/nav/a[11]/span')"
   ]
  },
  {
   "cell_type": "code",
   "execution_count": 43,
   "id": "58a135cf",
   "metadata": {},
   "outputs": [
    {
     "name": "stdout",
     "output_type": "stream",
     "text": [
      "160\n"
     ]
    }
   ],
   "source": [
    "print (len(url_sneaker))"
   ]
  },
  {
   "cell_type": "code",
   "execution_count": 44,
   "id": "38bf90c0",
   "metadata": {},
   "outputs": [],
   "source": [
    "sneaker_description = []\n",
    "\n",
    "for desc_url in url_sneaker:\n",
    "    driver6.get(desc_url)\n",
    "    time.sleep(5)  # You can adjust the sleep time based on your page load times\n",
    "    try:\n",
    "        descrip = driver6.find_element(By.XPATH, '/html/body/div[1]/div/div[3]/div[1]/div[2]/div[2]/div/div[1]/h1/span[2]')\n",
    "        sneaker_details = descrip.text\n",
    "        sneaker_description.append(sneaker_details)\n",
    "    except NoSuchElementException:\n",
    "        sneaker_description.append('not present')"
   ]
  },
  {
   "cell_type": "code",
   "execution_count": 45,
   "id": "32dbe832",
   "metadata": {},
   "outputs": [
    {
     "name": "stdout",
     "output_type": "stream",
     "text": [
      "160\n"
     ]
    }
   ],
   "source": [
    "print(len(sneaker_description))"
   ]
  },
  {
   "cell_type": "code",
   "execution_count": 46,
   "id": "e400fa23",
   "metadata": {},
   "outputs": [
    {
     "name": "stdout",
     "output_type": "stream",
     "text": [
      "['Combo Pack Of 2 Men’s Casual Shoes Sneakers For Men  (Grey, Blue, White)', 'Combo Pack Of 2 Men’s Casual Shoes Sneakers For Men  (Grey, Blue, White)', '!Combo Pack Of 2 Casual Shoes! Sneakers For Men  (Blue)', '!Combo Pack Of 2 Casual Shoes! Sneakers For Men  (Blue)', 'Synthetic Leather |Lightweight|Comfort|Summer|Trendy|Walking|Outdoor|Daily Use Sneakers For Men  (White)', 'Synthetic Leather |Lightweight|Comfort|Summer|Trendy|Walking|Outdoor|Daily Use Sneakers For Men  (White)', 'Trending Stylish Casual Outdoor Sneakers Shoes For Men Sneakers For Men  (White, Black)', 'Trending Stylish Casual Outdoor Sneakers Shoes For Men Sneakers For Men  (White, Black)', 'Sneakers For Men  (White)', 'Sneakers For Men  (White)', 'Modern Trendy Shoes Sneakers For Men  (Orange, Grey)', 'Modern Trendy Shoes Sneakers For Men  (Orange, Grey)', 'Impel Sneakers For Men  (Blue)', 'Impel Sneakers For Men  (Blue)', 'Combo_Pack_Of 2 Casual Shoes Sneakers For Men  (Black)', 'Combo_Pack_Of 2 Casual Shoes Sneakers For Men  (Black)', 'Sneakers For Men  (White)', 'Sneakers For Men  (White)', 'Rungryp Sneakers For Men  (Blue)', 'Rungryp Sneakers For Men  (Blue)', 'Combo Pack Of 2 Casual Shoes Sneakers For Men  (Black)', 'Combo Pack Of 2 Casual Shoes Sneakers For Men  (Black)', 'Combo Pack Of 2 Casual Shoes Sneakers For Men  (Black)', 'Combo Pack Of 2 Casual Shoes Sneakers For Men  (Black)', 'Sneakers For Men  (White)', 'Sneakers For Men  (White)', 'Hustle V2 Sneakers For Men  (Black)', 'Hustle V2 Sneakers For Men  (Black)', 'CLARKIN Sneakers For Men  (Off White)', 'CLARKIN Sneakers For Men  (Off White)', 'Sneakers For Men  (White)', 'Sneakers For Men  (White)', 'Combo Pack Of 2 Casual Shoes Sneakers For Men Sneakers For Men  (Black)', 'Combo Pack Of 2 Casual Shoes Sneakers For Men Sneakers For Men  (Black)', 'Combo Pack Of 2 Casual Shoes Sneakers For Men  (Blue)', 'Combo Pack Of 2 Casual Shoes Sneakers For Men  (Blue)', 'MOORE 3.0 Sneakers For Men  (Off White)', 'MOORE 3.0 Sneakers For Men  (Off White)', 'Buzz Sneakers For Men  (White)', 'Buzz Sneakers For Men  (White)', 'Sneakers For Men  (White)', 'Sneakers For Men  (White)', '2 Combo Sneaker Shoes Sneakers For Men  (Grey, Black)', '2 Combo Sneaker Shoes Sneakers For Men  (Grey, Black)', 'Sneakers For Women  (White)', 'Sneakers For Women  (White)', 'Downshifter 11 Sneakers For Men  (Blue)', 'Downshifter 11 Sneakers For Men  (Blue)', 'Sneakers For Women  (White)', 'Sneakers For Women  (White)', 'Casual Sneakers ColourFul Block Shoes For Boys And Men Sneakers For Men  (Brown, White)', 'Casual Sneakers ColourFul Block Shoes For Boys And Men Sneakers For Men  (Brown, White)', 'Sneakers For Men  (White)', 'Sneakers For Men  (White)', '2 Combo Sneaker Shoes Sneakers For Men  (Blue, Black)', '2 Combo Sneaker Shoes Sneakers For Men  (Blue, Black)', 'Sneaker Casual Shoes for Men | Soft Cushioned Insole, Slip-Resistance Sneakers For Men  (White)', 'Sneaker Casual Shoes for Men | Soft Cushioned Insole, Slip-Resistance Sneakers For Men  (White)', 'Sneakers For Men  (White)', 'Sneakers For Men  (White)', 'Combo Pack of 2 Trendy & Stylish Casual Shoes Sneakers For Men  (White, Grey)', 'Combo Pack of 2 Trendy & Stylish Casual Shoes Sneakers For Men  (White, Grey)', 'Combo pack of 2 Sneakers for Shoes Sneakers For Men  (Blue, Grey)', 'Combo pack of 2 Sneakers for Shoes Sneakers For Men  (Blue, Grey)', 'Sneakers For Men  (Black, Yellow)', 'Sneakers For Men  (Black, Yellow)', 'Premium Casual Shoes for Women Sneakers For Women  (Pink)', 'Premium Casual Shoes for Women Sneakers For Women  (Pink)', 'X-Ray Speed Sneakers For Men  (Blue, White)', 'X-Ray Speed Sneakers For Men  (Blue, White)', 'Zod Runner V3 Sneakers For Men  (Green)', 'Zod Runner V3 Sneakers For Men  (Green)', 'Sneakers For Men  (Black)', 'Sneakers For Men  (Black)', 'Modern Trendy Sneakers boot Sneakers For Men Sneakers For Men  (Blue)', 'Modern Trendy Sneakers boot Sneakers For Men Sneakers For Men  (Blue)', 'Sneakers For Men  (Black)', 'Sneakers For Men  (Black)', 'Sneakers For Men  (Black)', 'Sneakers For Men  (Black)', 'Combo Pack Of 2 Men’s Casual Shoes Sneakers For Men  (Grey, Blue, White)', 'Combo Pack Of 2 Men’s Casual Shoes Sneakers For Men  (Grey, Blue, White)', '!Combo Pack Of 2 Casual Shoes! Sneakers For Men  (Blue)', '!Combo Pack Of 2 Casual Shoes! Sneakers For Men  (Blue)', 'Synthetic Leather |Lightweight|Comfort|Summer|Trendy|Walking|Outdoor|Daily Use Sneakers For Men  (White)', 'Synthetic Leather |Lightweight|Comfort|Summer|Trendy|Walking|Outdoor|Daily Use Sneakers For Men  (White)', 'Trending Stylish Casual Outdoor Sneakers Shoes For Men Sneakers For Men  (White, Black)', 'Trending Stylish Casual Outdoor Sneakers Shoes For Men Sneakers For Men  (White, Black)', 'Sneakers For Men  (White)', 'Sneakers For Men  (White)', 'Modern Trendy Shoes Sneakers For Men  (Orange, Grey)', 'Modern Trendy Shoes Sneakers For Men  (Orange, Grey)', 'Impel Sneakers For Men  (Blue)', 'Impel Sneakers For Men  (Blue)', 'Combo_Pack_Of 2 Casual Shoes Sneakers For Men  (Black)', 'Combo_Pack_Of 2 Casual Shoes Sneakers For Men  (Black)', 'Sneakers For Men  (White)', 'Sneakers For Men  (White)', 'Rungryp Sneakers For Men  (Blue)', 'Rungryp Sneakers For Men  (Blue)', 'Combo Pack Of 2 Casual Shoes Sneakers For Men  (Black)', 'Combo Pack Of 2 Casual Shoes Sneakers For Men  (Black)', 'Combo Pack Of 2 Casual Shoes Sneakers For Men  (Black)', 'Combo Pack Of 2 Casual Shoes Sneakers For Men  (Black)', 'Sneakers For Men  (White)', 'Sneakers For Men  (White)', 'Hustle V2 Sneakers For Men  (Black)', 'Hustle V2 Sneakers For Men  (Black)', 'CLARKIN Sneakers For Men  (Off White)', 'CLARKIN Sneakers For Men  (Off White)', 'Sneakers For Men  (White)', 'Sneakers For Men  (White)', 'Combo Pack Of 2 Casual Shoes Sneakers For Men Sneakers For Men  (Black)', 'Combo Pack Of 2 Casual Shoes Sneakers For Men Sneakers For Men  (Black)', 'Combo Pack Of 2 Casual Shoes Sneakers For Men  (Blue)', 'Combo Pack Of 2 Casual Shoes Sneakers For Men  (Blue)', 'MOORE 3.0 Sneakers For Men  (Off White)', 'MOORE 3.0 Sneakers For Men  (Off White)', 'Buzz Sneakers For Men  (White)', 'Buzz Sneakers For Men  (White)', 'Sneakers For Men  (White)', 'Sneakers For Men  (White)', '2 Combo Sneaker Shoes Sneakers For Men  (Grey, Black)', '2 Combo Sneaker Shoes Sneakers For Men  (Grey, Black)', 'Sneakers For Women  (White)', 'Sneakers For Women  (White)', 'Downshifter 11 Sneakers For Men  (Blue)', 'Downshifter 11 Sneakers For Men  (Blue)', 'Sneakers For Women  (White)', 'Sneakers For Women  (White)', 'Casual Sneakers ColourFul Block Shoes For Boys And Men Sneakers For Men  (Brown, White)', 'Casual Sneakers ColourFul Block Shoes For Boys And Men Sneakers For Men  (Brown, White)', 'Sneakers For Men  (White)', 'Sneakers For Men  (White)', '2 Combo Sneaker Shoes Sneakers For Men  (Blue, Black)', '2 Combo Sneaker Shoes Sneakers For Men  (Blue, Black)', 'Sneaker Casual Shoes for Men | Soft Cushioned Insole, Slip-Resistance Sneakers For Men  (White)', 'Sneaker Casual Shoes for Men | Soft Cushioned Insole, Slip-Resistance Sneakers For Men  (White)', 'Sneakers For Men  (White)', 'Sneakers For Men  (White)', 'Combo Pack of 2 Trendy & Stylish Casual Shoes Sneakers For Men  (White, Grey)', 'Combo Pack of 2 Trendy & Stylish Casual Shoes Sneakers For Men  (White, Grey)', 'Combo pack of 2 Sneakers for Shoes Sneakers For Men  (Blue, Grey)', 'Combo pack of 2 Sneakers for Shoes Sneakers For Men  (Blue, Grey)', 'Sneakers For Men  (Black, Yellow)', 'Sneakers For Men  (Black, Yellow)', 'Premium Casual Shoes for Women Sneakers For Women  (Pink)', 'Premium Casual Shoes for Women Sneakers For Women  (Pink)', 'X-Ray Speed Sneakers For Men  (Blue, White)', 'X-Ray Speed Sneakers For Men  (Blue, White)', 'Zod Runner V3 Sneakers For Men  (Green)', 'Zod Runner V3 Sneakers For Men  (Green)', 'Sneakers For Men  (Black)', 'Sneakers For Men  (Black)', 'Modern Trendy Sneakers boot Sneakers For Men Sneakers For Men  (Blue)', 'Modern Trendy Sneakers boot Sneakers For Men Sneakers For Men  (Blue)', 'Sneakers For Men  (Black)', 'Sneakers For Men  (Black)', 'Sneakers For Men  (Black)', 'Sneakers For Men  (Black)']\n"
     ]
    }
   ],
   "source": [
    "print(sneaker_description)"
   ]
  },
  {
   "cell_type": "code",
   "execution_count": 61,
   "id": "d666aa6f",
   "metadata": {},
   "outputs": [],
   "source": [
    "brand=[]\n",
    "start=0\n",
    "end=4\n",
    "for page in range(start,end):\n",
    "    all_brands=driver6.find_elements(By.CLASS_NAME,'_2WkVRV')\n",
    "    for b in all_brands:\n",
    "        latest_brands=b.text\n",
    "        brand.append(latest_brands)\n"
   ]
  },
  {
   "cell_type": "code",
   "execution_count": 62,
   "id": "99fdd855",
   "metadata": {},
   "outputs": [
    {
     "name": "stdout",
     "output_type": "stream",
     "text": [
      "160\n"
     ]
    }
   ],
   "source": [
    "print(len(brand))"
   ]
  },
  {
   "cell_type": "markdown",
   "id": "383f1a26",
   "metadata": {},
   "source": [
    "# Note: In Below code: we limit for only 160 item by implementing 'if' condition"
   ]
  },
  {
   "cell_type": "code",
   "execution_count": 76,
   "id": "505dd3c9",
   "metadata": {},
   "outputs": [],
   "source": [
    "price_sneaker=[]\n",
    "start=0\n",
    "end=4\n",
    "for page in range(start,end):\n",
    "    all_prices=driver6.find_elements(By.CLASS_NAME,'_30jeq3')\n",
    "    for cd in all_prices[:160]:\n",
    "        latest_price=cd.text\n",
    "        price_sneaker.append(latest_price)\n",
    "        if len(price_sneaker) >= 160:\n",
    "            break\n",
    "    "
   ]
  },
  {
   "cell_type": "code",
   "execution_count": 77,
   "id": "f9b1117c",
   "metadata": {},
   "outputs": [
    {
     "name": "stdout",
     "output_type": "stream",
     "text": [
      "160\n"
     ]
    }
   ],
   "source": [
    "print(len(price_sneaker))"
   ]
  },
  {
   "cell_type": "code",
   "execution_count": 65,
   "id": "06932795",
   "metadata": {},
   "outputs": [
    {
     "data": {
      "text/html": [
       "<div>\n",
       "<style scoped>\n",
       "    .dataframe tbody tr th:only-of-type {\n",
       "        vertical-align: middle;\n",
       "    }\n",
       "\n",
       "    .dataframe tbody tr th {\n",
       "        vertical-align: top;\n",
       "    }\n",
       "\n",
       "    .dataframe thead th {\n",
       "        text-align: right;\n",
       "    }\n",
       "</style>\n",
       "<table border=\"1\" class=\"dataframe\">\n",
       "  <thead>\n",
       "    <tr style=\"text-align: right;\">\n",
       "      <th></th>\n",
       "      <th>BRANDS</th>\n",
       "      <th>DESCRIPTION</th>\n",
       "    </tr>\n",
       "  </thead>\n",
       "  <tbody>\n",
       "    <tr>\n",
       "      <th>0</th>\n",
       "      <td>BRUTON</td>\n",
       "      <td>Combo Pack Of 2 Men’s Casual Shoes Sneakers Fo...</td>\n",
       "    </tr>\n",
       "    <tr>\n",
       "      <th>1</th>\n",
       "      <td>BRUTON</td>\n",
       "      <td>Combo Pack Of 2 Men’s Casual Shoes Sneakers Fo...</td>\n",
       "    </tr>\n",
       "    <tr>\n",
       "      <th>2</th>\n",
       "      <td>aadi</td>\n",
       "      <td>!Combo Pack Of 2 Casual Shoes! Sneakers For Me...</td>\n",
       "    </tr>\n",
       "    <tr>\n",
       "      <th>3</th>\n",
       "      <td>URBANBOX</td>\n",
       "      <td>!Combo Pack Of 2 Casual Shoes! Sneakers For Me...</td>\n",
       "    </tr>\n",
       "    <tr>\n",
       "      <th>4</th>\n",
       "      <td>Layasa</td>\n",
       "      <td>Synthetic Leather |Lightweight|Comfort|Summer|...</td>\n",
       "    </tr>\n",
       "    <tr>\n",
       "      <th>...</th>\n",
       "      <td>...</td>\n",
       "      <td>...</td>\n",
       "    </tr>\n",
       "    <tr>\n",
       "      <th>155</th>\n",
       "      <td>PUMA</td>\n",
       "      <td>Modern Trendy Sneakers boot Sneakers For Men S...</td>\n",
       "    </tr>\n",
       "    <tr>\n",
       "      <th>156</th>\n",
       "      <td>K- FOOTLANCE</td>\n",
       "      <td>Sneakers For Men  (Black)</td>\n",
       "    </tr>\n",
       "    <tr>\n",
       "      <th>157</th>\n",
       "      <td>SOLETHREADS REBEL</td>\n",
       "      <td>Sneakers For Men  (Black)</td>\n",
       "    </tr>\n",
       "    <tr>\n",
       "      <th>158</th>\n",
       "      <td>Nobelite</td>\n",
       "      <td>Sneakers For Men  (Black)</td>\n",
       "    </tr>\n",
       "    <tr>\n",
       "      <th>159</th>\n",
       "      <td>ATOM</td>\n",
       "      <td>Sneakers For Men  (Black)</td>\n",
       "    </tr>\n",
       "  </tbody>\n",
       "</table>\n",
       "<p>160 rows × 2 columns</p>\n",
       "</div>"
      ],
      "text/plain": [
       "                BRANDS                                        DESCRIPTION\n",
       "0               BRUTON  Combo Pack Of 2 Men’s Casual Shoes Sneakers Fo...\n",
       "1               BRUTON  Combo Pack Of 2 Men’s Casual Shoes Sneakers Fo...\n",
       "2                 aadi  !Combo Pack Of 2 Casual Shoes! Sneakers For Me...\n",
       "3             URBANBOX  !Combo Pack Of 2 Casual Shoes! Sneakers For Me...\n",
       "4               Layasa  Synthetic Leather |Lightweight|Comfort|Summer|...\n",
       "..                 ...                                                ...\n",
       "155               PUMA  Modern Trendy Sneakers boot Sneakers For Men S...\n",
       "156       K- FOOTLANCE                          Sneakers For Men  (Black)\n",
       "157  SOLETHREADS REBEL                          Sneakers For Men  (Black)\n",
       "158           Nobelite                          Sneakers For Men  (Black)\n",
       "159               ATOM                          Sneakers For Men  (Black)\n",
       "\n",
       "[160 rows x 2 columns]"
      ]
     },
     "execution_count": 65,
     "metadata": {},
     "output_type": "execute_result"
    }
   ],
   "source": [
    "sneakers=pd.DataFrame({'BRANDS':brand, 'DESCRIPTION':sneaker_description})\n",
    "sneakers"
   ]
  },
  {
   "cell_type": "code",
   "execution_count": 78,
   "id": "bd61804f",
   "metadata": {},
   "outputs": [
    {
     "data": {
      "text/html": [
       "<div>\n",
       "<style scoped>\n",
       "    .dataframe tbody tr th:only-of-type {\n",
       "        vertical-align: middle;\n",
       "    }\n",
       "\n",
       "    .dataframe tbody tr th {\n",
       "        vertical-align: top;\n",
       "    }\n",
       "\n",
       "    .dataframe thead th {\n",
       "        text-align: right;\n",
       "    }\n",
       "</style>\n",
       "<table border=\"1\" class=\"dataframe\">\n",
       "  <thead>\n",
       "    <tr style=\"text-align: right;\">\n",
       "      <th></th>\n",
       "      <th>BRANDS</th>\n",
       "      <th>DESCRIPTION</th>\n",
       "      <th>PRICE</th>\n",
       "    </tr>\n",
       "  </thead>\n",
       "  <tbody>\n",
       "    <tr>\n",
       "      <th>0</th>\n",
       "      <td>BRUTON</td>\n",
       "      <td>Combo Pack Of 2 Men’s Casual Shoes Sneakers Fo...</td>\n",
       "      <td>₹497</td>\n",
       "    </tr>\n",
       "    <tr>\n",
       "      <th>1</th>\n",
       "      <td>BRUTON</td>\n",
       "      <td>Combo Pack Of 2 Men’s Casual Shoes Sneakers Fo...</td>\n",
       "      <td>₹497</td>\n",
       "    </tr>\n",
       "    <tr>\n",
       "      <th>2</th>\n",
       "      <td>aadi</td>\n",
       "      <td>!Combo Pack Of 2 Casual Shoes! Sneakers For Me...</td>\n",
       "      <td>₹289</td>\n",
       "    </tr>\n",
       "    <tr>\n",
       "      <th>3</th>\n",
       "      <td>URBANBOX</td>\n",
       "      <td>!Combo Pack Of 2 Casual Shoes! Sneakers For Me...</td>\n",
       "      <td>₹299</td>\n",
       "    </tr>\n",
       "    <tr>\n",
       "      <th>4</th>\n",
       "      <td>Layasa</td>\n",
       "      <td>Synthetic Leather |Lightweight|Comfort|Summer|...</td>\n",
       "      <td>₹296</td>\n",
       "    </tr>\n",
       "    <tr>\n",
       "      <th>...</th>\n",
       "      <td>...</td>\n",
       "      <td>...</td>\n",
       "      <td>...</td>\n",
       "    </tr>\n",
       "    <tr>\n",
       "      <th>155</th>\n",
       "      <td>PUMA</td>\n",
       "      <td>Modern Trendy Sneakers boot Sneakers For Men S...</td>\n",
       "      <td>₹299</td>\n",
       "    </tr>\n",
       "    <tr>\n",
       "      <th>156</th>\n",
       "      <td>K- FOOTLANCE</td>\n",
       "      <td>Sneakers For Men  (Black)</td>\n",
       "      <td>₹499</td>\n",
       "    </tr>\n",
       "    <tr>\n",
       "      <th>157</th>\n",
       "      <td>SOLETHREADS REBEL</td>\n",
       "      <td>Sneakers For Men  (Black)</td>\n",
       "      <td>₹497</td>\n",
       "    </tr>\n",
       "    <tr>\n",
       "      <th>158</th>\n",
       "      <td>Nobelite</td>\n",
       "      <td>Sneakers For Men  (Black)</td>\n",
       "      <td>₹497</td>\n",
       "    </tr>\n",
       "    <tr>\n",
       "      <th>159</th>\n",
       "      <td>ATOM</td>\n",
       "      <td>Sneakers For Men  (Black)</td>\n",
       "      <td>₹349</td>\n",
       "    </tr>\n",
       "  </tbody>\n",
       "</table>\n",
       "<p>160 rows × 3 columns</p>\n",
       "</div>"
      ],
      "text/plain": [
       "                BRANDS                                        DESCRIPTION  \\\n",
       "0               BRUTON  Combo Pack Of 2 Men’s Casual Shoes Sneakers Fo...   \n",
       "1               BRUTON  Combo Pack Of 2 Men’s Casual Shoes Sneakers Fo...   \n",
       "2                 aadi  !Combo Pack Of 2 Casual Shoes! Sneakers For Me...   \n",
       "3             URBANBOX  !Combo Pack Of 2 Casual Shoes! Sneakers For Me...   \n",
       "4               Layasa  Synthetic Leather |Lightweight|Comfort|Summer|...   \n",
       "..                 ...                                                ...   \n",
       "155               PUMA  Modern Trendy Sneakers boot Sneakers For Men S...   \n",
       "156       K- FOOTLANCE                          Sneakers For Men  (Black)   \n",
       "157  SOLETHREADS REBEL                          Sneakers For Men  (Black)   \n",
       "158           Nobelite                          Sneakers For Men  (Black)   \n",
       "159               ATOM                          Sneakers For Men  (Black)   \n",
       "\n",
       "    PRICE  \n",
       "0    ₹497  \n",
       "1    ₹497  \n",
       "2    ₹289  \n",
       "3    ₹299  \n",
       "4    ₹296  \n",
       "..    ...  \n",
       "155  ₹299  \n",
       "156  ₹499  \n",
       "157  ₹497  \n",
       "158  ₹497  \n",
       "159  ₹349  \n",
       "\n",
       "[160 rows x 3 columns]"
      ]
     },
     "execution_count": 78,
     "metadata": {},
     "output_type": "execute_result"
    }
   ],
   "source": [
    "sneakers_new=pd.DataFrame({'BRANDS':brand, 'DESCRIPTION':sneaker_description,'PRICE':price_sneaker})\n",
    "sneakers_new"
   ]
  },
  {
   "cell_type": "code",
   "execution_count": 79,
   "id": "1dc62e00",
   "metadata": {},
   "outputs": [],
   "source": [
    "driver6.quit()"
   ]
  },
  {
   "cell_type": "markdown",
   "id": "d5ef804d",
   "metadata": {},
   "source": [
    "# Q7: Go to webpage https://www.amazon.in/ Enter “Laptop” in the search field and then click the search icon. Then\n",
    "set CPU Type filter to “Intel Core i7” as shown in the below image:\n",
    "Title, Rating And Price"
   ]
  },
  {
   "cell_type": "code",
   "execution_count": 82,
   "id": "bce6e4c3",
   "metadata": {},
   "outputs": [],
   "source": [
    "driver7=webdriver.Chrome()"
   ]
  },
  {
   "cell_type": "code",
   "execution_count": 105,
   "id": "35390e7b",
   "metadata": {},
   "outputs": [],
   "source": [
    "driver7.get('https://www.amazon.in/')"
   ]
  },
  {
   "cell_type": "code",
   "execution_count": 106,
   "id": "f2995af4",
   "metadata": {},
   "outputs": [],
   "source": [
    "search_lap=driver7.find_element(By.ID,\"twotabsearchtextbox\")\n",
    "search_lap.send_keys('laptop')\n"
   ]
  },
  {
   "cell_type": "code",
   "execution_count": 107,
   "id": "c6de186d",
   "metadata": {},
   "outputs": [],
   "source": [
    "search_lap_start=driver7.find_element(By.ID,\"nav-search-submit-button\")\n",
    "search_lap_start.click()"
   ]
  },
  {
   "cell_type": "code",
   "execution_count": 101,
   "id": "21fe9ae7",
   "metadata": {},
   "outputs": [],
   "source": [
    "#see_more_cpu=driver7.find_element(By.XPATH,'/html/body/div[1]/div[1]/div[1]/div[2]/div/div[3]/span/div[1]/div/div/div[6]/ul[9]/li/span/div/a/span')\n",
    "#driver7.execute_script(\"arguments[0].scrollIntoView(true);\", see_more_cpu)\n",
    "#see_more_cpu.click()\n",
    "\n",
    "#see_more_cpu=WebDriverWait(driver7, 10).until(EC.element_to_be_clickable((By.XPATH,'/html/body/div[1]/div[1]/div[1]/div[2]/div/div[3]/span/div[1]/div/div/div[6]/ul[9]/li/span/div/a/span')))\n",
    "#see_more_cpu.click()\n",
    "        "
   ]
  },
  {
   "cell_type": "code",
   "execution_count": null,
   "id": "209a0f17",
   "metadata": {},
   "outputs": [],
   "source": [
    "#element = WebDriverWait(driver, 10).until(\n",
    "    #EC.element_to_be_clickable((By.ID, \"element_id\"))\n"
   ]
  },
  {
   "cell_type": "code",
   "execution_count": 108,
   "id": "a5a4b8e7",
   "metadata": {},
   "outputs": [
    {
     "data": {
      "text/plain": [
       "<selenium.webdriver.remote.webelement.WebElement (session=\"66265e36952e2acc280095035f5197d1\", element=\"430A1074928EF68CC8CB18694D57E18C_element_297\")>"
      ]
     },
     "execution_count": 108,
     "metadata": {},
     "output_type": "execute_result"
    }
   ],
   "source": [
    "WebDriverWait(driver7, 10).until(EC.presence_of_element_located((By.XPATH, '//span[@class=\"a-price-whole\"]')))\n",
    "\n"
   ]
  },
  {
   "cell_type": "code",
   "execution_count": 110,
   "id": "fee687dc",
   "metadata": {},
   "outputs": [],
   "source": [
    "cpu_filter = driver7.find_element(By.XPATH, '//span[text()=\"Intel Core i7\"]')\n"
   ]
  },
  {
   "cell_type": "code",
   "execution_count": 112,
   "id": "0a47e0c4",
   "metadata": {},
   "outputs": [],
   "source": [
    "from selenium.webdriver.common.action_chains import ActionChains\n"
   ]
  },
  {
   "cell_type": "code",
   "execution_count": 113,
   "id": "8d05fbc3",
   "metadata": {},
   "outputs": [],
   "source": [
    "ActionChains(driver7).move_to_element(cpu_filter).click().perform()\n"
   ]
  },
  {
   "cell_type": "code",
   "execution_count": 115,
   "id": "6e972975",
   "metadata": {},
   "outputs": [
    {
     "data": {
      "text/plain": [
       "<selenium.webdriver.remote.webelement.WebElement (session=\"66265e36952e2acc280095035f5197d1\", element=\"133D71C0F692D50E56443B5978DA58E5_element_503\")>"
      ]
     },
     "execution_count": 115,
     "metadata": {},
     "output_type": "execute_result"
    }
   ],
   "source": [
    "WebDriverWait(driver7, 10).until(EC.presence_of_element_located((By.XPATH, '//span[@class=\"a-price-whole\"]')))\n"
   ]
  },
  {
   "cell_type": "code",
   "execution_count": 116,
   "id": "df78c13b",
   "metadata": {},
   "outputs": [],
   "source": [
    "title_lap=[]\n",
    "laptopName=driver7.find_elements(By.XPATH,'//h2[@class=\"a-size-mini a-spacing-none a-color-base s-line-clamp-2\"]')\n",
    "for l in laptopName:\n",
    "    brand_laptop=l.text\n",
    "    title_lap.append(brand_laptop)"
   ]
  },
  {
   "cell_type": "code",
   "execution_count": 117,
   "id": "10131c85",
   "metadata": {},
   "outputs": [
    {
     "name": "stdout",
     "output_type": "stream",
     "text": [
      "24\n"
     ]
    }
   ],
   "source": [
    "print(len(title_lap))"
   ]
  },
  {
   "cell_type": "code",
   "execution_count": 119,
   "id": "50e6bd68",
   "metadata": {},
   "outputs": [],
   "source": [
    "price_lap=[]\n",
    "laptopPrice=driver7.find_elements(By.XPATH,'//span[@class=\"a-price-whole\"]')\n",
    "for p in laptopPrice:\n",
    "    price_laptop=p.text\n",
    "    price_lap.append(price_laptop)\n",
    "    "
   ]
  },
  {
   "cell_type": "code",
   "execution_count": 120,
   "id": "a02ca0b4",
   "metadata": {},
   "outputs": [
    {
     "name": "stdout",
     "output_type": "stream",
     "text": [
      "24\n"
     ]
    }
   ],
   "source": [
    "print(len(price_lap))"
   ]
  },
  {
   "cell_type": "code",
   "execution_count": 127,
   "id": "75e38636",
   "metadata": {},
   "outputs": [],
   "source": [
    "rate_lap=[]\n",
    "ratinglaptop=driver7.find_elements(By.XPATH,'//span[@class=\"a-size-base s-underline-text\"]')\n",
    "for r in ratinglaptop:\n",
    "    laptopRatings=r.text\n",
    "    rate_lap.append(laptopRatings)\n",
    "    if len(rate_lap) >= 24:\n",
    "            break"
   ]
  },
  {
   "cell_type": "code",
   "execution_count": 128,
   "id": "1b581437",
   "metadata": {},
   "outputs": [
    {
     "name": "stdout",
     "output_type": "stream",
     "text": [
      "24\n"
     ]
    }
   ],
   "source": [
    "print(len(rate_lap))"
   ]
  },
  {
   "cell_type": "code",
   "execution_count": 129,
   "id": "27eba949",
   "metadata": {},
   "outputs": [
    {
     "data": {
      "text/html": [
       "<div>\n",
       "<style scoped>\n",
       "    .dataframe tbody tr th:only-of-type {\n",
       "        vertical-align: middle;\n",
       "    }\n",
       "\n",
       "    .dataframe tbody tr th {\n",
       "        vertical-align: top;\n",
       "    }\n",
       "\n",
       "    .dataframe thead th {\n",
       "        text-align: right;\n",
       "    }\n",
       "</style>\n",
       "<table border=\"1\" class=\"dataframe\">\n",
       "  <thead>\n",
       "    <tr style=\"text-align: right;\">\n",
       "      <th></th>\n",
       "      <th>Title</th>\n",
       "      <th>Price</th>\n",
       "      <th>Ratings</th>\n",
       "    </tr>\n",
       "  </thead>\n",
       "  <tbody>\n",
       "    <tr>\n",
       "      <th>0</th>\n",
       "      <td>HP Laptop 15s, 12th Gen Intel Core i7-1255U, 1...</td>\n",
       "      <td>63,990</td>\n",
       "      <td>20</td>\n",
       "    </tr>\n",
       "    <tr>\n",
       "      <th>1</th>\n",
       "      <td>Lenovo IdeaPad Slim 3 Intel Core i7 11th Gen 1...</td>\n",
       "      <td>52,990</td>\n",
       "      <td>59</td>\n",
       "    </tr>\n",
       "    <tr>\n",
       "      <th>2</th>\n",
       "      <td>ASUS Vivobook 15, Intel Core i7-12650H 12th Ge...</td>\n",
       "      <td>60,990</td>\n",
       "      <td>330</td>\n",
       "    </tr>\n",
       "    <tr>\n",
       "      <th>3</th>\n",
       "      <td>Dell Inspiron 5430 Laptop, Intel Core i7-1360P...</td>\n",
       "      <td>84,990</td>\n",
       "      <td>46</td>\n",
       "    </tr>\n",
       "    <tr>\n",
       "      <th>4</th>\n",
       "      <td>ASUS TUF Gaming F15, 15.6\"(39.62 cms) FHD 144H...</td>\n",
       "      <td>68,990</td>\n",
       "      <td>51</td>\n",
       "    </tr>\n",
       "    <tr>\n",
       "      <th>5</th>\n",
       "      <td>HP Victus Gaming Laptop, 12th Gen Intel Core i...</td>\n",
       "      <td>84,990</td>\n",
       "      <td>10</td>\n",
       "    </tr>\n",
       "    <tr>\n",
       "      <th>6</th>\n",
       "      <td>MSI Modern 14, Intel 12th Gen. i7-1255U, 36CM ...</td>\n",
       "      <td>49,990</td>\n",
       "      <td>23</td>\n",
       "    </tr>\n",
       "    <tr>\n",
       "      <th>7</th>\n",
       "      <td>ASUS TUF Gaming F15 (2023) 90WHr Battery, Inte...</td>\n",
       "      <td>1,04,990</td>\n",
       "      <td>86</td>\n",
       "    </tr>\n",
       "    <tr>\n",
       "      <th>8</th>\n",
       "      <td>MSI GF63 Thin, Intel Core i7-11800H, 40CM FHD ...</td>\n",
       "      <td>57,990</td>\n",
       "      <td>150</td>\n",
       "    </tr>\n",
       "    <tr>\n",
       "      <th>9</th>\n",
       "      <td>Acer Aspire Lite Premium Metal Laptop 11th Gen...</td>\n",
       "      <td>47,990</td>\n",
       "      <td>174</td>\n",
       "    </tr>\n",
       "    <tr>\n",
       "      <th>10</th>\n",
       "      <td>ASUS Creator Series Vivobook 14X OLED (2023), ...</td>\n",
       "      <td>79,990</td>\n",
       "      <td>16</td>\n",
       "    </tr>\n",
       "    <tr>\n",
       "      <th>11</th>\n",
       "      <td>MSI GF63 Thin, Intel Core i7-11800H, 40CM FHD ...</td>\n",
       "      <td>64,990</td>\n",
       "      <td>96</td>\n",
       "    </tr>\n",
       "    <tr>\n",
       "      <th>12</th>\n",
       "      <td>Fujitsu CH 13th Gen Intel Core i7 13.3 inch(33...</td>\n",
       "      <td>84,990</td>\n",
       "      <td>1</td>\n",
       "    </tr>\n",
       "    <tr>\n",
       "      <th>13</th>\n",
       "      <td>Acer Predator Helios Neo 16 Gaming Laptop 13th...</td>\n",
       "      <td>1,09,990</td>\n",
       "      <td>124</td>\n",
       "    </tr>\n",
       "    <tr>\n",
       "      <th>14</th>\n",
       "      <td>MSI Thin GF63, Intel 12th Gen. i7-12650H, 40CM...</td>\n",
       "      <td>84,990</td>\n",
       "      <td>13</td>\n",
       "    </tr>\n",
       "    <tr>\n",
       "      <th>15</th>\n",
       "      <td>Samsung [SmartChoice] Galaxy Book2 (NP750) Int...</td>\n",
       "      <td>74,990</td>\n",
       "      <td>161</td>\n",
       "    </tr>\n",
       "    <tr>\n",
       "      <th>16</th>\n",
       "      <td>Samsung Galaxy Book3 Core i7 13th Gen 1355U - ...</td>\n",
       "      <td>84,390</td>\n",
       "      <td>28</td>\n",
       "    </tr>\n",
       "    <tr>\n",
       "      <th>17</th>\n",
       "      <td>Acer Aspire 5 Gaming Laptop Intel Core i7 13th...</td>\n",
       "      <td>67,990</td>\n",
       "      <td>790</td>\n",
       "    </tr>\n",
       "    <tr>\n",
       "      <th>18</th>\n",
       "      <td>HP Pavilion 14 11th Gen Intel Core i7 16GB/1TB...</td>\n",
       "      <td>89,999</td>\n",
       "      <td>679</td>\n",
       "    </tr>\n",
       "    <tr>\n",
       "      <th>19</th>\n",
       "      <td>Dell XPS 9530, Intel Evo Platform Powered by I...</td>\n",
       "      <td>2,78,290</td>\n",
       "      <td>1</td>\n",
       "    </tr>\n",
       "    <tr>\n",
       "      <th>20</th>\n",
       "      <td>HP Pavilion 15, 13th Gen Intel Core i7-1360P, ...</td>\n",
       "      <td>88,990</td>\n",
       "      <td>13</td>\n",
       "    </tr>\n",
       "    <tr>\n",
       "      <th>21</th>\n",
       "      <td>(Refurbished) HP EliteBook x360 1030 G4 13.3-I...</td>\n",
       "      <td>41,499</td>\n",
       "      <td>9</td>\n",
       "    </tr>\n",
       "    <tr>\n",
       "      <th>22</th>\n",
       "      <td>ASUS Creator Series Vivobook 16X (2023), Intel...</td>\n",
       "      <td>1,04,990</td>\n",
       "      <td>3</td>\n",
       "    </tr>\n",
       "    <tr>\n",
       "      <th>23</th>\n",
       "      <td>ASUS Zenbook 14 Flip OLED (2023), Intel Core E...</td>\n",
       "      <td>1,29,990</td>\n",
       "      <td>2</td>\n",
       "    </tr>\n",
       "  </tbody>\n",
       "</table>\n",
       "</div>"
      ],
      "text/plain": [
       "                                                Title     Price Ratings\n",
       "0   HP Laptop 15s, 12th Gen Intel Core i7-1255U, 1...    63,990      20\n",
       "1   Lenovo IdeaPad Slim 3 Intel Core i7 11th Gen 1...    52,990      59\n",
       "2   ASUS Vivobook 15, Intel Core i7-12650H 12th Ge...    60,990     330\n",
       "3   Dell Inspiron 5430 Laptop, Intel Core i7-1360P...    84,990      46\n",
       "4   ASUS TUF Gaming F15, 15.6\"(39.62 cms) FHD 144H...    68,990      51\n",
       "5   HP Victus Gaming Laptop, 12th Gen Intel Core i...    84,990      10\n",
       "6   MSI Modern 14, Intel 12th Gen. i7-1255U, 36CM ...    49,990      23\n",
       "7   ASUS TUF Gaming F15 (2023) 90WHr Battery, Inte...  1,04,990      86\n",
       "8   MSI GF63 Thin, Intel Core i7-11800H, 40CM FHD ...    57,990     150\n",
       "9   Acer Aspire Lite Premium Metal Laptop 11th Gen...    47,990     174\n",
       "10  ASUS Creator Series Vivobook 14X OLED (2023), ...    79,990      16\n",
       "11  MSI GF63 Thin, Intel Core i7-11800H, 40CM FHD ...    64,990      96\n",
       "12  Fujitsu CH 13th Gen Intel Core i7 13.3 inch(33...    84,990       1\n",
       "13  Acer Predator Helios Neo 16 Gaming Laptop 13th...  1,09,990     124\n",
       "14  MSI Thin GF63, Intel 12th Gen. i7-12650H, 40CM...    84,990      13\n",
       "15  Samsung [SmartChoice] Galaxy Book2 (NP750) Int...    74,990     161\n",
       "16  Samsung Galaxy Book3 Core i7 13th Gen 1355U - ...    84,390      28\n",
       "17  Acer Aspire 5 Gaming Laptop Intel Core i7 13th...    67,990     790\n",
       "18  HP Pavilion 14 11th Gen Intel Core i7 16GB/1TB...    89,999     679\n",
       "19  Dell XPS 9530, Intel Evo Platform Powered by I...  2,78,290       1\n",
       "20  HP Pavilion 15, 13th Gen Intel Core i7-1360P, ...    88,990      13\n",
       "21  (Refurbished) HP EliteBook x360 1030 G4 13.3-I...    41,499       9\n",
       "22  ASUS Creator Series Vivobook 16X (2023), Intel...  1,04,990       3\n",
       "23  ASUS Zenbook 14 Flip OLED (2023), Intel Core E...  1,29,990       2"
      ]
     },
     "execution_count": 129,
     "metadata": {},
     "output_type": "execute_result"
    }
   ],
   "source": [
    "laptops=pd.DataFrame({'Title':title_lap, 'Price':price_lap, 'Ratings':rate_lap})\n",
    "laptops"
   ]
  },
  {
   "cell_type": "code",
   "execution_count": 130,
   "id": "86958ddf",
   "metadata": {},
   "outputs": [],
   "source": [
    "driver7.quit()"
   ]
  },
  {
   "cell_type": "markdown",
   "id": "f5538f30",
   "metadata": {},
   "source": [
    "# Q8: Write a python program to scrape data for Top 1000 Quotes of All Time.\n",
    "The above task will be done in following steps:\n",
    "1. First get the webpagehttps://www.azquotes.com/\n",
    "2. Click on TopQuotes\n",
    "3. Than scrap a) Quote b) Author c) Type Of Quotes\n"
   ]
  },
  {
   "cell_type": "code",
   "execution_count": 131,
   "id": "b76370bc",
   "metadata": {},
   "outputs": [],
   "source": [
    "driver8=webdriver.Chrome()"
   ]
  },
  {
   "cell_type": "code",
   "execution_count": 132,
   "id": "e87af54f",
   "metadata": {},
   "outputs": [],
   "source": [
    "driver8.get('https://www.azquotes.com/')"
   ]
  },
  {
   "cell_type": "code",
   "execution_count": 133,
   "id": "9ab01e4c",
   "metadata": {},
   "outputs": [],
   "source": [
    "top_quotes=driver8.find_element(By.XPATH,'/html/body/div[1]/div[1]/div[1]/div/div[3]/ul/li[5]/a')\n",
    "top_quotes.click()"
   ]
  },
  {
   "cell_type": "code",
   "execution_count": 134,
   "id": "d0fc3ec1",
   "metadata": {},
   "outputs": [],
   "source": [
    "quotes=[]\n",
    "start=0\n",
    "end=10\n",
    "for page in range(start,end):\n",
    "    myquotes=driver8.find_elements(By.XPATH,'//div[@class=\"wrap-block\"]/p/a[2]')\n",
    "    for m in myquotes:\n",
    "        onlyQuotes=m.text\n",
    "        quotes.append(onlyQuotes)"
   ]
  },
  {
   "cell_type": "code",
   "execution_count": 135,
   "id": "7faf177d",
   "metadata": {},
   "outputs": [
    {
     "name": "stdout",
     "output_type": "stream",
     "text": [
      "1000\n"
     ]
    }
   ],
   "source": [
    "print(len(quotes))"
   ]
  },
  {
   "cell_type": "code",
   "execution_count": 139,
   "id": "e17e511e",
   "metadata": {
    "scrolled": true
   },
   "outputs": [],
   "source": [
    "authors=[]\n",
    "start=0\n",
    "end=10\n",
    "for page in range(start,end):\n",
    "    authorsOnly=driver8.find_elements(By.XPATH,'//div[@class=\"author\"]')\n",
    "    for a in authorsOnly:\n",
    "        nameAuthor=a.text\n",
    "        authors.append(nameAuthor)"
   ]
  },
  {
   "cell_type": "code",
   "execution_count": 140,
   "id": "8636cb2d",
   "metadata": {},
   "outputs": [
    {
     "name": "stdout",
     "output_type": "stream",
     "text": [
      "1000\n"
     ]
    }
   ],
   "source": [
    "print(len(authors))"
   ]
  },
  {
   "cell_type": "code",
   "execution_count": 141,
   "id": "afebb2dc",
   "metadata": {},
   "outputs": [],
   "source": [
    "typeQuotes=[]\n",
    "start=0\n",
    "end=10\n",
    "for page in range(start,end):\n",
    "    quotesOnly=driver8.find_elements(By.XPATH,'//div[@class=\"tags\"]')\n",
    "    for q in quotesOnly:\n",
    "        myQuotes=q.text\n",
    "        typeQuotes.append(myQuotes)"
   ]
  },
  {
   "cell_type": "code",
   "execution_count": 142,
   "id": "529b6a66",
   "metadata": {},
   "outputs": [
    {
     "name": "stdout",
     "output_type": "stream",
     "text": [
      "1000\n"
     ]
    }
   ],
   "source": [
    "print(len(typeQuotes))"
   ]
  },
  {
   "cell_type": "code",
   "execution_count": 143,
   "id": "7d406cd0",
   "metadata": {},
   "outputs": [
    {
     "data": {
      "text/html": [
       "<div>\n",
       "<style scoped>\n",
       "    .dataframe tbody tr th:only-of-type {\n",
       "        vertical-align: middle;\n",
       "    }\n",
       "\n",
       "    .dataframe tbody tr th {\n",
       "        vertical-align: top;\n",
       "    }\n",
       "\n",
       "    .dataframe thead th {\n",
       "        text-align: right;\n",
       "    }\n",
       "</style>\n",
       "<table border=\"1\" class=\"dataframe\">\n",
       "  <thead>\n",
       "    <tr style=\"text-align: right;\">\n",
       "      <th></th>\n",
       "      <th>QUOTES</th>\n",
       "      <th>AUTHOR-NAME</th>\n",
       "      <th>QUOTES-TYPES</th>\n",
       "    </tr>\n",
       "  </thead>\n",
       "  <tbody>\n",
       "    <tr>\n",
       "      <th>0</th>\n",
       "      <td>The essence of strategy is choosing what not t...</td>\n",
       "      <td>Michael Porter</td>\n",
       "      <td>Essence, Deep Thought, Transcendentalism</td>\n",
       "    </tr>\n",
       "    <tr>\n",
       "      <th>1</th>\n",
       "      <td>One cannot and must not try to erase the past ...</td>\n",
       "      <td>Golda Meir</td>\n",
       "      <td>Inspiration, Past, Trying</td>\n",
       "    </tr>\n",
       "    <tr>\n",
       "      <th>2</th>\n",
       "      <td>Patriotism means to stand by the country. It d...</td>\n",
       "      <td>Theodore Roosevelt</td>\n",
       "      <td>Country, Peace, War</td>\n",
       "    </tr>\n",
       "    <tr>\n",
       "      <th>3</th>\n",
       "      <td>Death is something inevitable. When a man has ...</td>\n",
       "      <td>Nelson Mandela</td>\n",
       "      <td>Inspirational, Motivational, Death</td>\n",
       "    </tr>\n",
       "    <tr>\n",
       "      <th>4</th>\n",
       "      <td>You have to love a nation that celebrates its ...</td>\n",
       "      <td>Erma Bombeck</td>\n",
       "      <td>4th Of July, Food, Patriotic</td>\n",
       "    </tr>\n",
       "    <tr>\n",
       "      <th>...</th>\n",
       "      <td>...</td>\n",
       "      <td>...</td>\n",
       "      <td>...</td>\n",
       "    </tr>\n",
       "    <tr>\n",
       "      <th>995</th>\n",
       "      <td>When the going gets weird, the weird turn pro.</td>\n",
       "      <td>Hunter S. Thompson</td>\n",
       "      <td>Music, Sports, Hunting</td>\n",
       "    </tr>\n",
       "    <tr>\n",
       "      <th>996</th>\n",
       "      <td>When a train goes through a tunnel and it gets...</td>\n",
       "      <td>Corrie Ten Boom</td>\n",
       "      <td>Trust, Encouraging, Uplifting</td>\n",
       "    </tr>\n",
       "    <tr>\n",
       "      <th>997</th>\n",
       "      <td>If you think you are too small to make a diffe...</td>\n",
       "      <td>Dalai Lama</td>\n",
       "      <td>Inspirational, Funny, Change</td>\n",
       "    </tr>\n",
       "    <tr>\n",
       "      <th>998</th>\n",
       "      <td>God doesn't require us to succeed, he only req...</td>\n",
       "      <td>Mother Teresa</td>\n",
       "      <td>Success, God, Mother</td>\n",
       "    </tr>\n",
       "    <tr>\n",
       "      <th>999</th>\n",
       "      <td>Change your thoughts and you change your world.</td>\n",
       "      <td>Norman Vincent Peale</td>\n",
       "      <td>Inspirational, Motivational, Change</td>\n",
       "    </tr>\n",
       "  </tbody>\n",
       "</table>\n",
       "<p>1000 rows × 3 columns</p>\n",
       "</div>"
      ],
      "text/plain": [
       "                                                QUOTES           AUTHOR-NAME  \\\n",
       "0    The essence of strategy is choosing what not t...        Michael Porter   \n",
       "1    One cannot and must not try to erase the past ...            Golda Meir   \n",
       "2    Patriotism means to stand by the country. It d...    Theodore Roosevelt   \n",
       "3    Death is something inevitable. When a man has ...        Nelson Mandela   \n",
       "4    You have to love a nation that celebrates its ...          Erma Bombeck   \n",
       "..                                                 ...                   ...   \n",
       "995     When the going gets weird, the weird turn pro.    Hunter S. Thompson   \n",
       "996  When a train goes through a tunnel and it gets...       Corrie Ten Boom   \n",
       "997  If you think you are too small to make a diffe...            Dalai Lama   \n",
       "998  God doesn't require us to succeed, he only req...         Mother Teresa   \n",
       "999    Change your thoughts and you change your world.  Norman Vincent Peale   \n",
       "\n",
       "                                 QUOTES-TYPES  \n",
       "0    Essence, Deep Thought, Transcendentalism  \n",
       "1                   Inspiration, Past, Trying  \n",
       "2                         Country, Peace, War  \n",
       "3          Inspirational, Motivational, Death  \n",
       "4                4th Of July, Food, Patriotic  \n",
       "..                                        ...  \n",
       "995                    Music, Sports, Hunting  \n",
       "996             Trust, Encouraging, Uplifting  \n",
       "997              Inspirational, Funny, Change  \n",
       "998                      Success, God, Mother  \n",
       "999       Inspirational, Motivational, Change  \n",
       "\n",
       "[1000 rows x 3 columns]"
      ]
     },
     "execution_count": 143,
     "metadata": {},
     "output_type": "execute_result"
    }
   ],
   "source": [
    "azquotes=pd.DataFrame({'QUOTES':quotes, 'AUTHOR-NAME':authors, 'QUOTES-TYPES':typeQuotes})\n",
    "azquotes"
   ]
  },
  {
   "cell_type": "code",
   "execution_count": 144,
   "id": "3ac19c96",
   "metadata": {},
   "outputs": [],
   "source": [
    "driver8.quit()"
   ]
  },
  {
   "cell_type": "markdown",
   "id": "7df1a271",
   "metadata": {},
   "source": [
    "# Q9: Write a python program to display list of respected former Prime Ministers of India(i.e. Name, Born-Dead,\n",
    "Term of office, Remarks) from https://www.jagranjosh.com/.\n",
    "This task will be done in following steps:\n",
    "1. First get the webpagehttps://www.jagranjosh.com/\n",
    "2. Then You have to click on the GK option\n",
    "3. Then click on the List of all Prime Ministers of India\n",
    "4. Then scrap the mentioned data and make theDataFrame."
   ]
  },
  {
   "cell_type": "code",
   "execution_count": 146,
   "id": "3a80790a",
   "metadata": {},
   "outputs": [],
   "source": [
    "driver9=webdriver.Chrome()"
   ]
  },
  {
   "cell_type": "code",
   "execution_count": 148,
   "id": "9d25c7b6",
   "metadata": {},
   "outputs": [],
   "source": [
    "driver9.get('https://www.jagranjosh.com/')"
   ]
  },
  {
   "cell_type": "code",
   "execution_count": 152,
   "id": "aafc6ed4",
   "metadata": {},
   "outputs": [],
   "source": [
    "gk=driver9.find_element(By.XPATH,'//div[@class=\"Header_topNav__NnKZp\"]/ul/li[6]/a')\n",
    "gk.click()"
   ]
  },
  {
   "cell_type": "code",
   "execution_count": 153,
   "id": "350329f7",
   "metadata": {},
   "outputs": [],
   "source": [
    "pm_list=driver9.find_element(By.XPATH,'/html/body/div[2]/div/div/div[2]/div/div[10]/div/div/ul/li[2]/a')\n",
    "pm_list.click()"
   ]
  },
  {
   "cell_type": "code",
   "execution_count": null,
   "id": "1bf54758",
   "metadata": {},
   "outputs": [],
   "source": []
  }
 ],
 "metadata": {
  "kernelspec": {
   "display_name": "Python 3 (ipykernel)",
   "language": "python",
   "name": "python3"
  },
  "language_info": {
   "codemirror_mode": {
    "name": "ipython",
    "version": 3
   },
   "file_extension": ".py",
   "mimetype": "text/x-python",
   "name": "python",
   "nbconvert_exporter": "python",
   "pygments_lexer": "ipython3",
   "version": "3.10.9"
  }
 },
 "nbformat": 4,
 "nbformat_minor": 5
}
