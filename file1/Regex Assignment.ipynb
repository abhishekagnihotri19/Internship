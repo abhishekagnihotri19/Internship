{
 "cells": [
  {
   "cell_type": "markdown",
   "id": "c2fbc2f4",
   "metadata": {},
   "source": [
    "# Regex Assignment- ABHISHEK AGNIHOTRI"
   ]
  },
  {
   "cell_type": "code",
   "execution_count": 1,
   "id": "13e349a5",
   "metadata": {},
   "outputs": [],
   "source": [
    "import regex as re"
   ]
  },
  {
   "cell_type": "markdown",
   "id": "f7e153dc",
   "metadata": {},
   "source": [
    "# Question 1- Write a RegEx pattern in python program to check that a string contains only a certain set of characters (in this case a-z, A-Z and 0-9)."
   ]
  },
  {
   "cell_type": "code",
   "execution_count": 3,
   "id": "fd5142b9",
   "metadata": {},
   "outputs": [
    {
     "name": "stdout",
     "output_type": "stream",
     "text": [
      "Enter a string: hii this is abhishek\n",
      "The string contains characters other than a-z, A-Z, and 0-9.\n"
     ]
    }
   ],
   "source": [
    "def is_valid_string(input_string):\n",
    "    pattern = r'^[a-zA-Z0-9]+$'\n",
    "      if re.match(pattern, input_string):\n",
    "        return True\n",
    "    else:\n",
    "        return False\n",
    "# Example usage\n",
    "input_string = input(\"Enter a string: \")\n",
    "\n",
    "if is_valid_string(input_string):\n",
    "    print(\"The string contains only a-z, A-Z, and 0-9.\")\n",
    "else:\n",
    "    print(\"The string contains characters other than a-z, A-Z, and 0-9.\")\n"
   ]
  },
  {
   "cell_type": "markdown",
   "id": "ec18169a",
   "metadata": {},
   "source": [
    "# Question 2- Write a RegEx pattern that matches a string that has an a followed by zero or more b's"
   ]
  },
  {
   "cell_type": "code",
   "execution_count": null,
   "id": "159b0972",
   "metadata": {},
   "outputs": [],
   "source": [
    "pattern = r'ab*'"
   ]
  },
  {
   "cell_type": "markdown",
   "id": "85f48172",
   "metadata": {},
   "source": [
    "# Question 3-  Write a RegEx pattern that matches a string that has an a followed by one or more b's"
   ]
  },
  {
   "cell_type": "code",
   "execution_count": null,
   "id": "af29ec4b",
   "metadata": {},
   "outputs": [],
   "source": [
    "pattern = r'ab+'\n"
   ]
  },
  {
   "cell_type": "markdown",
   "id": "df9b869e",
   "metadata": {},
   "source": [
    "# Question 4- Write a RegEx pattern that matches a string that has an a followed by zero or one 'b'."
   ]
  },
  {
   "cell_type": "code",
   "execution_count": null,
   "id": "319e1382",
   "metadata": {},
   "outputs": [],
   "source": [
    "pattern = r'ab?'\n",
    "#a matches the character 'a' literally.\n"
   ]
  },
  {
   "cell_type": "markdown",
   "id": "77963dfc",
   "metadata": {},
   "source": [
    "# Question 5- Write a RegEx pattern in python program that matches a string that has an a followed by three 'b'."
   ]
  },
  {
   "cell_type": "code",
   "execution_count": 9,
   "id": "e996f348",
   "metadata": {},
   "outputs": [
    {
     "name": "stdout",
     "output_type": "stream",
     "text": [
      "Enter a string: anabbb\n",
      "The string does not match the pattern.\n"
     ]
    }
   ],
   "source": [
    "def match_pattern(text):\n",
    "    pattern = r'ab{3}'\n",
    "    if re.fullmatch(pattern, text):\n",
    "        return True\n",
    "    else:\n",
    "        return False\n",
    "\n",
    "# Example usage\n",
    "text = input(\"Enter a string: \")\n",
    "\n",
    "if match_pattern(text):\n",
    "    print(\"The string matches the pattern\")\n",
    "else:\n",
    "    print(\"The string does not match the pattern.\")\n"
   ]
  },
  {
   "cell_type": "markdown",
   "id": "877b1626",
   "metadata": {},
   "source": [
    "# Question 6:  Write a RegEx pattern in python program that matches a string that has an a followed by two to three 'b'."
   ]
  },
  {
   "cell_type": "code",
   "execution_count": 4,
   "id": "23bd5ae5",
   "metadata": {},
   "outputs": [
    {
     "name": "stdout",
     "output_type": "stream",
     "text": [
      "Enter a string: this is abhishek\n",
      "The string does not match the pattern.\n"
     ]
    }
   ],
   "source": [
    "def match_pattern(text):\n",
    "    pattern = r'ab{2,3}'\n",
    "    if re.fullmatch(pattern, text):\n",
    "        return True\n",
    "    else:\n",
    "        return False\n",
    "\n",
    "# Example usage\n",
    "text = input(\"Enter a string: \")\n",
    "\n",
    "if match_pattern(text):\n",
    "    print(\"The string matches the pattern\")\n",
    "else:\n",
    "    print(\"The string does not match the pattern.\")\n"
   ]
  },
  {
   "cell_type": "markdown",
   "id": "7ca8475b",
   "metadata": {},
   "source": [
    "# Question 7- Write a Python program that matches a string that has an 'a' followed by anything, ending in 'b'.\n"
   ]
  },
  {
   "cell_type": "code",
   "execution_count": 14,
   "id": "564a79f7",
   "metadata": {},
   "outputs": [
    {
     "name": "stdout",
     "output_type": "stream",
     "text": [
      "text: adverrb\n",
      "The string matches the pattern: 'a' followed by anything, ending in 'b'.\n"
     ]
    }
   ],
   "source": [
    "def match_pattern(text):\n",
    "    pattern = r'^a.*b$'\n",
    "    if re.fullmatch(pattern, text):\n",
    "        return True\n",
    "    else:\n",
    "        return False\n",
    "\n",
    "# Example usage\n",
    "input_string = input(\"text: \")\n",
    "\n",
    "if match_pattern(text):\n",
    "    print(\"The string matches the pattern: 'a' followed by anything, ending in 'b'.\")\n",
    "else:\n",
    "    print(\"The string does not match the pattern.\")\n"
   ]
  },
  {
   "cell_type": "markdown",
   "id": "cbc07d43",
   "metadata": {},
   "source": [
    "# Question 8- Write a RegEx pattern in python program that matches a word at the beginning of a string."
   ]
  },
  {
   "cell_type": "code",
   "execution_count": 17,
   "id": "0ccff2fa",
   "metadata": {},
   "outputs": [
    {
     "name": "stdout",
     "output_type": "stream",
     "text": [
      "Enter a string: abhishek\n",
      "The word at the beginning of the string is: abhishek\n"
     ]
    }
   ],
   "source": [
    "def match_pattern(input_string):\n",
    "    pattern = r'^\\w+'\n",
    "    match = re.match(pattern, input_text)\n",
    "    if match:\n",
    "        return match.group()\n",
    "    else:\n",
    "        return None\n",
    "\n",
    "# Example usage\n",
    "input_text = input(\"Enter a string: \")\n",
    "\n",
    "matched_word = match_pattern(input_text)\n",
    "if matched_word:\n",
    "    print(f\"The word at the beginning of the string is: {matched_word}\")\n",
    "else:\n",
    "    print(\"No word found at the beginning of the string.\")\n",
    "\n"
   ]
  },
  {
   "cell_type": "markdown",
   "id": "29d4dde4",
   "metadata": {},
   "source": [
    "# Question 9- Write a RegEx pattern in python program that matches a word at the end of a string."
   ]
  },
  {
   "cell_type": "code",
   "execution_count": 19,
   "id": "ac539a8d",
   "metadata": {},
   "outputs": [
    {
     "name": "stdout",
     "output_type": "stream",
     "text": [
      "Enter a string: AGNIHOTRI ABHISHEK\n",
      "The word at the end of the string is: ABHISHEK\n"
     ]
    }
   ],
   "source": [
    "def match_pattern(input_string):\n",
    "    pattern = r'\\w+$'\n",
    "    match = re.search(pattern, input_string)\n",
    "    if match:\n",
    "        return match.group()\n",
    "    else:\n",
    "        return None\n",
    "\n",
    "# Example usage\n",
    "input_string = input(\"Enter a string: \")\n",
    "\n",
    "matched_word = match_pattern(input_string)\n",
    "if matched_word:\n",
    "    print(f\"The word at the end of the string is: {matched_word}\")\n",
    "else:\n",
    "    print(\"No word found at the end of the string.\")\n"
   ]
  },
  {
   "cell_type": "markdown",
   "id": "22b86c43",
   "metadata": {},
   "source": [
    "# QUESTION 10 Write a RegEx pattern in python program to find all words that are 4 digits long in a string"
   ]
  },
  {
   "cell_type": "code",
   "execution_count": 21,
   "id": "534d7fdb",
   "metadata": {},
   "outputs": [
    {
     "name": "stdout",
     "output_type": "stream",
     "text": [
      "Enter a string: '01 0132 231875 1458 301 2725\n",
      "Four-digit words found in the string: 0132, 1458, 2725\n"
     ]
    }
   ],
   "source": [
    "import re\n",
    "\n",
    "def find_four_digit_words(input_digit):\n",
    "    pattern = r'\\b\\d{4}\\b'\n",
    "    return re.findall(pattern, input_digit)\n",
    "\n",
    "# Example usage\n",
    "input_digit = input(\"Enter a string: \")\n",
    "\n",
    "four_digit_words = find_four_digit_words(input_digit)\n",
    "if four_digit_words:\n",
    "    print(f\"Four-digit words found in the string: {', '.join(four_digit_words)}\")\n",
    "else:\n",
    "    print(\"No four-digit words found in the string.\")\n",
    "\n"
   ]
  }
 ],
 "metadata": {
  "kernelspec": {
   "display_name": "Python 3 (ipykernel)",
   "language": "python",
   "name": "python3"
  },
  "language_info": {
   "codemirror_mode": {
    "name": "ipython",
    "version": 3
   },
   "file_extension": ".py",
   "mimetype": "text/x-python",
   "name": "python",
   "nbconvert_exporter": "python",
   "pygments_lexer": "ipython3",
   "version": "3.10.9"
  }
 },
 "nbformat": 4,
 "nbformat_minor": 5
}
